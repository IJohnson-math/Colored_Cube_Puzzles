{
 "cells": [
  {
   "cell_type": "code",
   "execution_count": 1,
   "id": "536576a7",
   "metadata": {},
   "outputs": [
    {
     "name": "stdout",
     "output_type": "stream",
     "text": [
      "{'123.456': [123, 253, 354, 134, 146, 456, 265, 162], '123.465': [152, 123, 134, 145, 465, 364, 263, 256], '123.546': [123, 243, 345, 135, 156, 465, 264, 162], '123.564': [154, 142, 123, 135, 365, 263, 246, 456], '123.645': [243, 123, 152, 254, 456, 165, 136, 346], '123.654': [245, 253, 123, 142, 164, 136, 356, 465], '124.356': [143, 124, 254, 345, 356, 265, 162, 136], '124.365': [152, 124, 143, 135, 365, 346, 264, 256], '124.536': [354, 145, 124, 234, 263, 162, 156, 365], '124.563': [153, 132, 124, 145, 465, 264, 236, 356], '124.635': [124, 152, 253, 234, 364, 356, 165, 146], '124.653': [124, 132, 235, 254, 456, 365, 163, 146], '125.346': [245, 354, 153, 125, 162, 136, 346, 264], '125.364': [153, 134, 142, 125, 265, 246, 364, 356], '125.436': [235, 345, 154, 125, 162, 146, 364, 263], '125.463': [154, 143, 132, 125, 265, 236, 346, 456], '125.634': [243, 235, 125, 142, 164, 156, 365, 346], '125.643': [245, 125, 132, 234, 364, 163, 156, 465], '126.345': [152, 135, 345, 254, 246, 364, 163, 126], '126.354': [354, 245, 142, 134, 163, 126, 256, 365], '126.435': [152, 145, 354, 253, 236, 346, 164, 126], '126.453': [143, 345, 235, 132, 126, 256, 465, 164], '126.534': [243, 142, 154, 345, 356, 165, 126, 236], '126.543': [153, 354, 234, 132, 126, 246, 456, 165], '134.526': [243, 254, 145, 134, 163, 156, 265, 236], '134.625': [153, 235, 243, 134, 146, 264, 256, 165], '135.426': [245, 154, 135, 253, 236, 163, 146, 264], '135.624': [143, 234, 253, 135, 156, 265, 246, 164], '136.425': [235, 153, 145, 254, 246, 164, 136, 263], '136.524': [143, 154, 245, 234, 263, 256, 165, 136]}\n",
      "30\n",
      "['123.456', '123.465', '123.546', '123.564', '123.645', '123.654', '124.356', '124.365', '124.536', '124.563', '124.635', '124.653', '125.346', '125.364', '125.436', '125.463', '125.634', '125.643', '126.345', '126.354', '126.435', '126.453', '126.534', '126.543', '134.526', '134.625', '135.426', '135.624', '136.425', '136.524']\n"
     ]
    }
   ],
   "source": [
    "import csv\n",
    "import random\n",
    "from matplotlib import pyplot as plt\n",
    "import numpy as np\n",
    "import pandas as pd\n",
    "\n",
    "def csv_to_kvs(fileName):\n",
    "    make_dictionary = {}\n",
    "    with open(fileName,'r') as csvFile:\n",
    "        csvreader = csv.reader(csvFile)\n",
    "        for row in csvreader:\n",
    "            #position 1 and following are integers\n",
    "            make_dictionary[row[0]] = [int(val) for val in row[1:]]\n",
    "        print(make_dictionary)\n",
    "    return make_dictionary\n",
    "\n",
    "C36=csv_to_kvs('C_36all.csv')  \n",
    "\n",
    "\n",
    "print(len(C36.keys()))\n",
    "\n",
    "keysListC36 = list(C36.keys()) \n",
    "print(keysListC36)"
   ]
  },
  {
   "cell_type": "code",
   "execution_count": 2,
   "id": "8d789db4",
   "metadata": {},
   "outputs": [
    {
     "name": "stdout",
     "output_type": "stream",
     "text": [
      "Today's date: 2024-04-11\n"
     ]
    }
   ],
   "source": [
    "%run module2x2x2_ext_match.ipynb\n",
    "\n",
    "from datetime import date\n",
    "\n",
    "today = date.today()\n",
    "print(\"Today's date:\", today)"
   ]
  },
  {
   "cell_type": "markdown",
   "id": "9874ac50",
   "metadata": {},
   "source": [
    "# Number fo buildable cubes using sets of 9 cubes \n",
    "\n",
    "## Two new functions\n",
    "\n",
    "**RandomKCubes**(dictionary, k)\n",
    "dictionary = dictionary of cubes\n",
    "k = set of size k\n",
    "output: a random selection of k cubes from dictionary\n",
    "\n",
    "**NumberBuildable4aSetNINECubes**(a_collection_of_nine_cubes, dictionary_possible_targets_to_build)\n",
    "a_collection_of_nine_cubes is the output of RandomKCubes\n",
    "output: the number of cubes in dictionary_possible_targets_to_build that are buildable with a_collection_of_nine_cubes"
   ]
  },
  {
   "cell_type": "code",
   "execution_count": 6,
   "id": "1529f698",
   "metadata": {},
   "outputs": [
    {
     "data": {
      "text/plain": [
       "4"
      ]
     },
     "execution_count": 6,
     "metadata": {},
     "output_type": "execute_result"
    }
   ],
   "source": [
    "#Example.  \n",
    "CollectionOfNine = RandomKCubes(C36, 9)\n",
    "NumberBuildable4aSetNINECubes(CollectionOfNine, C36)"
   ]
  },
  {
   "cell_type": "code",
   "execution_count": 7,
   "id": "58744d15",
   "metadata": {},
   "outputs": [],
   "source": [
    "#NOTE: this code is also in module2x2x2_ext_match\n",
    "def DistributionBuildNum4SetsOfNine(dictionary_sets, number_samples):\n",
    "    list_numberBuildable=[]\n",
    "    for i in range(number_samples):\n",
    "        nine_set = RandomKCubes(dictionary_sets, 9)\n",
    "        n = NumberBuildable4aSetNINECubes(nine_set, dictionary_sets)\n",
    "        list_numberBuildable.append(n)\n",
    "        if n==8:\n",
    "            print(nine_set)\n",
    "        \n",
    "    return list_numberBuildable"
   ]
  },
  {
   "cell_type": "code",
   "execution_count": 21,
   "id": "914d3119",
   "metadata": {},
   "outputs": [
    {
     "name": "stdout",
     "output_type": "stream",
     "text": [
      "[[143, 154, 245, 234, 263, 256, 165, 136], [245, 253, 123, 142, 164, 136, 356, 465], [354, 145, 124, 234, 263, 162, 156, 365], [143, 345, 235, 132, 126, 256, 465, 164], [153, 134, 142, 125, 265, 246, 364, 356], [153, 354, 234, 132, 126, 246, 456, 165], [123, 253, 354, 134, 146, 456, 265, 162], [152, 135, 345, 254, 246, 364, 163, 126], [235, 345, 154, 125, 162, 146, 364, 263]]\n",
      "[[245, 253, 123, 142, 164, 136, 356, 465], [245, 125, 132, 234, 364, 163, 156, 465], [152, 124, 143, 135, 365, 346, 264, 256], [243, 235, 125, 142, 164, 156, 365, 346], [354, 145, 124, 234, 263, 162, 156, 365], [153, 354, 234, 132, 126, 246, 456, 165], [354, 245, 142, 134, 163, 126, 256, 365], [143, 345, 235, 132, 126, 256, 465, 164], [154, 143, 132, 125, 265, 236, 346, 456]]\n",
      "[[153, 354, 234, 132, 126, 246, 456, 165], [153, 134, 142, 125, 265, 246, 364, 356], [143, 345, 235, 132, 126, 256, 465, 164], [243, 235, 125, 142, 164, 156, 365, 346], [245, 154, 135, 253, 236, 163, 146, 264], [152, 124, 143, 135, 365, 346, 264, 256], [124, 152, 253, 234, 364, 356, 165, 146], [243, 254, 145, 134, 163, 156, 265, 236], [243, 142, 154, 345, 356, 165, 126, 236]]\n",
      "[[152, 145, 354, 253, 236, 346, 164, 126], [245, 125, 132, 234, 364, 163, 156, 465], [243, 254, 145, 134, 163, 156, 265, 236], [143, 154, 245, 234, 263, 256, 165, 136], [235, 153, 145, 254, 246, 164, 136, 263], [143, 345, 235, 132, 126, 256, 465, 164], [243, 123, 152, 254, 456, 165, 136, 346], [153, 134, 142, 125, 265, 246, 364, 356], [154, 142, 123, 135, 365, 263, 246, 456]]\n",
      "[[153, 132, 124, 145, 465, 264, 236, 356], [123, 253, 354, 134, 146, 456, 265, 162], [245, 125, 132, 234, 364, 163, 156, 465], [124, 152, 253, 234, 364, 356, 165, 146], [153, 134, 142, 125, 265, 246, 364, 356], [154, 142, 123, 135, 365, 263, 246, 456], [152, 124, 143, 135, 365, 346, 264, 256], [143, 154, 245, 234, 263, 256, 165, 136], [152, 145, 354, 253, 236, 346, 164, 126]]\n",
      "[[152, 135, 345, 254, 246, 364, 163, 126], [154, 143, 132, 125, 265, 236, 346, 456], [123, 253, 354, 134, 146, 456, 265, 162], [243, 235, 125, 142, 164, 156, 365, 346], [152, 145, 354, 253, 236, 346, 164, 126], [245, 125, 132, 234, 364, 163, 156, 465], [235, 153, 145, 254, 246, 164, 136, 263], [153, 235, 243, 134, 146, 264, 256, 165], [143, 124, 254, 345, 356, 265, 162, 136]]\n",
      "[[354, 245, 142, 134, 163, 126, 256, 365], [143, 124, 254, 345, 356, 265, 162, 136], [153, 132, 124, 145, 465, 264, 236, 356], [243, 142, 154, 345, 356, 165, 126, 236], [152, 145, 354, 253, 236, 346, 164, 126], [235, 345, 154, 125, 162, 146, 364, 263], [245, 125, 132, 234, 364, 163, 156, 465], [123, 253, 354, 134, 146, 456, 265, 162], [143, 234, 253, 135, 156, 265, 246, 164]]\n",
      "[[143, 345, 235, 132, 126, 256, 465, 164], [153, 354, 234, 132, 126, 246, 456, 165], [143, 234, 253, 135, 156, 265, 246, 164], [245, 154, 135, 253, 236, 163, 146, 264], [143, 124, 254, 345, 356, 265, 162, 136], [152, 145, 354, 253, 236, 346, 164, 126], [235, 153, 145, 254, 246, 164, 136, 263], [245, 253, 123, 142, 164, 136, 356, 465], [152, 123, 134, 145, 465, 364, 263, 256]]\n",
      "[[153, 235, 243, 134, 146, 264, 256, 165], [153, 132, 124, 145, 465, 264, 236, 356], [354, 145, 124, 234, 263, 162, 156, 365], [243, 142, 154, 345, 356, 165, 126, 236], [235, 345, 154, 125, 162, 146, 364, 263], [154, 143, 132, 125, 265, 236, 346, 456], [235, 153, 145, 254, 246, 164, 136, 263], [143, 124, 254, 345, 356, 265, 162, 136], [245, 125, 132, 234, 364, 163, 156, 465]]\n"
     ]
    },
    {
     "data": {
      "image/png": "[encoded data removed]",
      "text/plain": [
       "<Figure size 864x720 with 1 Axes>"
      ]
     },
     "metadata": {
      "needs_background": "light"
     },
     "output_type": "display_data"
    },
    {
     "name": "stdout",
     "output_type": "stream",
     "text": [
      " 8 :  9\n",
      " 7 :  87\n",
      " 6 :  659\n",
      " 5 :  2146\n",
      " 4 :  4363\n",
      " 3 :  5599\n",
      " 2 :  4668\n",
      " 1 :  2106\n",
      " 0 :  363\n",
      "the average number of buildable cubes is 3.0528\n",
      "the standard deviation of the number of buildable cubes is 1.3564675300972044\n"
     ]
    }
   ],
   "source": [
    "import statistics\n",
    "\n",
    "a = DistributionBuildNum4SetsOfNine(C36, 20000)\n",
    "#print(a)\n",
    "\n",
    "#histogram\n",
    "fig, ax=plt.subplots(figsize=(12,10))\n",
    "ax.hist(a, bins=[0,1,2,3,4,5,6,7,8,9,10,11,12])\n",
    "plt.xlabel(\"Number of Buildable cubes\")\n",
    "plt.ylabel(\"n=20,000 Random Samples of Nine Cubes\")\n",
    "plt.show()\n",
    "\n",
    "CountFrequency(a)\n",
    "\n",
    "print(\"the average number of buildable cubes is\", statistics.mean(a))\n",
    "print(\"the standard deviation of the number of buildable cubes is\", statistics.stdev(a)) "
   ]
  },
  {
   "cell_type": "code",
   "execution_count": 31,
   "id": "e8ba5eff",
   "metadata": {},
   "outputs": [],
   "source": [
    "#Sets of Nine cubes with 8 buildable targets.  Conjecture 8 targets is max buildable for sets of 9\n",
    "#7 sets of nine\n",
    "MaxBuildables0=[[[153, 134, 142, 125, 265, 246, 364, 356], [245, 154, 135, 253, 236, 163, 146, 264], [152, 145, 354, 253, 236, 346, 164, 126], [143, 154, 245, 234, 263, 256, 165, 136], [245, 253, 123, 142, 164, 136, 356, 465], [152, 135, 345, 254, 246, 364, 163, 126], [245, 125, 132, 234, 364, 163, 156, 465], [123, 243, 345, 135, 156, 465, 264, 162], [354, 245, 142, 134, 163, 126, 256, 365]],\n",
    "[[143, 154, 245, 234, 263, 256, 165, 136], [152, 145, 354, 253, 236, 346, 164, 126], [143, 124, 254, 345, 356, 265, 162, 136], [153, 235, 243, 134, 146, 264, 256, 165], [154, 142, 123, 135, 365, 263, 246, 456], [143, 345, 235, 132, 126, 256, 465, 164], [243, 235, 125, 142, 164, 156, 365, 346], [153, 134, 142, 125, 265, 246, 364, 356], [245, 154, 135, 253, 236, 163, 146, 264]],\n",
    "[[124, 132, 235, 254, 456, 365, 163, 146], [245, 253, 123, 142, 164, 136, 356, 465], [153, 134, 142, 125, 265, 246, 364, 356], [152, 145, 354, 253, 236, 346, 164, 126], [243, 123, 152, 254, 456, 165, 136, 346], [245, 125, 132, 234, 364, 163, 156, 465], [354, 145, 124, 234, 263, 162, 156, 365], [153, 235, 243, 134, 146, 264, 256, 165], [354, 245, 142, 134, 163, 126, 256, 365]],\n",
    "[[245, 154, 135, 253, 236, 163, 146, 264], [354, 245, 142, 134, 163, 126, 256, 365], [153, 354, 234, 132, 126, 246, 456, 165], [152, 135, 345, 254, 246, 364, 163, 126], [243, 123, 152, 254, 456, 165, 136, 346], [354, 145, 124, 234, 263, 162, 156, 365], [243, 142, 154, 345, 356, 165, 126, 236], [152, 145, 354, 253, 236, 346, 164, 126], [153, 134, 142, 125, 265, 246, 364, 356]],\n",
    "[[243, 235, 125, 142, 164, 156, 365, 346], [143, 124, 254, 345, 356, 265, 162, 136], [154, 143, 132, 125, 265, 236, 346, 456], [143, 154, 245, 234, 263, 256, 165, 136], [152, 145, 354, 253, 236, 346, 164, 126], [123, 243, 345, 135, 156, 465, 264, 162], [153, 235, 243, 134, 146, 264, 256, 165], [152, 135, 345, 254, 246, 364, 163, 126], [235, 153, 145, 254, 246, 164, 136, 263]],\n",
    "[[245, 125, 132, 234, 364, 163, 156, 465], [235, 153, 145, 254, 246, 164, 136, 263], [143, 345, 235, 132, 126, 256, 465, 164], [243, 123, 152, 254, 456, 165, 136, 346], [152, 135, 345, 254, 246, 364, 163, 126], [354, 145, 124, 234, 263, 162, 156, 365], [245, 354, 153, 125, 162, 136, 346, 264], [153, 235, 243, 134, 146, 264, 256, 165], [154, 142, 123, 135, 365, 263, 246, 456]],\n",
    "[[245, 253, 123, 142, 164, 136, 356, 465], [153, 235, 243, 134, 146, 264, 256, 165], [152, 124, 143, 135, 365, 346, 264, 256], [143, 154, 245, 234, 263, 256, 165, 136], [354, 145, 124, 234, 263, 162, 156, 365], [235, 345, 154, 125, 162, 146, 364, 263], [243, 142, 154, 345, 356, 165, 126, 236], [152, 145, 354, 253, 236, 346, 164, 126], [245, 125, 132, 234, 364, 163, 156, 465]]]\n",
    "\n",
    "#Another (possibly with duplicates, but none when checked) set of sets of nine cubes with 8 buildable targets.\n",
    "#6 sets of nine\n",
    "MaxBuildables1 =[[[143, 154, 245, 234, 263, 256, 165, 136], [245, 354, 153, 125, 162, 136, 346, 264], [354, 145, 124, 234, 263, 162, 156, 365], [143, 345, 235, 132, 126, 256, 465, 164], [243, 123, 152, 254, 456, 165, 136, 346], [243, 142, 154, 345, 356, 165, 126, 236], [153, 132, 124, 145, 465, 264, 236, 356], [243, 235, 125, 142, 164, 156, 365, 346], [143, 234, 253, 135, 156, 265, 246, 164]],\n",
    "[[354, 145, 124, 234, 263, 162, 156, 365], [245, 354, 153, 125, 162, 136, 346, 264], [143, 345, 235, 132, 126, 256, 465, 164], [143, 234, 253, 135, 156, 265, 246, 164], [243, 235, 125, 142, 164, 156, 365, 346], [243, 254, 145, 134, 163, 156, 265, 236], [153, 134, 142, 125, 265, 246, 364, 356], [245, 253, 123, 142, 164, 136, 356, 465], [152, 135, 345, 254, 246, 364, 163, 126]],\n",
    "[[143, 234, 253, 135, 156, 265, 246, 164], [152, 145, 354, 253, 236, 346, 164, 126], [153, 235, 243, 134, 146, 264, 256, 165], [143, 154, 245, 234, 263, 256, 165, 136], [154, 142, 123, 135, 365, 263, 246, 456], [124, 132, 235, 254, 456, 365, 163, 146], [245, 354, 153, 125, 162, 136, 346, 264], [153, 354, 234, 132, 126, 246, 456, 165], [152, 124, 143, 135, 365, 346, 264, 256]],\n",
    "[[245, 354, 153, 125, 162, 136, 346, 264], [123, 253, 354, 134, 146, 456, 265, 162], [154, 142, 123, 135, 365, 263, 246, 456], [243, 142, 154, 345, 356, 165, 126, 236], [153, 134, 142, 125, 265, 246, 364, 356], [143, 345, 235, 132, 126, 256, 465, 164], [245, 125, 132, 234, 364, 163, 156, 465], [243, 235, 125, 142, 164, 156, 365, 346], [143, 234, 253, 135, 156, 265, 246, 164]],\n",
    "[[123, 253, 354, 134, 146, 456, 265, 162], [354, 145, 124, 234, 263, 162, 156, 365], [143, 154, 245, 234, 263, 256, 165, 136], [245, 253, 123, 142, 164, 136, 356, 465], [154, 142, 123, 135, 365, 263, 246, 456], [152, 124, 143, 135, 365, 346, 264, 256], [152, 135, 345, 254, 246, 364, 163, 126], [243, 142, 154, 345, 356, 165, 126, 236], [243, 254, 145, 134, 163, 156, 265, 236]],\n",
    "[[153, 134, 142, 125, 265, 246, 364, 356], [245, 354, 153, 125, 162, 136, 346, 264], [354, 145, 124, 234, 263, 162, 156, 365], [153, 354, 234, 132, 126, 246, 456, 165], [153, 235, 243, 134, 146, 264, 256, 165], [245, 125, 132, 234, 364, 163, 156, 465], [245, 253, 123, 142, 164, 136, 356, 465], [152, 145, 354, 253, 236, 346, 164, 126], [124, 132, 235, 254, 456, 365, 163, 146]]]\n",
    "\n",
    "#4 sets of nine \n",
    "MaxBuildables2=[[[235, 345, 154, 125, 162, 146, 364, 263], [245, 354, 153, 125, 162, 136, 346, 264], [152, 123, 134, 145, 465, 364, 263, 256], [245, 253, 123, 142, 164, 136, 356, 465], [143, 234, 253, 135, 156, 265, 246, 164], [243, 123, 152, 254, 456, 165, 136, 346], [354, 145, 124, 234, 263, 162, 156, 365], [243, 254, 145, 134, 163, 156, 265, 236], [143, 345, 235, 132, 126, 256, 465, 164]],\n",
    "[[124, 152, 253, 234, 364, 356, 165, 146], [152, 135, 345, 254, 246, 364, 163, 126], [143, 345, 235, 132, 126, 256, 465, 164], [245, 354, 153, 125, 162, 136, 346, 264], [235, 153, 145, 254, 246, 164, 136, 263], [154, 143, 132, 125, 265, 236, 346, 456], [354, 145, 124, 234, 263, 162, 156, 365], [245, 154, 135, 253, 236, 163, 146, 264], [153, 354, 234, 132, 126, 246, 456, 165]],\n",
    "[[143, 154, 245, 234, 263, 256, 165, 136], [152, 123, 134, 145, 465, 364, 263, 256], [235, 153, 145, 254, 246, 164, 136, 263], [245, 154, 135, 253, 236, 163, 146, 264], [123, 243, 345, 135, 156, 465, 264, 162], [124, 152, 253, 234, 364, 356, 165, 146], [243, 254, 145, 134, 163, 156, 265, 236], [153, 134, 142, 125, 265, 246, 364, 356], [143, 345, 235, 132, 126, 256, 465, 164]],\n",
    "[[152, 124, 143, 135, 365, 346, 264, 256], [354, 145, 124, 234, 263, 162, 156, 365], [245, 253, 123, 142, 164, 136, 356, 465], [235, 345, 154, 125, 162, 146, 364, 263], [123, 253, 354, 134, 146, 456, 265, 162], [245, 354, 153, 125, 162, 136, 346, 264], [354, 245, 142, 134, 163, 126, 256, 365], [123, 243, 345, 135, 156, 465, 264, 162], [243, 254, 145, 134, 163, 156, 265, 236]]]\n",
    "\n",
    "\n",
    "#5 sets of nine (possibly with duplicates seen above)\n",
    "MaxBuildables3=[[[152, 145, 354, 253, 236, 346, 164, 126], [235, 153, 145, 254, 246, 164, 136, 263], [123, 243, 345, 135, 156, 465, 264, 162], [154, 142, 123, 135, 365, 263, 246, 456], [354, 145, 124, 234, 263, 162, 156, 365], [153, 235, 243, 134, 146, 264, 256, 165], [153, 134, 142, 125, 265, 246, 364, 356], [245, 125, 132, 234, 364, 163, 156, 465], [154, 143, 132, 125, 265, 236, 346, 456]],\n",
    "[[245, 154, 135, 253, 236, 163, 146, 264], [123, 253, 354, 134, 146, 456, 265, 162], [123, 243, 345, 135, 156, 465, 264, 162], [153, 134, 142, 125, 265, 246, 364, 356], [243, 235, 125, 142, 164, 156, 365, 346], [245, 125, 132, 234, 364, 163, 156, 465], [143, 154, 245, 234, 263, 256, 165, 136], [143, 345, 235, 132, 126, 256, 465, 164], [245, 354, 153, 125, 162, 136, 346, 264]],\n",
    "[[124, 132, 235, 254, 456, 365, 163, 146], [123, 253, 354, 134, 146, 456, 265, 162], [152, 123, 134, 145, 465, 364, 263, 256], [152, 145, 354, 253, 236, 346, 164, 126], [243, 142, 154, 345, 356, 165, 126, 236], [235, 153, 145, 254, 246, 164, 136, 263], [123, 243, 345, 135, 156, 465, 264, 162], [245, 125, 132, 234, 364, 163, 156, 465], [143, 124, 254, 345, 356, 265, 162, 136]],\n",
    "[[153, 134, 142, 125, 265, 246, 364, 356], [153, 354, 234, 132, 126, 246, 456, 165], [245, 253, 123, 142, 164, 136, 356, 465], [124, 152, 253, 234, 364, 356, 165, 146], [152, 135, 345, 254, 246, 364, 163, 126], [152, 145, 354, 253, 236, 346, 164, 126], [123, 253, 354, 134, 146, 456, 265, 162], [154, 142, 123, 135, 365, 263, 246, 456], [153, 235, 243, 134, 146, 264, 256, 165]],\n",
    "[[153, 354, 234, 132, 126, 246, 456, 165], [354, 245, 142, 134, 163, 126, 256, 365], [123, 243, 345, 135, 156, 465, 264, 162], [243, 235, 125, 142, 164, 156, 365, 346], [123, 253, 354, 134, 146, 456, 265, 162], [143, 154, 245, 234, 263, 256, 165, 136], [153, 134, 142, 125, 265, 246, 364, 356], [245, 154, 135, 253, 236, 163, 146, 264], [143, 345, 235, 132, 126, 256, 465, 164]]]"
   ]
  },
  {
   "cell_type": "code",
   "execution_count": 65,
   "id": "b0fee393",
   "metadata": {},
   "outputs": [
    {
     "name": "stdout",
     "output_type": "stream",
     "text": [
      "[['125.436', '125.346', '123.465', '123.654', '135.624', '123.645', '124.536', '134.526', '126.453'], ['124.635', '126.345', '126.453', '125.346', '136.425', '125.463', '124.536', '135.426', '126.543'], ['136.524', '123.465', '136.425', '135.426', '123.546', '124.635', '134.526', '125.364', '126.453'], ['124.365', '124.536', '123.654', '125.436', '123.456', '125.346', '126.354', '123.546', '134.526']]\n"
     ]
    }
   ],
   "source": [
    "list_of_nines3 = CubeCornersToNames(MaxBuildables2, C36)\n",
    "print(list_of_nines3)"
   ]
  },
  {
   "cell_type": "markdown",
   "id": "610f3e39",
   "metadata": {},
   "source": [
    "## Displaying sets of 9 cubes that build 8 targets \n",
    "\n",
    "The tableau is depicted with 9 cubes in dark blue and blank diagonal entries in yellow."
   ]
  },
  {
   "cell_type": "code",
   "execution_count": 19,
   "id": "ad5e9666",
   "metadata": {},
   "outputs": [
    {
     "name": "stdout",
     "output_type": "stream",
     "text": [
      "these cubes are Buildable:\n",
      "['123.456', '123.465', '123.546', '124.356', '124.536', '125.346', '125.634', '135.426']\n",
      "the original set of cubes\n"
     ]
    },
    {
     "data": {
      "image/png": "[encoded data removed]",
      "text/plain": [
       "<Figure size 288x288 with 1 Axes>"
      ]
     },
     "metadata": {
      "needs_background": "light"
     },
     "output_type": "display_data"
    },
    {
     "name": "stdout",
     "output_type": "stream",
     "text": [
      "the set of buildable targets\n"
     ]
    },
    {
     "data": {
      "image/png": "[encoded data removed]",
      "text/plain": [
       "<Figure size 288x288 with 1 Axes>"
      ]
     },
     "metadata": {
      "needs_background": "light"
     },
     "output_type": "display_data"
    },
    {
     "name": "stdout",
     "output_type": "stream",
     "text": [
      "********************************************\n"
     ]
    }
   ],
   "source": [
    "lists_ofNine= [['125.436', '125.346', '123.465', '123.654', '135.624', '123.645', '124.536', '134.526', '126.453'], ['124.635', '126.345', '126.453', '125.346', '136.425', '125.463', '124.536', '135.426', '126.543'], ['136.524', '123.465', '136.425', '135.426', '123.546', '124.635', '134.526', '125.364', '126.453'], ['124.365', '124.536', '123.654', '125.436', '123.456', '125.346', '126.354', '123.546', '134.526']]\n",
    "lis=lists_ofNine[3]\n",
    "DisplaySetCubesandBuildableTargets(lis, C36)\n",
    "print(\"********************************************\")"
   ]
  },
  {
   "cell_type": "code",
   "execution_count": 18,
   "id": "2e5ba4b0",
   "metadata": {},
   "outputs": [
    {
     "name": "stdout",
     "output_type": "stream",
     "text": [
      "these cubes are Buildable:\n",
      "['124.563', '124.653', '125.436', '125.643', '126.435', '126.543', '135.624', '136.524']\n",
      "the original set of cubes\n"
     ]
    },
    {
     "data": {
      "image/png": "[encoded data removed]",
      "text/plain": [
       "<Figure size 288x288 with 1 Axes>"
      ]
     },
     "metadata": {
      "needs_background": "light"
     },
     "output_type": "display_data"
    },
    {
     "name": "stdout",
     "output_type": "stream",
     "text": [
      "the set of buildable targets\n"
     ]
    },
    {
     "data": {
      "image/png": "[encoded data removed]",
      "text/plain": [
       "<Figure size 288x288 with 1 Axes>"
      ]
     },
     "metadata": {
      "needs_background": "light"
     },
     "output_type": "display_data"
    },
    {
     "name": "stdout",
     "output_type": "stream",
     "text": [
      "********************************************\n"
     ]
    }
   ],
   "source": [
    "lists_ofNine= [['125.436', '125.346', '123.465', '123.654', '135.624', '123.645', '124.536', '134.526', '126.453'], ['124.635', '126.345', '126.453', '125.346', '136.425', '125.463', '124.536', '135.426', '126.543'], ['136.524', '123.465', '136.425', '135.426', '123.546', '124.635', '134.526', '125.364', '126.453'], ['124.365', '124.536', '123.654', '125.436', '123.456', '125.346', '126.354', '123.546', '134.526']]\n",
    "lis=lists_ofNine[1]\n",
    "DisplaySetCubesandBuildableTargets(lis, C36)\n",
    "print(\"********************************************\")"
   ]
  },
  {
   "cell_type": "code",
   "execution_count": null,
   "id": "17c56053",
   "metadata": {},
   "outputs": [],
   "source": []
  },
  {
   "cell_type": "code",
   "execution_count": null,
   "id": "74db1b03",
   "metadata": {},
   "outputs": [],
   "source": []
  },
  {
   "cell_type": "code",
   "execution_count": null,
   "id": "6e4966ef",
   "metadata": {},
   "outputs": [],
   "source": []
  },
  {
   "cell_type": "code",
   "execution_count": null,
   "id": "b6a151e7",
   "metadata": {},
   "outputs": [],
   "source": []
  },
  {
   "cell_type": "code",
   "execution_count": null,
   "id": "f6b8bf23",
   "metadata": {},
   "outputs": [],
   "source": []
  },
  {
   "cell_type": "markdown",
   "id": "039ae943",
   "metadata": {},
   "source": [
    "Code below less important"
   ]
  },
  {
   "cell_type": "code",
   "execution_count": 62,
   "id": "1a74dd13",
   "metadata": {},
   "outputs": [
    {
     "name": "stdout",
     "output_type": "stream",
     "text": [
      " 3 :  8\n",
      " 1 :  6\n",
      " 0 :  6\n"
     ]
    }
   ],
   "source": [
    "#TESTING CODE\n",
    "# the frequencies below are an approximation to the distributions seen below (***)\n",
    "KeysHaraguchi=[\"126.453\", \"125.364\", \"136.524\", \"134.526\", \"124.365\", \"123.456\", \"134.625\", \"124.356\", \"123.465\", \"125.463\", \"126.354\", \"135.624\"]\n",
    "SubDictHaraguchi={key: C36[key] for key in KeysHaraguchi}\n",
    "\n",
    "list_numberBuildable=[]\n",
    "for i in range(20):\n",
    "    #CollectionOfNineHaraguchi = RandomKCubes(SubDictHaraguchi, 9)\n",
    "    n=NumberBuildable4aSetNINECubes(RandomKCubes(SubDictHaraguchi, 9), C36)\n",
    "    list_numberBuildable.append(n)\n",
    "    \n",
    "CountFrequency(list_numberBuildable)\n"
   ]
  },
  {
   "cell_type": "code",
   "execution_count": 61,
   "id": "6441d07b",
   "metadata": {},
   "outputs": [
    {
     "name": "stdout",
     "output_type": "stream",
     "text": [
      "there are 1 sets of 12 cubes\n",
      " 30 :  1\n",
      "there are 12 sets of 11 cubes\n",
      " 18 :  12\n",
      "there are 66 sets of 10 cubes\n",
      " 9 :  12\n",
      " 8 :  36\n",
      " 6 :  6\n",
      " 3 :  12\n",
      "there are 220 sets of 9 cubes\n",
      " 3 :  112\n",
      " 1 :  72\n",
      " 0 :  36\n",
      "there are 495 sets of 8 cubes\n",
      " 3 :  36\n",
      " 1 :  18\n",
      " 0 :  441\n"
     ]
    }
   ],
   "source": [
    "#the distribution for 9 cubes is approximated above by random samples of 9 Haraguchi cubes, see above (***)\n",
    "KeysHaraguchi=[\"126.453\", \"125.364\", \"136.524\", \"134.526\", \"124.365\", \"123.456\", \"134.625\", \"124.356\", \"123.465\", \"125.463\", \"126.354\", \"135.624\"]\n",
    "SubDictHaraguchi={key: C36[key] for key in KeysHaraguchi}\n",
    "\n",
    "\n",
    "Distribution4NumberBuildableCubes(SubDictHaraguchi, C36, 12)\n",
    "\n",
    "Distribution4NumberBuildableCubes(SubDictHaraguchi, C36, 11)\n",
    "\n",
    "Distribution4NumberBuildableCubes(SubDictHaraguchi, C36, 10)\n",
    "\n",
    "Distribution4NumberBuildableCubes(SubDictHaraguchi, C36, 9)\n",
    "\n",
    "Distribution4NumberBuildableCubes(SubDictHaraguchi, C36, 8)"
   ]
  },
  {
   "cell_type": "code",
   "execution_count": 22,
   "id": "109da414",
   "metadata": {},
   "outputs": [
    {
     "data": {
      "image/png": "[encoded data removed]",
      "text/plain": [
       "<Figure size 576x576 with 1 Axes>"
      ]
     },
     "metadata": {
      "needs_background": "light"
     },
     "output_type": "display_data"
    }
   ],
   "source": [
    "import numpy as np\n",
    "import matplotlib.pyplot as plt\n",
    "\n",
    "# Create a 2D array of values\n",
    "#values = np.random.randint(0, 100, (6, 6))\n",
    "blank_canvas = np.array([[90, 80, 80, 80, 80, 80], [80,90,80,80,80,80],[80,80,90,80,80,80], [80,80,80,90,80,80], [80,80,80,80,90,80], [80,80,80,80,80,90]])\n",
    "\n",
    "# Define the color ranges and corresponding colors\n",
    "cmap = plt.cm.get_cmap('viridis', 10)\n",
    "bounds = [0, 10, 20, 30, 40, 50, 60, 70, 80, 90, 100]\n",
    "norm = plt.Normalize(min(bounds), max(bounds))\n",
    "colors = cmap(norm(bounds))\n",
    "\n",
    "# Create the colored grid\n",
    "fig, ax = plt.subplots(figsize=(8, 8))\n",
    "im = ax.imshow(blank_canvas, cmap=cmap, norm=norm)\n",
    "\n",
    "# Add a colorbar\n",
    "#cbar = fig.colorbar(im, ticks=bounds, boundaries=bounds, cmap=cmap)\n",
    "#cbar.ax.set_yticklabels([f'{b}' for b in bounds])\n",
    "\n",
    "# Show the plot\n",
    "plt.show()\n",
    "\n",
    "# this displays the tableau grid, yellow is a blank, green is a cube\n",
    "# cubes that are selected are dark blue"
   ]
  },
  {
   "cell_type": "code",
   "execution_count": 48,
   "id": "6aa67693",
   "metadata": {},
   "outputs": [
    {
     "ename": "TypeError",
     "evalue": "Image data of dtype object cannot be converted to float",
     "output_type": "error",
     "traceback": [
      "\u001b[0;31m---------------------------------------------------------------------------\u001b[0m",
      "\u001b[0;31mTypeError\u001b[0m                                 Traceback (most recent call last)",
      "Input \u001b[0;32mIn [48]\u001b[0m, in \u001b[0;36m<cell line: 24>\u001b[0;34m()\u001b[0m\n\u001b[1;32m     21\u001b[0m fig\u001b[38;5;241m.\u001b[39madd_subplot(rows, columns, \u001b[38;5;241m1\u001b[39m) \n\u001b[1;32m     23\u001b[0m \u001b[38;5;66;03m# showing image \u001b[39;00m\n\u001b[0;32m---> 24\u001b[0m \u001b[43mplt\u001b[49m\u001b[38;5;241;43m.\u001b[39;49m\u001b[43mimshow\u001b[49m\u001b[43m(\u001b[49m\u001b[43mImage1\u001b[49m\u001b[43m)\u001b[49m \n\u001b[1;32m     25\u001b[0m plt\u001b[38;5;241m.\u001b[39maxis(\u001b[38;5;124m'\u001b[39m\u001b[38;5;124moff\u001b[39m\u001b[38;5;124m'\u001b[39m) \n\u001b[1;32m     26\u001b[0m plt\u001b[38;5;241m.\u001b[39mtitle(\u001b[38;5;124m\"\u001b[39m\u001b[38;5;124mFirst\u001b[39m\u001b[38;5;124m\"\u001b[39m) \n",
      "File \u001b[0;32m~/opt/anaconda3/lib/python3.9/site-packages/matplotlib/_api/deprecation.py:456\u001b[0m, in \u001b[0;36mmake_keyword_only.<locals>.wrapper\u001b[0;34m(*args, **kwargs)\u001b[0m\n\u001b[1;32m    450\u001b[0m \u001b[38;5;28;01mif\u001b[39;00m \u001b[38;5;28mlen\u001b[39m(args) \u001b[38;5;241m>\u001b[39m name_idx:\n\u001b[1;32m    451\u001b[0m     warn_deprecated(\n\u001b[1;32m    452\u001b[0m         since, message\u001b[38;5;241m=\u001b[39m\u001b[38;5;124m\"\u001b[39m\u001b[38;5;124mPassing the \u001b[39m\u001b[38;5;132;01m%(name)s\u001b[39;00m\u001b[38;5;124m \u001b[39m\u001b[38;5;132;01m%(obj_type)s\u001b[39;00m\u001b[38;5;124m \u001b[39m\u001b[38;5;124m\"\u001b[39m\n\u001b[1;32m    453\u001b[0m         \u001b[38;5;124m\"\u001b[39m\u001b[38;5;124mpositionally is deprecated since Matplotlib \u001b[39m\u001b[38;5;132;01m%(since)s\u001b[39;00m\u001b[38;5;124m; the \u001b[39m\u001b[38;5;124m\"\u001b[39m\n\u001b[1;32m    454\u001b[0m         \u001b[38;5;124m\"\u001b[39m\u001b[38;5;124mparameter will become keyword-only \u001b[39m\u001b[38;5;132;01m%(removal)s\u001b[39;00m\u001b[38;5;124m.\u001b[39m\u001b[38;5;124m\"\u001b[39m,\n\u001b[1;32m    455\u001b[0m         name\u001b[38;5;241m=\u001b[39mname, obj_type\u001b[38;5;241m=\u001b[39m\u001b[38;5;124mf\u001b[39m\u001b[38;5;124m\"\u001b[39m\u001b[38;5;124mparameter of \u001b[39m\u001b[38;5;132;01m{\u001b[39;00mfunc\u001b[38;5;241m.\u001b[39m\u001b[38;5;18m__name__\u001b[39m\u001b[38;5;132;01m}\u001b[39;00m\u001b[38;5;124m()\u001b[39m\u001b[38;5;124m\"\u001b[39m)\n\u001b[0;32m--> 456\u001b[0m \u001b[38;5;28;01mreturn\u001b[39;00m \u001b[43mfunc\u001b[49m\u001b[43m(\u001b[49m\u001b[38;5;241;43m*\u001b[39;49m\u001b[43margs\u001b[49m\u001b[43m,\u001b[49m\u001b[43m \u001b[49m\u001b[38;5;241;43m*\u001b[39;49m\u001b[38;5;241;43m*\u001b[39;49m\u001b[43mkwargs\u001b[49m\u001b[43m)\u001b[49m\n",
      "File \u001b[0;32m~/opt/anaconda3/lib/python3.9/site-packages/matplotlib/pyplot.py:2640\u001b[0m, in \u001b[0;36mimshow\u001b[0;34m(X, cmap, norm, aspect, interpolation, alpha, vmin, vmax, origin, extent, interpolation_stage, filternorm, filterrad, resample, url, data, **kwargs)\u001b[0m\n\u001b[1;32m   2634\u001b[0m \u001b[38;5;129m@_copy_docstring_and_deprecators\u001b[39m(Axes\u001b[38;5;241m.\u001b[39mimshow)\n\u001b[1;32m   2635\u001b[0m \u001b[38;5;28;01mdef\u001b[39;00m \u001b[38;5;21mimshow\u001b[39m(\n\u001b[1;32m   2636\u001b[0m         X, cmap\u001b[38;5;241m=\u001b[39m\u001b[38;5;28;01mNone\u001b[39;00m, norm\u001b[38;5;241m=\u001b[39m\u001b[38;5;28;01mNone\u001b[39;00m, aspect\u001b[38;5;241m=\u001b[39m\u001b[38;5;28;01mNone\u001b[39;00m, interpolation\u001b[38;5;241m=\u001b[39m\u001b[38;5;28;01mNone\u001b[39;00m,\n\u001b[1;32m   2637\u001b[0m         alpha\u001b[38;5;241m=\u001b[39m\u001b[38;5;28;01mNone\u001b[39;00m, vmin\u001b[38;5;241m=\u001b[39m\u001b[38;5;28;01mNone\u001b[39;00m, vmax\u001b[38;5;241m=\u001b[39m\u001b[38;5;28;01mNone\u001b[39;00m, origin\u001b[38;5;241m=\u001b[39m\u001b[38;5;28;01mNone\u001b[39;00m, extent\u001b[38;5;241m=\u001b[39m\u001b[38;5;28;01mNone\u001b[39;00m, \u001b[38;5;241m*\u001b[39m,\n\u001b[1;32m   2638\u001b[0m         interpolation_stage\u001b[38;5;241m=\u001b[39m\u001b[38;5;28;01mNone\u001b[39;00m, filternorm\u001b[38;5;241m=\u001b[39m\u001b[38;5;28;01mTrue\u001b[39;00m, filterrad\u001b[38;5;241m=\u001b[39m\u001b[38;5;241m4.0\u001b[39m,\n\u001b[1;32m   2639\u001b[0m         resample\u001b[38;5;241m=\u001b[39m\u001b[38;5;28;01mNone\u001b[39;00m, url\u001b[38;5;241m=\u001b[39m\u001b[38;5;28;01mNone\u001b[39;00m, data\u001b[38;5;241m=\u001b[39m\u001b[38;5;28;01mNone\u001b[39;00m, \u001b[38;5;241m*\u001b[39m\u001b[38;5;241m*\u001b[39mkwargs):\n\u001b[0;32m-> 2640\u001b[0m     __ret \u001b[38;5;241m=\u001b[39m \u001b[43mgca\u001b[49m\u001b[43m(\u001b[49m\u001b[43m)\u001b[49m\u001b[38;5;241;43m.\u001b[39;49m\u001b[43mimshow\u001b[49m\u001b[43m(\u001b[49m\n\u001b[1;32m   2641\u001b[0m \u001b[43m        \u001b[49m\u001b[43mX\u001b[49m\u001b[43m,\u001b[49m\u001b[43m \u001b[49m\u001b[43mcmap\u001b[49m\u001b[38;5;241;43m=\u001b[39;49m\u001b[43mcmap\u001b[49m\u001b[43m,\u001b[49m\u001b[43m \u001b[49m\u001b[43mnorm\u001b[49m\u001b[38;5;241;43m=\u001b[39;49m\u001b[43mnorm\u001b[49m\u001b[43m,\u001b[49m\u001b[43m \u001b[49m\u001b[43maspect\u001b[49m\u001b[38;5;241;43m=\u001b[39;49m\u001b[43maspect\u001b[49m\u001b[43m,\u001b[49m\n\u001b[1;32m   2642\u001b[0m \u001b[43m        \u001b[49m\u001b[43minterpolation\u001b[49m\u001b[38;5;241;43m=\u001b[39;49m\u001b[43minterpolation\u001b[49m\u001b[43m,\u001b[49m\u001b[43m \u001b[49m\u001b[43malpha\u001b[49m\u001b[38;5;241;43m=\u001b[39;49m\u001b[43malpha\u001b[49m\u001b[43m,\u001b[49m\u001b[43m \u001b[49m\u001b[43mvmin\u001b[49m\u001b[38;5;241;43m=\u001b[39;49m\u001b[43mvmin\u001b[49m\u001b[43m,\u001b[49m\n\u001b[1;32m   2643\u001b[0m \u001b[43m        \u001b[49m\u001b[43mvmax\u001b[49m\u001b[38;5;241;43m=\u001b[39;49m\u001b[43mvmax\u001b[49m\u001b[43m,\u001b[49m\u001b[43m \u001b[49m\u001b[43morigin\u001b[49m\u001b[38;5;241;43m=\u001b[39;49m\u001b[43morigin\u001b[49m\u001b[43m,\u001b[49m\u001b[43m \u001b[49m\u001b[43mextent\u001b[49m\u001b[38;5;241;43m=\u001b[39;49m\u001b[43mextent\u001b[49m\u001b[43m,\u001b[49m\n\u001b[1;32m   2644\u001b[0m \u001b[43m        \u001b[49m\u001b[43minterpolation_stage\u001b[49m\u001b[38;5;241;43m=\u001b[39;49m\u001b[43minterpolation_stage\u001b[49m\u001b[43m,\u001b[49m\n\u001b[1;32m   2645\u001b[0m \u001b[43m        \u001b[49m\u001b[43mfilternorm\u001b[49m\u001b[38;5;241;43m=\u001b[39;49m\u001b[43mfilternorm\u001b[49m\u001b[43m,\u001b[49m\u001b[43m \u001b[49m\u001b[43mfilterrad\u001b[49m\u001b[38;5;241;43m=\u001b[39;49m\u001b[43mfilterrad\u001b[49m\u001b[43m,\u001b[49m\u001b[43m \u001b[49m\u001b[43mresample\u001b[49m\u001b[38;5;241;43m=\u001b[39;49m\u001b[43mresample\u001b[49m\u001b[43m,\u001b[49m\n\u001b[1;32m   2646\u001b[0m \u001b[43m        \u001b[49m\u001b[43murl\u001b[49m\u001b[38;5;241;43m=\u001b[39;49m\u001b[43murl\u001b[49m\u001b[43m,\u001b[49m\u001b[43m \u001b[49m\u001b[38;5;241;43m*\u001b[39;49m\u001b[38;5;241;43m*\u001b[39;49m\u001b[43m(\u001b[49m\u001b[43m{\u001b[49m\u001b[38;5;124;43m\"\u001b[39;49m\u001b[38;5;124;43mdata\u001b[39;49m\u001b[38;5;124;43m\"\u001b[39;49m\u001b[43m:\u001b[49m\u001b[43m \u001b[49m\u001b[43mdata\u001b[49m\u001b[43m}\u001b[49m\u001b[43m \u001b[49m\u001b[38;5;28;43;01mif\u001b[39;49;00m\u001b[43m \u001b[49m\u001b[43mdata\u001b[49m\u001b[43m \u001b[49m\u001b[38;5;129;43;01mis\u001b[39;49;00m\u001b[43m \u001b[49m\u001b[38;5;129;43;01mnot\u001b[39;49;00m\u001b[43m \u001b[49m\u001b[38;5;28;43;01mNone\u001b[39;49;00m\u001b[43m \u001b[49m\u001b[38;5;28;43;01melse\u001b[39;49;00m\u001b[43m \u001b[49m\u001b[43m{\u001b[49m\u001b[43m}\u001b[49m\u001b[43m)\u001b[49m\u001b[43m,\u001b[49m\n\u001b[1;32m   2647\u001b[0m \u001b[43m        \u001b[49m\u001b[38;5;241;43m*\u001b[39;49m\u001b[38;5;241;43m*\u001b[39;49m\u001b[43mkwargs\u001b[49m\u001b[43m)\u001b[49m\n\u001b[1;32m   2648\u001b[0m     sci(__ret)\n\u001b[1;32m   2649\u001b[0m     \u001b[38;5;28;01mreturn\u001b[39;00m __ret\n",
      "File \u001b[0;32m~/opt/anaconda3/lib/python3.9/site-packages/matplotlib/_api/deprecation.py:456\u001b[0m, in \u001b[0;36mmake_keyword_only.<locals>.wrapper\u001b[0;34m(*args, **kwargs)\u001b[0m\n\u001b[1;32m    450\u001b[0m \u001b[38;5;28;01mif\u001b[39;00m \u001b[38;5;28mlen\u001b[39m(args) \u001b[38;5;241m>\u001b[39m name_idx:\n\u001b[1;32m    451\u001b[0m     warn_deprecated(\n\u001b[1;32m    452\u001b[0m         since, message\u001b[38;5;241m=\u001b[39m\u001b[38;5;124m\"\u001b[39m\u001b[38;5;124mPassing the \u001b[39m\u001b[38;5;132;01m%(name)s\u001b[39;00m\u001b[38;5;124m \u001b[39m\u001b[38;5;132;01m%(obj_type)s\u001b[39;00m\u001b[38;5;124m \u001b[39m\u001b[38;5;124m\"\u001b[39m\n\u001b[1;32m    453\u001b[0m         \u001b[38;5;124m\"\u001b[39m\u001b[38;5;124mpositionally is deprecated since Matplotlib \u001b[39m\u001b[38;5;132;01m%(since)s\u001b[39;00m\u001b[38;5;124m; the \u001b[39m\u001b[38;5;124m\"\u001b[39m\n\u001b[1;32m    454\u001b[0m         \u001b[38;5;124m\"\u001b[39m\u001b[38;5;124mparameter will become keyword-only \u001b[39m\u001b[38;5;132;01m%(removal)s\u001b[39;00m\u001b[38;5;124m.\u001b[39m\u001b[38;5;124m\"\u001b[39m,\n\u001b[1;32m    455\u001b[0m         name\u001b[38;5;241m=\u001b[39mname, obj_type\u001b[38;5;241m=\u001b[39m\u001b[38;5;124mf\u001b[39m\u001b[38;5;124m\"\u001b[39m\u001b[38;5;124mparameter of \u001b[39m\u001b[38;5;132;01m{\u001b[39;00mfunc\u001b[38;5;241m.\u001b[39m\u001b[38;5;18m__name__\u001b[39m\u001b[38;5;132;01m}\u001b[39;00m\u001b[38;5;124m()\u001b[39m\u001b[38;5;124m\"\u001b[39m)\n\u001b[0;32m--> 456\u001b[0m \u001b[38;5;28;01mreturn\u001b[39;00m \u001b[43mfunc\u001b[49m\u001b[43m(\u001b[49m\u001b[38;5;241;43m*\u001b[39;49m\u001b[43margs\u001b[49m\u001b[43m,\u001b[49m\u001b[43m \u001b[49m\u001b[38;5;241;43m*\u001b[39;49m\u001b[38;5;241;43m*\u001b[39;49m\u001b[43mkwargs\u001b[49m\u001b[43m)\u001b[49m\n",
      "File \u001b[0;32m~/opt/anaconda3/lib/python3.9/site-packages/matplotlib/__init__.py:1412\u001b[0m, in \u001b[0;36m_preprocess_data.<locals>.inner\u001b[0;34m(ax, data, *args, **kwargs)\u001b[0m\n\u001b[1;32m   1409\u001b[0m \u001b[38;5;129m@functools\u001b[39m\u001b[38;5;241m.\u001b[39mwraps(func)\n\u001b[1;32m   1410\u001b[0m \u001b[38;5;28;01mdef\u001b[39;00m \u001b[38;5;21minner\u001b[39m(ax, \u001b[38;5;241m*\u001b[39margs, data\u001b[38;5;241m=\u001b[39m\u001b[38;5;28;01mNone\u001b[39;00m, \u001b[38;5;241m*\u001b[39m\u001b[38;5;241m*\u001b[39mkwargs):\n\u001b[1;32m   1411\u001b[0m     \u001b[38;5;28;01mif\u001b[39;00m data \u001b[38;5;129;01mis\u001b[39;00m \u001b[38;5;28;01mNone\u001b[39;00m:\n\u001b[0;32m-> 1412\u001b[0m         \u001b[38;5;28;01mreturn\u001b[39;00m \u001b[43mfunc\u001b[49m\u001b[43m(\u001b[49m\u001b[43max\u001b[49m\u001b[43m,\u001b[49m\u001b[43m \u001b[49m\u001b[38;5;241;43m*\u001b[39;49m\u001b[38;5;28;43mmap\u001b[39;49m\u001b[43m(\u001b[49m\u001b[43msanitize_sequence\u001b[49m\u001b[43m,\u001b[49m\u001b[43m \u001b[49m\u001b[43margs\u001b[49m\u001b[43m)\u001b[49m\u001b[43m,\u001b[49m\u001b[43m \u001b[49m\u001b[38;5;241;43m*\u001b[39;49m\u001b[38;5;241;43m*\u001b[39;49m\u001b[43mkwargs\u001b[49m\u001b[43m)\u001b[49m\n\u001b[1;32m   1414\u001b[0m     bound \u001b[38;5;241m=\u001b[39m new_sig\u001b[38;5;241m.\u001b[39mbind(ax, \u001b[38;5;241m*\u001b[39margs, \u001b[38;5;241m*\u001b[39m\u001b[38;5;241m*\u001b[39mkwargs)\n\u001b[1;32m   1415\u001b[0m     auto_label \u001b[38;5;241m=\u001b[39m (bound\u001b[38;5;241m.\u001b[39marguments\u001b[38;5;241m.\u001b[39mget(label_namer)\n\u001b[1;32m   1416\u001b[0m                   \u001b[38;5;129;01mor\u001b[39;00m bound\u001b[38;5;241m.\u001b[39mkwargs\u001b[38;5;241m.\u001b[39mget(label_namer))\n",
      "File \u001b[0;32m~/opt/anaconda3/lib/python3.9/site-packages/matplotlib/axes/_axes.py:5488\u001b[0m, in \u001b[0;36mAxes.imshow\u001b[0;34m(self, X, cmap, norm, aspect, interpolation, alpha, vmin, vmax, origin, extent, interpolation_stage, filternorm, filterrad, resample, url, **kwargs)\u001b[0m\n\u001b[1;32m   5481\u001b[0m \u001b[38;5;28mself\u001b[39m\u001b[38;5;241m.\u001b[39mset_aspect(aspect)\n\u001b[1;32m   5482\u001b[0m im \u001b[38;5;241m=\u001b[39m mimage\u001b[38;5;241m.\u001b[39mAxesImage(\u001b[38;5;28mself\u001b[39m, cmap, norm, interpolation,\n\u001b[1;32m   5483\u001b[0m                       origin, extent, filternorm\u001b[38;5;241m=\u001b[39mfilternorm,\n\u001b[1;32m   5484\u001b[0m                       filterrad\u001b[38;5;241m=\u001b[39mfilterrad, resample\u001b[38;5;241m=\u001b[39mresample,\n\u001b[1;32m   5485\u001b[0m                       interpolation_stage\u001b[38;5;241m=\u001b[39minterpolation_stage,\n\u001b[1;32m   5486\u001b[0m                       \u001b[38;5;241m*\u001b[39m\u001b[38;5;241m*\u001b[39mkwargs)\n\u001b[0;32m-> 5488\u001b[0m \u001b[43mim\u001b[49m\u001b[38;5;241;43m.\u001b[39;49m\u001b[43mset_data\u001b[49m\u001b[43m(\u001b[49m\u001b[43mX\u001b[49m\u001b[43m)\u001b[49m\n\u001b[1;32m   5489\u001b[0m im\u001b[38;5;241m.\u001b[39mset_alpha(alpha)\n\u001b[1;32m   5490\u001b[0m \u001b[38;5;28;01mif\u001b[39;00m im\u001b[38;5;241m.\u001b[39mget_clip_path() \u001b[38;5;129;01mis\u001b[39;00m \u001b[38;5;28;01mNone\u001b[39;00m:\n\u001b[1;32m   5491\u001b[0m     \u001b[38;5;66;03m# image does not already have clipping set, clip to axes patch\u001b[39;00m\n",
      "File \u001b[0;32m~/opt/anaconda3/lib/python3.9/site-packages/matplotlib/image.py:706\u001b[0m, in \u001b[0;36m_ImageBase.set_data\u001b[0;34m(self, A)\u001b[0m\n\u001b[1;32m    702\u001b[0m \u001b[38;5;28mself\u001b[39m\u001b[38;5;241m.\u001b[39m_A \u001b[38;5;241m=\u001b[39m cbook\u001b[38;5;241m.\u001b[39msafe_masked_invalid(A, copy\u001b[38;5;241m=\u001b[39m\u001b[38;5;28;01mTrue\u001b[39;00m)\n\u001b[1;32m    704\u001b[0m \u001b[38;5;28;01mif\u001b[39;00m (\u001b[38;5;28mself\u001b[39m\u001b[38;5;241m.\u001b[39m_A\u001b[38;5;241m.\u001b[39mdtype \u001b[38;5;241m!=\u001b[39m np\u001b[38;5;241m.\u001b[39muint8 \u001b[38;5;129;01mand\u001b[39;00m\n\u001b[1;32m    705\u001b[0m         \u001b[38;5;129;01mnot\u001b[39;00m np\u001b[38;5;241m.\u001b[39mcan_cast(\u001b[38;5;28mself\u001b[39m\u001b[38;5;241m.\u001b[39m_A\u001b[38;5;241m.\u001b[39mdtype, \u001b[38;5;28mfloat\u001b[39m, \u001b[38;5;124m\"\u001b[39m\u001b[38;5;124msame_kind\u001b[39m\u001b[38;5;124m\"\u001b[39m)):\n\u001b[0;32m--> 706\u001b[0m     \u001b[38;5;28;01mraise\u001b[39;00m \u001b[38;5;167;01mTypeError\u001b[39;00m(\u001b[38;5;124m\"\u001b[39m\u001b[38;5;124mImage data of dtype \u001b[39m\u001b[38;5;132;01m{}\u001b[39;00m\u001b[38;5;124m cannot be converted to \u001b[39m\u001b[38;5;124m\"\u001b[39m\n\u001b[1;32m    707\u001b[0m                     \u001b[38;5;124m\"\u001b[39m\u001b[38;5;124mfloat\u001b[39m\u001b[38;5;124m\"\u001b[39m\u001b[38;5;241m.\u001b[39mformat(\u001b[38;5;28mself\u001b[39m\u001b[38;5;241m.\u001b[39m_A\u001b[38;5;241m.\u001b[39mdtype))\n\u001b[1;32m    709\u001b[0m \u001b[38;5;28;01mif\u001b[39;00m \u001b[38;5;28mself\u001b[39m\u001b[38;5;241m.\u001b[39m_A\u001b[38;5;241m.\u001b[39mndim \u001b[38;5;241m==\u001b[39m \u001b[38;5;241m3\u001b[39m \u001b[38;5;129;01mand\u001b[39;00m \u001b[38;5;28mself\u001b[39m\u001b[38;5;241m.\u001b[39m_A\u001b[38;5;241m.\u001b[39mshape[\u001b[38;5;241m-\u001b[39m\u001b[38;5;241m1\u001b[39m] \u001b[38;5;241m==\u001b[39m \u001b[38;5;241m1\u001b[39m:\n\u001b[1;32m    710\u001b[0m     \u001b[38;5;66;03m# If just one dimension assume scalar and apply colormap\u001b[39;00m\n\u001b[1;32m    711\u001b[0m     \u001b[38;5;28mself\u001b[39m\u001b[38;5;241m.\u001b[39m_A \u001b[38;5;241m=\u001b[39m \u001b[38;5;28mself\u001b[39m\u001b[38;5;241m.\u001b[39m_A[:, :, \u001b[38;5;241m0\u001b[39m]\n",
      "\u001b[0;31mTypeError\u001b[0m: Image data of dtype object cannot be converted to float"
     ]
    },
    {
     "data": {
      "image/png": "[encoded data removed]",
      "text/plain": [
       "<Figure size 720x504 with 1 Axes>"
      ]
     },
     "metadata": {
      "needs_background": "light"
     },
     "output_type": "display_data"
    },
    {
     "data": {
      "image/png": "[encoded data removed]",
      "text/plain": [
       "<Figure size 288x288 with 1 Axes>"
      ]
     },
     "metadata": {
      "needs_background": "light"
     },
     "output_type": "display_data"
    },
    {
     "data": {
      "image/png": "[encoded data removed]",
      "text/plain": [
       "<Figure size 288x288 with 1 Axes>"
      ]
     },
     "metadata": {
      "needs_background": "light"
     },
     "output_type": "display_data"
    },
    {
     "data": {
      "image/png": "[encoded data removed]",
      "text/plain": [
       "<Figure size 288x288 with 1 Axes>"
      ]
     },
     "metadata": {
      "needs_background": "light"
     },
     "output_type": "display_data"
    },
    {
     "data": {
      "image/png": "[encoded data removed]",
      "text/plain": [
       "<Figure size 288x288 with 1 Axes>"
      ]
     },
     "metadata": {
      "needs_background": "light"
     },
     "output_type": "display_data"
    }
   ],
   "source": [
    "# code for displaying multiple images in one figure \n",
    "\n",
    "#import libraries \n",
    "#import cv2 \n",
    "from matplotlib import pyplot as plt \n",
    "\n",
    "# create figure \n",
    "fig = plt.figure(figsize=(10, 7)) \n",
    "\n",
    "# setting values to rows and column variables \n",
    "rows = 2\n",
    "columns = 2\n",
    "\n",
    "# reading images \n",
    "Image1 = displayCubes(list_of_nines[1])\n",
    "Image2 = displayCubes(list_of_nines[1]) \n",
    "Image3 = displayCubes(list_of_nines[1])\n",
    "Image4 = displayCubes(list_of_nines[1]) \n",
    "\n",
    "# Adds a subplot at the 1st position \n",
    "fig.add_subplot(rows, columns, 1) \n",
    "\n",
    "# showing image \n",
    "plt.imshow(Image1) \n",
    "plt.axis('off') \n",
    "plt.title(\"First\") \n",
    "\n",
    "# Adds a subplot at the 2nd position \n",
    "fig.add_subplot(rows, columns, 2) \n",
    "\n",
    "# showing image \n",
    "plt.imshow(Image2) \n",
    "plt.axis('off') \n",
    "plt.title(\"Second\") \n",
    "\n",
    "# Adds a subplot at the 3rd position \n",
    "fig.add_subplot(rows, columns, 3) \n",
    "\n",
    "# showing image \n",
    "plt.imshow(Image3) \n",
    "plt.axis('off') \n",
    "plt.title(\"Third\") \n",
    "\n",
    "# Adds a subplot at the 4th position \n",
    "fig.add_subplot(rows, columns, 4) \n",
    "\n",
    "# showing image \n",
    "plt.imshow(Image4) \n",
    "plt.axis('off') \n",
    "plt.title(\"Fourth\") \n",
    "\n"
   ]
  },
  {
   "cell_type": "code",
   "execution_count": 63,
   "id": "33ac6cc8",
   "metadata": {},
   "outputs": [
    {
     "name": "stdout",
     "output_type": "stream",
     "text": [
      "[0, 0, 2, 0, 0, 4, 2, 4, 0, 0, 0, 0, 0, 0, 0, 4, 0, 0, 0, 0, 2, 0, 0, 2, 0, 0, 0, 0, 4, 0]\n"
     ]
    }
   ],
   "source": [
    "#Investigating a set of nine \n",
    "# from which 8 cubes can be built\n",
    "#Investigating a collection of 8  from the minimal universal set (studied above) \n",
    "# from which three cubes can be built\n",
    "example_nine=['136.524', '125.346', '124.536', '126.453', '123.645', '126.534', '124.563', '125.634', '135.624']\n",
    "Collections=list(it.combinations(example_nine, 8))\n",
    "current_solution_array=np.array([0, 0, 0, 0, 0, 0, 0, 0, 0, 0, 0, 0, 0, 0, 0, 0, 0, 0, 0, 0, 0, 0, 0, 0, 0, 0, 0, 0, 0, 0])\n",
    "       \n",
    "for coll in Collections:\n",
    "    eight_cubes=[C36[key] for key in coll]\n",
    "\n",
    "    a_solution_list=[]\n",
    "    for j in list(C36.keys()): \n",
    "        a_solution_list.append(CountingSolutions(CornerCountVector(eight_cubes, C36[j])))\n",
    "    \n",
    "        \n",
    "    newarray = np.array([w for w in a_solution_list])\n",
    "    current_solution_array = current_solution_array + newarray\n",
    "    current_solution_list = [num for num in current_solution_array]\n",
    "    Number_buildable_cubes = np.count_nonzero(current_solution_array)\n",
    "    \n",
    "print(current_solution_list)    \n",
    "    "
   ]
  },
  {
   "cell_type": "markdown",
   "id": "af45b551",
   "metadata": {},
   "source": [
    "['123.456', '123.465', **'123.546'**, '123.564', '123.645', **'123.654'**, **'124.356'**, **'124.365'**, '124.536', '124.563', '124.635', '124.653', '125.346', '125.364', '125.436', **'125.463'**, '125.634', '125.643', '126.345', '126.354', **'126.435'**, '126.453', '126.534', **'126.543'**, '134.526', '134.625', '135.426', '135.624', **'136.425'**, '136.524']"
   ]
  },
  {
   "cell_type": "code",
   "execution_count": 93,
   "id": "f8e36f30",
   "metadata": {},
   "outputs": [
    {
     "name": "stdout",
     "output_type": "stream",
     "text": [
      "['123.546', '123.654', '124.356', '124.365', '125.463', '126.435', '126.543', '136.425']\n"
     ]
    }
   ],
   "source": [
    "Build = [0, 0, 2, 0, 0, 4, 2, 4, \n",
    "         0, 0, 0, 0, 0, 0, 0, 4, \n",
    "         0, 0, 0, 0, 2, 0, 0, 2, \n",
    "         0, 0, 0, 0, 4, 0]\n",
    "KeysC36 = list(C36.keys())\n",
    "EightBuildable=[]\n",
    "j=0\n",
    "for i in Build:\n",
    "    if i > 0:\n",
    "        EightBuildable.append(KeysC36[j])\n",
    "    j=j+1\n",
    "        \n",
    "print(EightBuildable)\n",
    "        "
   ]
  },
  {
   "cell_type": "code",
   "execution_count": 94,
   "id": "d8db0308",
   "metadata": {},
   "outputs": [
    {
     "name": "stdout",
     "output_type": "stream",
     "text": [
      "these nine cubes (top)\n"
     ]
    },
    {
     "data": {
      "image/png": "[encoded data removed]",
      "text/plain": [
       "<Figure size 288x288 with 1 Axes>"
      ]
     },
     "metadata": {
      "needs_background": "light"
     },
     "output_type": "display_data"
    },
    {
     "name": "stdout",
     "output_type": "stream",
     "text": [
      "build these eight (bottom)\n"
     ]
    },
    {
     "data": {
      "image/png": "[encoded data removed]",
      "text/plain": [
       "<Figure size 288x288 with 1 Axes>"
      ]
     },
     "metadata": {
      "needs_background": "light"
     },
     "output_type": "display_data"
    }
   ],
   "source": [
    "#These\n",
    "example_nine = ['136.524', '125.346', '124.536', '126.453', '123.645', '126.534', '124.563', '125.634', '135.624']\n",
    "#build these\n",
    "EightBuildable = ['123.546', '123.654', '124.356', '124.365', '125.463', '126.435', '126.543', '136.425']\n",
    "\n",
    "print(\"these nine cubes (top)\")\n",
    "displayCubes(example_nine)\n",
    "print(\"build these eight (bottom)\")\n",
    "displayCubes(EightBuildable)\n"
   ]
  },
  {
   "cell_type": "code",
   "execution_count": 134,
   "id": "66e5fe34",
   "metadata": {},
   "outputs": [
    {
     "name": "stdout",
     "output_type": "stream",
     "text": [
      "these cubes are Buildable:\n",
      "['123.546', '123.654', '124.356', '124.365', '125.463', '126.435', '126.543', '136.425']\n",
      "the original set of cubes\n"
     ]
    },
    {
     "data": {
      "image/png": "[encoded data removed]",
      "text/plain": [
       "<Figure size 288x288 with 1 Axes>"
      ]
     },
     "metadata": {
      "needs_background": "light"
     },
     "output_type": "display_data"
    },
    {
     "name": "stdout",
     "output_type": "stream",
     "text": [
      "the set of buildable targets\n"
     ]
    },
    {
     "data": {
      "image/png": "[encoded data removed]",
      "text/plain": [
       "<Figure size 288x288 with 1 Axes>"
      ]
     },
     "metadata": {
      "needs_background": "light"
     },
     "output_type": "display_data"
    }
   ],
   "source": [
    "DisplaySetCubesandBuildableTargets(example_nine, C36)"
   ]
  },
  {
   "cell_type": "code",
   "execution_count": 135,
   "id": "3818b030",
   "metadata": {},
   "outputs": [
    {
     "name": "stdout",
     "output_type": "stream",
     "text": [
      "these cubes are Buildable:\n",
      "['123.456', '123.465', '123.546', '124.356', '124.536', '125.346', '125.634', '135.426']\n",
      "the original set of cubes\n"
     ]
    },
    {
     "data": {
      "image/png": "[encoded data removed]",
      "text/plain": [
       "<Figure size 288x288 with 1 Axes>"
      ]
     },
     "metadata": {
      "needs_background": "light"
     },
     "output_type": "display_data"
    },
    {
     "name": "stdout",
     "output_type": "stream",
     "text": [
      "the set of buildable targets\n"
     ]
    },
    {
     "data": {
      "image/png": "[encoded data removed]",
      "text/plain": [
       "<Figure size 288x288 with 1 Axes>"
      ]
     },
     "metadata": {
      "needs_background": "light"
     },
     "output_type": "display_data"
    }
   ],
   "source": [
    "another9=['124.365', '124.536', '123.654', '125.436', '123.456', '125.346', '126.354', '123.546', '134.526']\n",
    "\n",
    "DisplaySetCubesandBuildableTargets(another9, C36)"
   ]
  },
  {
   "cell_type": "code",
   "execution_count": null,
   "id": "92941690",
   "metadata": {},
   "outputs": [],
   "source": []
  }
 ],
 "metadata": {
  "kernelspec": {
   "display_name": "Python 3 (ipykernel)",
   "language": "python",
   "name": "python3"
  },
  "language_info": {
   "codemirror_mode": {
    "name": "ipython",
    "version": 3
   },
   "file_extension": ".py",
   "mimetype": "text/x-python",
   "name": "python",
   "nbconvert_exporter": "python",
   "pygments_lexer": "ipython3",
   "version": "3.9.12"
  }
 },
 "nbformat": 4,
 "nbformat_minor": 5
}
