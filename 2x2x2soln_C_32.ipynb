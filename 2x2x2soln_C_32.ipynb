{
 "cells": [
  {
   "cell_type": "code",
   "execution_count": 4,
   "metadata": {},
   "outputs": [
    {
     "name": "stdout",
     "output_type": "stream",
     "text": [
      "{'111.112': [112, 112, 112, 112, 111, 111, 111, 111], '222.221': [221, 221, 221, 221, 222, 222, 222, 222], '111.221': [111, 111, 112, 112, 112, 112, 221, 221], '222.112': [222, 222, 221, 221, 221, 221, 112, 112], '112.112': [112, 112, 112, 112, 112, 112, 112, 112], '221.221': [221, 221, 221, 221, 221, 221, 221, 221], '111.222': [111, 222, 112, 112, 112, 221, 221, 221], '112.212': [112, 112, 112, 112, 221, 221, 221, 221]}\n",
      "{'111.112': [112, 112, 112, 112, 111, 111, 111, 111], '222.221': [221, 221, 221, 221, 222, 222, 222, 222], '111.221': [111, 111, 112, 112, 112, 112, 221, 221], '222.112': [222, 222, 221, 221, 221, 221, 112, 112], '112.112': [112, 112, 112, 112, 112, 112, 112, 112], '221.221': [221, 221, 221, 221, 221, 221, 221, 221], '111.222': [111, 222, 112, 112, 112, 221, 221, 221], '112.212': [112, 112, 112, 112, 221, 221, 221, 221]}\n",
      "8\n"
     ]
    }
   ],
   "source": [
    "import csv\n",
    "\n",
    "def csv_to_kvs(fileName):\n",
    "    make_dictionary = {}\n",
    "    with open(fileName,'r') as csvFile:\n",
    "        csvreader = csv.reader(csvFile)\n",
    "        for row in csvreader:\n",
    "            #position 1 and following are integers\n",
    "            make_dictionary[row[0]] = [int(val) for val in row[1:]]\n",
    "        print(make_dictionary)\n",
    "    return make_dictionary\n",
    "\n",
    "\n",
    "C32=csv_to_kvs('C_32all.csv')  \n",
    "print(C32)\n",
    "\n",
    "print(len(C32.keys()))\n",
    "\n"
   ]
  },
  {
   "cell_type": "code",
   "execution_count": 5,
   "metadata": {},
   "outputs": [],
   "source": [
    "%run module2x2x2_ext_match.ipynb"
   ]
  },
  {
   "cell_type": "code",
   "execution_count": 11,
   "metadata": {},
   "outputs": [
    {
     "name": "stdout",
     "output_type": "stream",
     "text": [
      "new target\n",
      "111.112\n",
      "[112, 112, 112, 112, 111, 111, 111, 111] and [221, 221, 221, 221, 222, 222, 222, 222] no intersection\n",
      "[112, 112, 112, 112, 111, 111, 111, 111] and [221, 221, 221, 221, 221, 221, 221, 221] no intersection\n",
      "There are 0 collections to make the target [112, 112, 112, 112, 111, 111, 111, 111]\n",
      "Checked 0 collections of 8 cubes\n",
      "0 of the collections yield no solutions\n",
      "new target\n",
      "222.221\n",
      "[221, 221, 221, 221, 222, 222, 222, 222] and [112, 112, 112, 112, 111, 111, 111, 111] no intersection\n",
      "[221, 221, 221, 221, 222, 222, 222, 222] and [112, 112, 112, 112, 112, 112, 112, 112] no intersection\n",
      "There are 0 collections to make the target [221, 221, 221, 221, 222, 222, 222, 222]\n",
      "Checked 0 collections of 8 cubes\n",
      "0 of the collections yield no solutions\n",
      "new target\n",
      "111.221\n",
      "There are 1 collections to make the target [111, 111, 112, 112, 112, 112, 221, 221]\n",
      "Checked 1 collections of 8 cubes\n",
      "0 of the collections yield no solutions\n",
      " 9437184 :  1\n",
      "new target\n",
      "222.112\n",
      "There are 1 collections to make the target [222, 222, 221, 221, 221, 221, 112, 112]\n",
      "Checked 1 collections of 8 cubes\n",
      "0 of the collections yield no solutions\n",
      " 9437184 :  1\n",
      "new target\n",
      "112.112\n",
      "[112, 112, 112, 112, 112, 112, 112, 112] and [221, 221, 221, 221, 222, 222, 222, 222] no intersection\n",
      "[112, 112, 112, 112, 112, 112, 112, 112] and [221, 221, 221, 221, 221, 221, 221, 221] no intersection\n",
      "There are 0 collections to make the target [112, 112, 112, 112, 112, 112, 112, 112]\n",
      "Checked 0 collections of 8 cubes\n",
      "0 of the collections yield no solutions\n",
      "new target\n",
      "221.221\n",
      "[221, 221, 221, 221, 221, 221, 221, 221] and [112, 112, 112, 112, 111, 111, 111, 111] no intersection\n",
      "[221, 221, 221, 221, 221, 221, 221, 221] and [112, 112, 112, 112, 112, 112, 112, 112] no intersection\n",
      "There are 0 collections to make the target [221, 221, 221, 221, 221, 221, 221, 221]\n",
      "Checked 0 collections of 8 cubes\n",
      "0 of the collections yield no solutions\n",
      "new target\n",
      "111.222\n",
      "There are 1 collections to make the target [111, 222, 112, 112, 112, 221, 221, 221]\n",
      "Checked 1 collections of 8 cubes\n",
      "0 of the collections yield no solutions\n",
      " 57802752 :  1\n",
      "new target\n",
      "112.212\n",
      "There are 1 collections to make the target [112, 112, 112, 112, 221, 221, 221, 221]\n",
      "Checked 1 collections of 8 cubes\n",
      "0 of the collections yield no solutions\n",
      " 396361728 :  1\n"
     ]
    }
   ],
   "source": [
    "my_list=C32.keys()\n",
    "\n",
    "for k in my_list:\n",
    "    print(\n",
    "        \"new target\")\n",
    "    print(k)\n",
    "    SolutionFrequencyList(C32, C32[k])\n",
    " "
   ]
  },
  {
   "cell_type": "code",
   "execution_count": null,
   "metadata": {},
   "outputs": [],
   "source": []
  }
 ],
 "metadata": {
  "kernelspec": {
   "display_name": "Python 3",
   "language": "python",
   "name": "python3"
  },
  "language_info": {
   "codemirror_mode": {
    "name": "ipython",
    "version": 3
   },
   "file_extension": ".py",
   "mimetype": "text/x-python",
   "name": "python",
   "nbconvert_exporter": "python",
   "pygments_lexer": "ipython3",
   "version": "3.6.5"
  }
 },
 "nbformat": 4,
 "nbformat_minor": 2
}
