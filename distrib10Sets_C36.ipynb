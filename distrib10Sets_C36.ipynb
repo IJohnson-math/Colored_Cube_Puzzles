{
 "cells": [
  {
   "cell_type": "code",
   "execution_count": 6,
   "id": "536576a7",
   "metadata": {},
   "outputs": [
    {
     "name": "stdout",
     "output_type": "stream",
     "text": [
      "{'123.456': [123, 253, 354, 134, 146, 456, 265, 162], '123.465': [152, 123, 134, 145, 465, 364, 263, 256], '123.546': [123, 243, 345, 135, 156, 465, 264, 162], '123.564': [154, 142, 123, 135, 365, 263, 246, 456], '123.645': [243, 123, 152, 254, 456, 165, 136, 346], '123.654': [245, 253, 123, 142, 164, 136, 356, 465], '124.356': [143, 124, 254, 345, 356, 265, 162, 136], '124.365': [152, 124, 143, 135, 365, 346, 264, 256], '124.536': [354, 145, 124, 234, 263, 162, 156, 365], '124.563': [153, 132, 124, 145, 465, 264, 236, 356], '124.635': [124, 152, 253, 234, 364, 356, 165, 146], '124.653': [124, 132, 235, 254, 456, 365, 163, 146], '125.346': [245, 354, 153, 125, 162, 136, 346, 264], '125.364': [153, 134, 142, 125, 265, 246, 364, 356], '125.436': [235, 345, 154, 125, 162, 146, 364, 263], '125.463': [154, 143, 132, 125, 265, 236, 346, 456], '125.634': [243, 235, 125, 142, 164, 156, 365, 346], '125.643': [245, 125, 132, 234, 364, 163, 156, 465], '126.345': [152, 135, 345, 254, 246, 364, 163, 126], '126.354': [354, 245, 142, 134, 163, 126, 256, 365], '126.435': [152, 145, 354, 253, 236, 346, 164, 126], '126.453': [143, 345, 235, 132, 126, 256, 465, 164], '126.534': [243, 142, 154, 345, 356, 165, 126, 236], '126.543': [153, 354, 234, 132, 126, 246, 456, 165], '134.526': [243, 254, 145, 134, 163, 156, 265, 236], '134.625': [153, 235, 243, 134, 146, 264, 256, 165], '135.426': [245, 154, 135, 253, 236, 163, 146, 264], '135.624': [143, 234, 253, 135, 156, 265, 246, 164], '136.425': [235, 153, 145, 254, 246, 164, 136, 263], '136.524': [143, 154, 245, 234, 263, 256, 165, 136]}\n",
      "30\n",
      "['123.456', '123.465', '123.546', '123.564', '123.645', '123.654', '124.356', '124.365', '124.536', '124.563', '124.635', '124.653', '125.346', '125.364', '125.436', '125.463', '125.634', '125.643', '126.345', '126.354', '126.435', '126.453', '126.534', '126.543', '134.526', '134.625', '135.426', '135.624', '136.425', '136.524']\n"
     ]
    }
   ],
   "source": [
    "import csv\n",
    "import random\n",
    "from matplotlib import pyplot as plt\n",
    "import numpy as np\n",
    "import pandas as pd\n",
    "\n",
    "def csv_to_kvs(fileName):\n",
    "    make_dictionary = {}\n",
    "    with open(fileName,'r') as csvFile:\n",
    "        csvreader = csv.reader(csvFile)\n",
    "        for row in csvreader:\n",
    "            #position 1 and following are integers\n",
    "            make_dictionary[row[0]] = [int(val) for val in row[1:]]\n",
    "        print(make_dictionary)\n",
    "    return make_dictionary\n",
    "\n",
    "C36=csv_to_kvs('C_36all.csv')  \n",
    "\n",
    "\n",
    "print(len(C36.keys()))\n",
    "\n",
    "keysListC36 = list(C36.keys()) \n",
    "print(keysListC36)"
   ]
  },
  {
   "cell_type": "code",
   "execution_count": 7,
   "id": "8d789db4",
   "metadata": {},
   "outputs": [
    {
     "name": "stdout",
     "output_type": "stream",
     "text": [
      "Today's date: 2024-04-16\n"
     ]
    }
   ],
   "source": [
    "%run module2x2x2_ext_match.ipynb\n",
    "\n",
    "from datetime import date\n",
    "\n",
    "today = date.today()\n",
    "print(\"Today's date:\", today)"
   ]
  },
  {
   "cell_type": "markdown",
   "id": "353856de",
   "metadata": {},
   "source": [
    "# Investigating the number of buildable cubes using sets of 10 cubes\n",
    "\n",
    "## Functions to use:\n",
    "\n",
    "* **RandomKCubes**(dictionary, k)  <br>\n",
    "dictionary = dictionary of cubes k = set of size k <br> output: a random selection of k cubes from dictionary\n",
    "\n",
    "* **NumberBuildable4SetTENCubes**(a_collection_of_ten_cubes, dictionary_possible_targets_to_build)  <br>\n",
    "a_collection_of_ten_cubes is the output of RandomKCubes  <br>\n",
    "output: the number of cubes in dictionary_possible_targets_to_build that are buildable with a_collection_of_nine_cubes\n",
    "\n",
    "* **DistributionBuildNum4SetsOfTen**(dictionary_sets, number_samples)"
   ]
  },
  {
   "cell_type": "code",
   "execution_count": 3,
   "id": "30c3c390",
   "metadata": {},
   "outputs": [
    {
     "data": {
      "text/plain": [
       "[[143, 345, 235, 132, 126, 256, 465, 164],\n",
       " [152, 124, 143, 135, 365, 346, 264, 256],\n",
       " [153, 134, 142, 125, 265, 246, 364, 356],\n",
       " [154, 142, 123, 135, 365, 263, 246, 456],\n",
       " [243, 254, 145, 134, 163, 156, 265, 236],\n",
       " [123, 243, 345, 135, 156, 465, 264, 162],\n",
       " [143, 234, 253, 135, 156, 265, 246, 164],\n",
       " [354, 245, 142, 134, 163, 126, 256, 365],\n",
       " [152, 145, 354, 253, 236, 346, 164, 126],\n",
       " [245, 253, 123, 142, 164, 136, 356, 465]]"
      ]
     },
     "execution_count": 3,
     "metadata": {},
     "output_type": "execute_result"
    }
   ],
   "source": [
    "#Example selecting 10 random cubes from C36\n",
    "RandomKCubes(C36, 10)"
   ]
  },
  {
   "cell_type": "code",
   "execution_count": 4,
   "id": "b960f0a6",
   "metadata": {},
   "outputs": [],
   "source": [
    "def NumberBuildable4SetTENCubes(one_collection_of_ten, dictionary_for_targets): \n",
    "    keysList_targets = list(dictionary_for_targets.keys())\n",
    "    TenSet = one_collection_of_ten\n",
    "  \n",
    "    Collections=list(it.combinations(TenSet, 8))\n",
    "      \n",
    "    current_solution_array=np.array([0, 0, 0, 0, 0, 0, 0, 0, 0, 0, 0, 0, 0, 0, 0, 0, 0, 0, 0, 0, 0, 0, 0, 0, 0, 0, 0, 0, 0, 0])     \n",
    "\n",
    "    #for each subset of 8 cubes, determine how many cubes are buildable\n",
    "    for coll in Collections:\n",
    "        a_solution_list=[]\n",
    "            \n",
    "        for j in keysList_targets:\n",
    "            a_solution_list.append(CountingSolutions(CornerCountVector(coll, dictionary_for_targets[j])))\n",
    "            \n",
    "        newarray = np.array([w for w in a_solution_list])\n",
    "        current_solution_array = current_solution_array + newarray\n",
    "  \n",
    "    Number_buildable_cubes = np.count_nonzero(current_solution_array)\n",
    "    \n",
    "    return Number_buildable_cubes"
   ]
  },
  {
   "cell_type": "code",
   "execution_count": null,
   "id": "e67e4c60",
   "metadata": {},
   "outputs": [],
   "source": [
    "#Example (cont.) calculating the number of buildable cubes using a randomly selected set of 10\n",
    "NumberBuildable4SetTENCubes(RandomKCubes(C36, 10), C36)"
   ]
  },
  {
   "cell_type": "code",
   "execution_count": null,
   "id": "6516e2a1",
   "metadata": {},
   "outputs": [],
   "source": []
  },
  {
   "cell_type": "code",
   "execution_count": 8,
   "id": "64b03616",
   "metadata": {},
   "outputs": [],
   "source": [
    "#in module2x2x2\n",
    "def NumberBuildable4SetsSizeK(one_collection_of_k, dictionary_for_targets):\n",
    "    k = len(one_collection_of_k)\n",
    "    if k<8:\n",
    "        return print(\"collection too small to build any targets\")\n",
    "    keysList_targets = list(dictionary_for_targets.keys())\n",
    "    \n",
    "    Collections=list(it.combinations(one_collection_of_k, 8))  \n",
    "    current_solution_array=np.array([0, 0, 0, 0, 0, 0, 0, 0, 0, 0, 0, 0, 0, 0, 0, 0, 0, 0, 0, 0, 0, 0, 0, 0, 0, 0, 0, 0, 0, 0])     \n",
    "\n",
    "    #for each subset of 8 cubes, determine how many cubes are buildable\n",
    "    for coll in Collections:\n",
    "        a_solution_list=[]\n",
    "            \n",
    "        for j in keysList_targets:\n",
    "            a_solution_list.append(CountingSolutions(CornerCountVector(coll, dictionary_for_targets[j])))\n",
    "            \n",
    "        newarray = np.array([w for w in a_solution_list])\n",
    "        current_solution_array = current_solution_array + newarray\n",
    "  \n",
    "    Number_buildable_cubes = np.count_nonzero(current_solution_array)\n",
    "    \n",
    "    return Number_buildable_cubes"
   ]
  },
  {
   "cell_type": "code",
   "execution_count": 28,
   "id": "b2ed1090",
   "metadata": {},
   "outputs": [
    {
     "data": {
      "text/plain": [
       "6"
      ]
     },
     "execution_count": 28,
     "metadata": {},
     "output_type": "execute_result"
    }
   ],
   "source": [
    "NumberBuildable4SetsSizeK(RandomKCubes(C36, 9), C36)"
   ]
  },
  {
   "cell_type": "code",
   "execution_count": 30,
   "id": "71fbdf67",
   "metadata": {},
   "outputs": [],
   "source": [
    "#in module2x2x2\n",
    "def DistributionBuildNum4SetsOfK(k, dictionary_sets, number_samples):\n",
    "    list_numberBuildable=[]\n",
    "    for i in range(number_samples):\n",
    "        set_size_k = RandomKCubes(dictionary_sets, k)\n",
    "        n = NumberBuildable4SetsSizeK(set_size_k, dictionary_sets)\n",
    "        list_numberBuildable.append(n)\n",
    "        \n",
    "    return list_numberBuildable"
   ]
  },
  {
   "cell_type": "code",
   "execution_count": 35,
   "id": "c32ac277",
   "metadata": {},
   "outputs": [
    {
     "data": {
      "image/png": "[encoded data removed]",
      "text/plain": [
       "<Figure size 864x720 with 1 Axes>"
      ]
     },
     "metadata": {
      "needs_background": "light"
     },
     "output_type": "display_data"
    },
    {
     "name": "stdout",
     "output_type": "stream",
     "text": [
      " 25 :  16\n",
      " 24 :  57\n",
      " 23 :  148\n",
      " 22 :  291\n",
      " 21 :  401\n",
      " 20 :  641\n",
      " 19 :  686\n",
      " 18 :  695\n",
      " 17 :  706\n",
      " 16 :  518\n",
      " 15 :  358\n",
      " 14 :  255\n",
      " 13 :  124\n",
      " 12 :  70\n",
      " 11 :  28\n",
      " 10 :  6\n",
      "the average number of buildable cubes is 18.0818\n",
      "the standard deviation of the number of buildable cubes is 2.6638558492525677\n"
     ]
    }
   ],
   "source": [
    "a=DistributionBuildNum4SetsOfK(12, C36, 5000)\n",
    "\n",
    "import statistics\n",
    "\n",
    "#histogram\n",
    "fig, ax=plt.subplots(figsize=(12,10))\n",
    "ax.hist(a, bins=[5,6,7,8,9,10,11,12,13,14,15,16,17,18,19,20,21, 22, 23, 24, 25, 26, 27, 28, 29, 30])\n",
    "plt.xlabel(\"Number of Buildable cubes\")\n",
    "plt.ylabel(\"n=5000 Random Samples of Twelve Cubes\")\n",
    "plt.show()\n",
    "\n",
    "CountFrequency(a)\n",
    "\n",
    "print(\"the average number of buildable cubes is\", statistics.mean(a))\n",
    "print(\"the standard deviation of the number of buildable cubes is\", statistics.stdev(a)) \n",
    "\n"
   ]
  },
  {
   "cell_type": "markdown",
   "id": "b04bf439",
   "metadata": {},
   "source": [
    "From randomly selecting sets of 12, looks like the min# buildable is 9 and max# buildable is 26.  There are sets of 12 that build all thirty cubes, so those are exceedingly rare. <br>\n",
    "<br>\n",
    "Data from a random sample n=5000 sets of size 12<br>\n",
    "25 :  14<br>\n",
    " 24 :  68<br>\n",
    " 23 :  157<br>\n",
    " 22 :  282<br>\n",
    " 21 :  480<br>\n",
    " 20 :  625<br>\n",
    " 19 :  676<br>\n",
    " 18 :  704<br>\n",
    " 17 :  647<br>\n",
    " 16 :  558<br>\n",
    " 15 :  324<br>\n",
    " 14 :  252<br>\n",
    " 13 :  122<br>\n",
    " 12 :  76<br>\n",
    " 11 :  10<br>\n",
    " 10 :  4<br>\n",
    " 9 :  1<br>\n",
    "the average number of buildable cubes is 18.173<br>\n",
    "the standard deviation of the number of buildable cubes is 2.65948972119003"
   ]
  },
  {
   "cell_type": "code",
   "execution_count": 29,
   "id": "34c344ed",
   "metadata": {},
   "outputs": [],
   "source": [
    "def DistributionBuildNum4SetsOfTen(dictionary_sets, number_samples):\n",
    "    list_numberBuildable=[]\n",
    "    for i in range(number_samples):\n",
    "        ten_set = RandomKCubes(dictionary_sets, 10)\n",
    "        n = NumberBuildable4SetTENCubes(ten_set, dictionary_sets)\n",
    "        list_numberBuildable.append(n)\n",
    "        if n==14:\n",
    "            print(\"these build 14\", ten_set)\n",
    "        \n",
    "    return list_numberBuildable"
   ]
  },
  {
   "cell_type": "code",
   "execution_count": 26,
   "id": "5e8c9fde",
   "metadata": {
    "scrolled": true
   },
   "outputs": [
    {
     "name": "stdout",
     "output_type": "stream",
     "text": [
      "these build 14 [[243, 235, 125, 142, 164, 156, 365, 346], [143, 345, 235, 132, 126, 256, 465, 164], [153, 134, 142, 125, 265, 246, 364, 356], [243, 123, 152, 254, 456, 165, 136, 346], [245, 154, 135, 253, 236, 163, 146, 264], [152, 123, 134, 145, 465, 364, 263, 256], [354, 145, 124, 234, 263, 162, 156, 365], [154, 143, 132, 125, 265, 236, 346, 456], [123, 243, 345, 135, 156, 465, 264, 162], [245, 253, 123, 142, 164, 136, 356, 465]]\n",
      "these build 14 [[245, 154, 135, 253, 236, 163, 146, 264], [143, 124, 254, 345, 356, 265, 162, 136], [245, 125, 132, 234, 364, 163, 156, 465], [235, 153, 145, 254, 246, 164, 136, 263], [152, 123, 134, 145, 465, 364, 263, 256], [152, 124, 143, 135, 365, 346, 264, 256], [243, 235, 125, 142, 164, 156, 365, 346], [143, 234, 253, 135, 156, 265, 246, 164], [243, 142, 154, 345, 356, 165, 126, 236], [153, 354, 234, 132, 126, 246, 456, 165]]\n",
      "these build 14 [[143, 345, 235, 132, 126, 256, 465, 164], [354, 145, 124, 234, 263, 162, 156, 365], [154, 142, 123, 135, 365, 263, 246, 456], [152, 135, 345, 254, 246, 364, 163, 126], [152, 145, 354, 253, 236, 346, 164, 126], [243, 254, 145, 134, 163, 156, 265, 236], [124, 132, 235, 254, 456, 365, 163, 146], [245, 354, 153, 125, 162, 136, 346, 264], [152, 124, 143, 135, 365, 346, 264, 256], [124, 152, 253, 234, 364, 356, 165, 146]]\n",
      "these build 14 [[143, 234, 253, 135, 156, 265, 246, 164], [153, 132, 124, 145, 465, 264, 236, 356], [124, 132, 235, 254, 456, 365, 163, 146], [153, 354, 234, 132, 126, 246, 456, 165], [124, 152, 253, 234, 364, 356, 165, 146], [143, 154, 245, 234, 263, 256, 165, 136], [243, 123, 152, 254, 456, 165, 136, 346], [354, 245, 142, 134, 163, 126, 256, 365], [154, 143, 132, 125, 265, 236, 346, 456], [235, 345, 154, 125, 162, 146, 364, 263]]\n",
      "these build 14 [[143, 124, 254, 345, 356, 265, 162, 136], [152, 123, 134, 145, 465, 364, 263, 256], [245, 354, 153, 125, 162, 136, 346, 264], [245, 154, 135, 253, 236, 163, 146, 264], [153, 354, 234, 132, 126, 246, 456, 165], [154, 142, 123, 135, 365, 263, 246, 456], [243, 235, 125, 142, 164, 156, 365, 346], [143, 234, 253, 135, 156, 265, 246, 164], [123, 253, 354, 134, 146, 456, 265, 162], [152, 135, 345, 254, 246, 364, 163, 126]]\n",
      "these build 14 [[124, 132, 235, 254, 456, 365, 163, 146], [143, 154, 245, 234, 263, 256, 165, 136], [152, 145, 354, 253, 236, 346, 164, 126], [123, 243, 345, 135, 156, 465, 264, 162], [152, 124, 143, 135, 365, 346, 264, 256], [245, 253, 123, 142, 164, 136, 356, 465], [143, 345, 235, 132, 126, 256, 465, 164], [243, 142, 154, 345, 356, 165, 126, 236], [123, 253, 354, 134, 146, 456, 265, 162], [153, 134, 142, 125, 265, 246, 364, 356]]\n",
      "these build 14 [[245, 253, 123, 142, 164, 136, 356, 465], [245, 354, 153, 125, 162, 136, 346, 264], [152, 135, 345, 254, 246, 364, 163, 126], [152, 123, 134, 145, 465, 364, 263, 256], [143, 234, 253, 135, 156, 265, 246, 164], [153, 132, 124, 145, 465, 264, 236, 356], [123, 253, 354, 134, 146, 456, 265, 162], [124, 132, 235, 254, 456, 365, 163, 146], [243, 142, 154, 345, 356, 165, 126, 236], [243, 235, 125, 142, 164, 156, 365, 346]]\n",
      "these build 14 [[243, 254, 145, 134, 163, 156, 265, 236], [152, 124, 143, 135, 365, 346, 264, 256], [245, 354, 153, 125, 162, 136, 346, 264], [354, 145, 124, 234, 263, 162, 156, 365], [143, 234, 253, 135, 156, 265, 246, 164], [143, 345, 235, 132, 126, 256, 465, 164], [245, 125, 132, 234, 364, 163, 156, 465], [124, 152, 253, 234, 364, 356, 165, 146], [154, 142, 123, 135, 365, 263, 246, 456], [153, 132, 124, 145, 465, 264, 236, 356]]\n"
     ]
    },
    {
     "data": {
      "image/png": "[encoded data removed]",
      "text/plain": [
       "<Figure size 864x720 with 1 Axes>"
      ]
     },
     "metadata": {
      "needs_background": "light"
     },
     "output_type": "display_data"
    },
    {
     "name": "stdout",
     "output_type": "stream",
     "text": [
      " 14 :  8\n",
      " 13 :  28\n",
      " 12 :  174\n",
      " 11 :  471\n",
      " 10 :  1467\n",
      " 9 :  2805\n",
      " 8 :  3985\n",
      " 7 :  4519\n",
      " 6 :  3672\n",
      " 5 :  2037\n",
      " 4 :  668\n",
      " 3 :  140\n",
      " 2 :  26\n",
      "the average number of buildable cubes is 7.3267\n",
      "the standard deviation of the number of buildable cubes is 1.7361502875301562\n"
     ]
    }
   ],
   "source": [
    "#Example, distribution of the number of buildable cubes for n=20000 sets of 10 cubes\n",
    "a = DistributionBuildNum4SetsOfTen(C36, 20000)\n",
    "\n",
    "import statistics\n",
    "\n",
    "#histogram\n",
    "fig, ax=plt.subplots(figsize=(12,10))\n",
    "ax.hist(a, bins=[1,2,3,4,5,6,7,8,9,10,11,12,13,14,15])\n",
    "plt.xlabel(\"Number of Buildable cubes\")\n",
    "plt.ylabel(\"n=20,000 Random Samples of Ten Cubes\")\n",
    "plt.show()\n",
    "\n",
    "CountFrequency(a)\n",
    "\n",
    "print(\"the average number of buildable cubes is\", statistics.mean(a))\n",
    "print(\"the standard deviation of the number of buildable cubes is\", statistics.stdev(a)) "
   ]
  },
  {
   "cell_type": "markdown",
   "id": "4be6df30",
   "metadata": {},
   "source": [
    "## Conjecture: A set of 10 cubes in C36 can build no more than 14 targets.\n",
    "\n",
    "Here is an example that builds 14 targets.\n",
    "<br>\n",
    "**These 10 cubes build 14 targets** \n",
    "[[143, 234, 253, 135, 156, 265, 246, 164], [152, 145, 354, 253, 236, 346, 164, 126], [152, 124, 143, 135, 365, 346, 264, 256], [153, 354, 234, 132, 126, 246, 456, 165], [243, 142, 154, 345, 356, 165, 126, 236], [245, 253, 123, 142, 164, 136, 356, 465], [243, 254, 145, 134, 163, 156, 265, 236], [124, 132, 235, 254, 456, 365, 163, 146], [354, 145, 124, 234, 263, 162, 156, 365], [235, 345, 154, 125, 162, 146, 364, 263]]\n",
    "\n",
    "**These 10 cubes build 14 targets** [[243, 123, 152, 254, 456, 165, 136, 346], [152, 124, 143, 135, 365, 346, 264, 256], [153, 354, 234, 132, 126, 246, 456, 165], [235, 345, 154, 125, 162, 146, 364, 263], [235, 153, 145, 254, 246, 164, 136, 263], [245, 253, 123, 142, 164, 136, 356, 465], [243, 254, 145, 134, 163, 156, 265, 236], [143, 345, 235, 132, 126, 256, 465, 164], [154, 142, 123, 135, 365, 263, 246, 456], [123, 253, 354, 134, 146, 456, 265, 162]]\n"
   ]
  },
  {
   "cell_type": "markdown",
   "id": "b23c832c",
   "metadata": {},
   "source": [
    "## Displaying sets of 10 cubes that build 14 targets \n",
    "\n",
    "The tableau is depicted in green with the selected cubes in dark blue and blank diagonal entries in yellow."
   ]
  },
  {
   "cell_type": "code",
   "execution_count": 21,
   "id": "1e645915",
   "metadata": {},
   "outputs": [
    {
     "name": "stdout",
     "output_type": "stream",
     "text": [
      "these cubes are Buildable:\n",
      "['123.456', '123.564', '124.356', '124.536', '124.563', '124.635', '125.463', '125.634', '126.345', '126.354', '126.435', '126.453', '135.426', '136.425']\n",
      "the original set of cubes\n"
     ]
    },
    {
     "data": {
      "image/png": "[encoded data removed]",
      "text/plain": [
       "<Figure size 288x288 with 1 Axes>"
      ]
     },
     "metadata": {
      "needs_background": "light"
     },
     "output_type": "display_data"
    },
    {
     "name": "stdout",
     "output_type": "stream",
     "text": [
      "the set of buildable targets\n"
     ]
    },
    {
     "data": {
      "image/png": "[encoded data removed]",
      "text/plain": [
       "<Figure size 288x288 with 1 Axes>"
      ]
     },
     "metadata": {
      "needs_background": "light"
     },
     "output_type": "display_data"
    }
   ],
   "source": [
    "TenCubesBuildFourteenTargets = [[143, 234, 253, 135, 156, 265, 246, 164], [152, 145, 354, 253, 236, 346, 164, 126], [152, 124, 143, 135, 365, 346, 264, 256], [153, 354, 234, 132, 126, 246, 456, 165], [243, 142, 154, 345, 356, 165, 126, 236], [245, 253, 123, 142, 164, 136, 356, 465], [243, 254, 145, 134, 163, 156, 265, 236], [124, 132, 235, 254, 456, 365, 163, 146], [354, 145, 124, 234, 263, 162, 156, 365], [235, 345, 154, 125, 162, 146, 364, 263]]\n",
    "List10Names= CubeCornersListToNames(TenCubesBuildFourteenTargets, C36)\n",
    "DisplaySetCubesandBuildableTargets(List10Names, C36)"
   ]
  },
  {
   "cell_type": "code",
   "execution_count": 28,
   "id": "e41b0790",
   "metadata": {},
   "outputs": [
    {
     "name": "stdout",
     "output_type": "stream",
     "text": [
      "these cubes are Buildable:\n",
      "['123.465', '123.546', '123.564', '123.645', '124.356', '124.653', '125.463', '125.634', '126.345', '126.435', '134.625', '135.624', '136.425', '136.524']\n",
      "the original set of cubes\n"
     ]
    },
    {
     "data": {
      "image/png": "[encoded data removed]",
      "text/plain": [
       "<Figure size 288x288 with 1 Axes>"
      ]
     },
     "metadata": {
      "needs_background": "light"
     },
     "output_type": "display_data"
    },
    {
     "name": "stdout",
     "output_type": "stream",
     "text": [
      "the set of buildable targets\n"
     ]
    },
    {
     "data": {
      "image/png": "[encoded data removed]",
      "text/plain": [
       "<Figure size 288x288 with 1 Axes>"
      ]
     },
     "metadata": {
      "needs_background": "light"
     },
     "output_type": "display_data"
    }
   ],
   "source": [
    "TenCubesBuildFourteenTargets2 = [[243, 123, 152, 254, 456, 165, 136, 346], [152, 124, 143, 135, 365, 346, 264, 256], [153, 354, 234, 132, 126, 246, 456, 165], [235, 345, 154, 125, 162, 146, 364, 263], [235, 153, 145, 254, 246, 164, 136, 263], [245, 253, 123, 142, 164, 136, 356, 465], [243, 254, 145, 134, 163, 156, 265, 236], [143, 345, 235, 132, 126, 256, 465, 164], [154, 142, 123, 135, 365, 263, 246, 456], [123, 253, 354, 134, 146, 456, 265, 162]]\n",
    "List10Names2= CubeCornersListToNames(TenCubesBuildFourteenTargets2, C36)\n",
    "DisplaySetCubesandBuildableTargets(List10Names2, C36)"
   ]
  },
  {
   "cell_type": "code",
   "execution_count": 29,
   "id": "c66d36b8",
   "metadata": {},
   "outputs": [],
   "source": [
    "#lists of 10 cubes that build 14 targets:\n",
    "ListsOf10Cubes=[\n",
    "[[143, 345, 235, 132, 126, 256, 465, 164], [243, 254, 145, 134, 163, 156, 265, 236], [153, 132, 124, 145, 465, 264, 236, 356], [154, 142, 123, 135, 365, 263, 246, 456], [243, 123, 152, 254, 456, 165, 136, 346], [143, 234, 253, 135, 156, 265, 246, 164], [245, 354, 153, 125, 162, 136, 346, 264], [152, 145, 354, 253, 236, 346, 164, 126], [354, 245, 142, 134, 163, 126, 256, 365], [124, 152, 253, 234, 364, 356, 165, 146]],\n",
    "[[243, 142, 154, 345, 356, 165, 126, 236], [152, 124, 143, 135, 365, 346, 264, 256], [124, 152, 253, 234, 364, 356, 165, 146], [143, 124, 254, 345, 356, 265, 162, 136], [154, 142, 123, 135, 365, 263, 246, 456], [245, 125, 132, 234, 364, 163, 156, 465], [154, 143, 132, 125, 265, 236, 346, 456], [123, 253, 354, 134, 146, 456, 265, 162], [235, 153, 145, 254, 246, 164, 136, 263], [245, 354, 153, 125, 162, 136, 346, 264]],\n",
    "[[354, 145, 124, 234, 263, 162, 156, 365], [123, 243, 345, 135, 156, 465, 264, 162], [243, 254, 145, 134, 163, 156, 265, 236], [245, 154, 135, 253, 236, 163, 146, 264], [143, 154, 245, 234, 263, 256, 165, 136], [153, 134, 142, 125, 265, 246, 364, 356], [245, 253, 123, 142, 164, 136, 356, 465], [243, 235, 125, 142, 164, 156, 365, 346], [245, 354, 153, 125, 162, 136, 346, 264], [143, 345, 235, 132, 126, 256, 465, 164]],\n",
    "[[243, 254, 145, 134, 163, 156, 265, 236], [153, 354, 234, 132, 126, 246, 456, 165], [143, 234, 253, 135, 156, 265, 246, 164], [154, 142, 123, 135, 365, 263, 246, 456], [123, 253, 354, 134, 146, 456, 265, 162], [152, 123, 134, 145, 465, 364, 263, 256], [152, 135, 345, 254, 246, 364, 163, 126], [152, 124, 143, 135, 365, 346, 264, 256], [245, 253, 123, 142, 164, 136, 356, 465], [235, 345, 154, 125, 162, 146, 364, 263]],\n",
    "[[235, 153, 145, 254, 246, 164, 136, 263], [153, 235, 243, 134, 146, 264, 256, 165], [154, 142, 123, 135, 365, 263, 246, 456], [354, 145, 124, 234, 263, 162, 156, 365], [243, 254, 145, 134, 163, 156, 265, 236], [245, 354, 153, 125, 162, 136, 346, 264], [143, 345, 235, 132, 126, 256, 465, 164], [124, 152, 253, 234, 364, 356, 165, 146], [152, 123, 134, 145, 465, 364, 263, 256], [354, 245, 142, 134, 163, 126, 256, 365]],\n",
    "[[154, 143, 132, 125, 265, 236, 346, 456], [243, 235, 125, 142, 164, 156, 365, 346], [153, 132, 124, 145, 465, 264, 236, 356], [143, 345, 235, 132, 126, 256, 465, 164], [153, 235, 243, 134, 146, 264, 256, 165], [143, 124, 254, 345, 356, 265, 162, 136], [152, 123, 134, 145, 465, 364, 263, 256], [245, 354, 153, 125, 162, 136, 346, 264], [153, 354, 234, 132, 126, 246, 456, 165], [245, 154, 135, 253, 236, 163, 146, 264]],\n",
    "[[153, 235, 243, 134, 146, 264, 256, 165], [354, 145, 124, 234, 263, 162, 156, 365], [123, 253, 354, 134, 146, 456, 265, 162], [124, 152, 253, 234, 364, 356, 165, 146], [154, 143, 132, 125, 265, 236, 346, 456], [235, 153, 145, 254, 246, 164, 136, 263], [243, 123, 152, 254, 456, 165, 136, 346], [243, 142, 154, 345, 356, 165, 126, 236], [354, 245, 142, 134, 163, 126, 256, 365], [123, 243, 345, 135, 156, 465, 264, 162]],\n",
    "[[154, 142, 123, 135, 365, 263, 246, 456], [154, 143, 132, 125, 265, 236, 346, 456], [243, 123, 152, 254, 456, 165, 136, 346], [235, 345, 154, 125, 162, 146, 364, 263], [245, 253, 123, 142, 164, 136, 356, 465], [124, 152, 253, 234, 364, 356, 165, 146], [152, 135, 345, 254, 246, 364, 163, 126], [354, 145, 124, 234, 263, 162, 156, 365], [143, 154, 245, 234, 263, 256, 165, 136], [153, 235, 243, 134, 146, 264, 256, 165]],\n",
    "[[243, 235, 125, 142, 164, 156, 365, 346], [243, 254, 145, 134, 163, 156, 265, 236], [153, 132, 124, 145, 465, 264, 236, 356], [124, 132, 235, 254, 456, 365, 163, 146], [124, 152, 253, 234, 364, 356, 165, 146], [143, 124, 254, 345, 356, 265, 162, 136], [143, 234, 253, 135, 156, 265, 246, 164], [243, 142, 154, 345, 356, 165, 126, 236], [152, 123, 134, 145, 465, 364, 263, 256], [245, 354, 153, 125, 162, 136, 346, 264]],\n",
    "[[243, 235, 125, 142, 164, 156, 365, 346], [124, 152, 253, 234, 364, 356, 165, 146], [245, 253, 123, 142, 164, 136, 356, 465], [354, 245, 142, 134, 163, 126, 256, 365], [123, 243, 345, 135, 156, 465, 264, 162], [153, 132, 124, 145, 465, 264, 236, 356], [152, 135, 345, 254, 246, 364, 163, 126], [123, 253, 354, 134, 146, 456, 265, 162], [154, 143, 132, 125, 265, 236, 346, 456], [143, 154, 245, 234, 263, 256, 165, 136]],\n",
    "[[152, 135, 345, 254, 246, 364, 163, 126], [243, 254, 145, 134, 163, 156, 265, 236], [152, 124, 143, 135, 365, 346, 264, 256], [153, 354, 234, 132, 126, 246, 456, 165], [123, 253, 354, 134, 146, 456, 265, 162], [243, 142, 154, 345, 356, 165, 126, 236], [235, 345, 154, 125, 162, 146, 364, 263], [124, 152, 253, 234, 364, 356, 165, 146], [245, 253, 123, 142, 164, 136, 356, 465], [154, 142, 123, 135, 365, 263, 246, 456]],\n",
    "[[243, 235, 125, 142, 164, 156, 365, 346], [143, 345, 235, 132, 126, 256, 465, 164], [153, 134, 142, 125, 265, 246, 364, 356], [243, 123, 152, 254, 456, 165, 136, 346], [245, 154, 135, 253, 236, 163, 146, 264], [152, 123, 134, 145, 465, 364, 263, 256], [354, 145, 124, 234, 263, 162, 156, 365], [154, 143, 132, 125, 265, 236, 346, 456], [123, 243, 345, 135, 156, 465, 264, 162], [245, 253, 123, 142, 164, 136, 356, 465]],\n",
    "[[245, 154, 135, 253, 236, 163, 146, 264], [143, 124, 254, 345, 356, 265, 162, 136], [245, 125, 132, 234, 364, 163, 156, 465], [235, 153, 145, 254, 246, 164, 136, 263], [152, 123, 134, 145, 465, 364, 263, 256], [152, 124, 143, 135, 365, 346, 264, 256], [243, 235, 125, 142, 164, 156, 365, 346], [143, 234, 253, 135, 156, 265, 246, 164], [243, 142, 154, 345, 356, 165, 126, 236], [153, 354, 234, 132, 126, 246, 456, 165]],\n",
    "[[143, 345, 235, 132, 126, 256, 465, 164], [354, 145, 124, 234, 263, 162, 156, 365], [154, 142, 123, 135, 365, 263, 246, 456], [152, 135, 345, 254, 246, 364, 163, 126], [152, 145, 354, 253, 236, 346, 164, 126], [243, 254, 145, 134, 163, 156, 265, 236], [124, 132, 235, 254, 456, 365, 163, 146], [245, 354, 153, 125, 162, 136, 346, 264], [152, 124, 143, 135, 365, 346, 264, 256], [124, 152, 253, 234, 364, 356, 165, 146]],\n",
    "[[143, 234, 253, 135, 156, 265, 246, 164], [153, 132, 124, 145, 465, 264, 236, 356], [124, 132, 235, 254, 456, 365, 163, 146], [153, 354, 234, 132, 126, 246, 456, 165], [124, 152, 253, 234, 364, 356, 165, 146], [143, 154, 245, 234, 263, 256, 165, 136], [243, 123, 152, 254, 456, 165, 136, 346], [354, 245, 142, 134, 163, 126, 256, 365], [154, 143, 132, 125, 265, 236, 346, 456], [235, 345, 154, 125, 162, 146, 364, 263]],\n",
    "[[143, 124, 254, 345, 356, 265, 162, 136], [152, 123, 134, 145, 465, 364, 263, 256], [245, 354, 153, 125, 162, 136, 346, 264], [245, 154, 135, 253, 236, 163, 146, 264], [153, 354, 234, 132, 126, 246, 456, 165], [154, 142, 123, 135, 365, 263, 246, 456], [243, 235, 125, 142, 164, 156, 365, 346], [143, 234, 253, 135, 156, 265, 246, 164], [123, 253, 354, 134, 146, 456, 265, 162], [152, 135, 345, 254, 246, 364, 163, 126]],\n",
    "[[124, 132, 235, 254, 456, 365, 163, 146], [143, 154, 245, 234, 263, 256, 165, 136], [152, 145, 354, 253, 236, 346, 164, 126], [123, 243, 345, 135, 156, 465, 264, 162], [152, 124, 143, 135, 365, 346, 264, 256], [245, 253, 123, 142, 164, 136, 356, 465], [143, 345, 235, 132, 126, 256, 465, 164], [243, 142, 154, 345, 356, 165, 126, 236], [123, 253, 354, 134, 146, 456, 265, 162], [153, 134, 142, 125, 265, 246, 364, 356]],\n",
    "[[245, 253, 123, 142, 164, 136, 356, 465], [245, 354, 153, 125, 162, 136, 346, 264], [152, 135, 345, 254, 246, 364, 163, 126], [152, 123, 134, 145, 465, 364, 263, 256], [143, 234, 253, 135, 156, 265, 246, 164], [153, 132, 124, 145, 465, 264, 236, 356], [123, 253, 354, 134, 146, 456, 265, 162], [124, 132, 235, 254, 456, 365, 163, 146], [243, 142, 154, 345, 356, 165, 126, 236], [243, 235, 125, 142, 164, 156, 365, 346]],\n",
    "[[243, 254, 145, 134, 163, 156, 265, 236], [152, 124, 143, 135, 365, 346, 264, 256], [245, 354, 153, 125, 162, 136, 346, 264], [354, 145, 124, 234, 263, 162, 156, 365], [143, 234, 253, 135, 156, 265, 246, 164], [143, 345, 235, 132, 126, 256, 465, 164], [245, 125, 132, 234, 364, 163, 156, 465], [124, 152, 253, 234, 364, 356, 165, 146], [154, 142, 123, 135, 365, 263, 246, 456], [153, 132, 124, 145, 465, 264, 236, 356]]]"
   ]
  },
  {
   "cell_type": "code",
   "execution_count": 46,
   "id": "147b94c7",
   "metadata": {
    "scrolled": true
   },
   "outputs": [
    {
     "name": "stdout",
     "output_type": "stream",
     "text": [
      "these cubes are Buildable:\n",
      "['123.456', '123.546', '123.564', '123.645', '123.654', '124.365', '124.536', '125.364', '125.436', '125.463', '126.354', '126.435', '135.624', '136.425']\n",
      "the original set of cubes\n"
     ]
    },
    {
     "data": {
      "image/png": "[encoded data removed]",
      "text/plain": [
       "<Figure size 288x288 with 1 Axes>"
      ]
     },
     "metadata": {
      "needs_background": "light"
     },
     "output_type": "display_data"
    },
    {
     "name": "stdout",
     "output_type": "stream",
     "text": [
      "the set of buildable targets\n"
     ]
    },
    {
     "data": {
      "image/png": "[encoded data removed]",
      "text/plain": [
       "<Figure size 288x288 with 1 Axes>"
      ]
     },
     "metadata": {
      "needs_background": "light"
     },
     "output_type": "display_data"
    }
   ],
   "source": [
    "ListsOf_10Names=list(CubeCornersListToNames(i, C36) for i in ListsOf10Cubes)\n",
    "DisplaySetCubesandBuildableTargets(ListsOf_10Names[15], C36)"
   ]
  },
  {
   "cell_type": "code",
   "execution_count": 52,
   "id": "2b5efb35",
   "metadata": {},
   "outputs": [
    {
     "name": "stdout",
     "output_type": "stream",
     "text": [
      "these cubes are Buildable:\n",
      "['123.465', '123.546', '124.356', '124.365', '124.536', '124.563', '124.653', '125.634', '125.643', '126.435', '126.543', '135.426', '135.624', '136.524']\n",
      "the original set of cubes\n"
     ]
    },
    {
     "data": {
      "image/png": "[encoded data removed]",
      "text/plain": [
       "<Figure size 288x288 with 1 Axes>"
      ]
     },
     "metadata": {
      "needs_background": "light"
     },
     "output_type": "display_data"
    },
    {
     "name": "stdout",
     "output_type": "stream",
     "text": [
      "the set of buildable targets\n"
     ]
    },
    {
     "data": {
      "image/png": "[encoded data removed]",
      "text/plain": [
       "<Figure size 288x288 with 1 Axes>"
      ]
     },
     "metadata": {
      "needs_background": "light"
     },
     "output_type": "display_data"
    }
   ],
   "source": [
    "DisplaySetCubesandBuildableTargets(ListsOf_10Names[18], C36)"
   ]
  },
  {
   "cell_type": "code",
   "execution_count": null,
   "id": "fad51bbf",
   "metadata": {},
   "outputs": [],
   "source": []
  },
  {
   "cell_type": "code",
   "execution_count": null,
   "id": "dbcf8f3d",
   "metadata": {},
   "outputs": [],
   "source": [
    "\n",
    "#this calculation takes too long - 3 days no output when dictionary_sets=dictionary_targets=C36, and set_size=8\n",
    "#works fine for smaller dictionary_sets = Haraguchi's set\n",
    "def Distribution4NumberBuildableCubes(dictionary_sets, dictionary_targets, set_size):\n",
    "    keysList_targets = list(dictionary_targets.keys())\n",
    "    keysList_sets = list(dictionary_sets.keys())\n",
    "    \n",
    "    SetsOfSizeN=list(it.combinations(keysList_sets, set_size))\n",
    "    n=len(SetsOfSizeN)\n",
    "\n",
    "    print(\"there are\", n, \"sets of\", set_size, \"cubes\")\n",
    "    \n",
    "    list_buildable_counts=[]\n",
    "    for i in range(n):\n",
    "        current_solution_array=np.array([0, 0, 0, 0, 0, 0, 0, 0, 0, 0, 0, 0, 0, 0, 0, 0, 0, 0, 0, 0, 0, 0, 0, 0, 0, 0, 0, 0, 0, 0])\n",
    "        Collections=list(it.combinations(SetsOfSizeN[i], 8))\n",
    "    \n",
    "        for coll in Collections:\n",
    "            solution_list_for_coll=[]\n",
    "            eight_cubes=[C36[key] for key in coll]\n",
    "\n",
    "            for j in keysList_targets:\n",
    "                solution_list_for_coll.append(CountingSolutions(CornerCountVector(eight_cubes, C36[j])))\n",
    "            \n",
    "            #print(solution_list_for_coll)\n",
    "            newarray = np.array([k for k in solution_list_for_coll ])\n",
    "            current_solution_array = current_solution_array + newarray\n",
    "        \n",
    "        Number_buildable_cubes = np.count_nonzero(current_solution_array)     \n",
    "        #print(Number_buildable_cubes, current_solution_array)\n",
    "        list_buildable_counts.append(Number_buildable_cubes)\n",
    "\n",
    "    return CountFrequency(list_buildable_counts)"
   ]
  }
 ],
 "metadata": {
  "kernelspec": {
   "display_name": "Python 3 (ipykernel)",
   "language": "python",
   "name": "python3"
  },
  "language_info": {
   "codemirror_mode": {
    "name": "ipython",
    "version": 3
   },
   "file_extension": ".py",
   "mimetype": "text/x-python",
   "name": "python",
   "nbconvert_exporter": "python",
   "pygments_lexer": "ipython3",
   "version": "3.9.12"
  }
 },
 "nbformat": 4,
 "nbformat_minor": 5
}
