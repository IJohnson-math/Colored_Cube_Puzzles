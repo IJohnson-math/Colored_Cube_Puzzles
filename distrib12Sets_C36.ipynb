{
 "cells": [
  {
   "cell_type": "code",
   "execution_count": 1,
   "id": "536576a7",
   "metadata": {},
   "outputs": [
    {
     "name": "stdout",
     "output_type": "stream",
     "text": [
      "{'123.456': [123, 253, 354, 134, 146, 456, 265, 162], '123.465': [152, 123, 134, 145, 465, 364, 263, 256], '123.546': [123, 243, 345, 135, 156, 465, 264, 162], '123.564': [154, 142, 123, 135, 365, 263, 246, 456], '123.645': [243, 123, 152, 254, 456, 165, 136, 346], '123.654': [245, 253, 123, 142, 164, 136, 356, 465], '124.356': [143, 124, 254, 345, 356, 265, 162, 136], '124.365': [152, 124, 143, 135, 365, 346, 264, 256], '124.536': [354, 145, 124, 234, 263, 162, 156, 365], '124.563': [153, 132, 124, 145, 465, 264, 236, 356], '124.635': [124, 152, 253, 234, 364, 356, 165, 146], '124.653': [124, 132, 235, 254, 456, 365, 163, 146], '125.346': [245, 354, 153, 125, 162, 136, 346, 264], '125.364': [153, 134, 142, 125, 265, 246, 364, 356], '125.436': [235, 345, 154, 125, 162, 146, 364, 263], '125.463': [154, 143, 132, 125, 265, 236, 346, 456], '125.634': [243, 235, 125, 142, 164, 156, 365, 346], '125.643': [245, 125, 132, 234, 364, 163, 156, 465], '126.345': [152, 135, 345, 254, 246, 364, 163, 126], '126.354': [354, 245, 142, 134, 163, 126, 256, 365], '126.435': [152, 145, 354, 253, 236, 346, 164, 126], '126.453': [143, 345, 235, 132, 126, 256, 465, 164], '126.534': [243, 142, 154, 345, 356, 165, 126, 236], '126.543': [153, 354, 234, 132, 126, 246, 456, 165], '134.526': [243, 254, 145, 134, 163, 156, 265, 236], '134.625': [153, 235, 243, 134, 146, 264, 256, 165], '135.426': [245, 154, 135, 253, 236, 163, 146, 264], '135.624': [143, 234, 253, 135, 156, 265, 246, 164], '136.425': [235, 153, 145, 254, 246, 164, 136, 263], '136.524': [143, 154, 245, 234, 263, 256, 165, 136]}\n",
      "30\n",
      "['123.456', '123.465', '123.546', '123.564', '123.645', '123.654', '124.356', '124.365', '124.536', '124.563', '124.635', '124.653', '125.346', '125.364', '125.436', '125.463', '125.634', '125.643', '126.345', '126.354', '126.435', '126.453', '126.534', '126.543', '134.526', '134.625', '135.426', '135.624', '136.425', '136.524']\n"
     ]
    }
   ],
   "source": [
    "import csv\n",
    "import random\n",
    "from matplotlib import pyplot as plt\n",
    "import numpy as np\n",
    "import pandas as pd\n",
    "\n",
    "def csv_to_kvs(fileName):\n",
    "    make_dictionary = {}\n",
    "    with open(fileName,'r') as csvFile:\n",
    "        csvreader = csv.reader(csvFile)\n",
    "        for row in csvreader:\n",
    "            #position 1 and following are integers\n",
    "            make_dictionary[row[0]] = [int(val) for val in row[1:]]\n",
    "        print(make_dictionary)\n",
    "    return make_dictionary\n",
    "\n",
    "C36=csv_to_kvs('C_36all.csv')  \n",
    "\n",
    "\n",
    "print(len(C36.keys()))\n",
    "\n",
    "keysListC36 = list(C36.keys()) \n",
    "print(keysListC36)"
   ]
  },
  {
   "cell_type": "code",
   "execution_count": 2,
   "id": "8d789db4",
   "metadata": {},
   "outputs": [
    {
     "name": "stdout",
     "output_type": "stream",
     "text": [
      "Today's date: 2024-04-17\n"
     ]
    }
   ],
   "source": [
    "%run module2x2x2_ext_match.ipynb\n",
    "\n",
    "from datetime import date\n",
    "\n",
    "today = date.today()\n",
    "print(\"Today's date:\", today)"
   ]
  },
  {
   "cell_type": "markdown",
   "id": "353856de",
   "metadata": {},
   "source": [
    "# Investigating the number of buildable cubes using sets of 12 cubes\n",
    "\n",
    "## Functions to use:\n",
    "\n",
    "* **RandomKCubes**(dictionary, k)  <br>\n",
    "dictionary = dictionary of cubes k = set of size k <br> output: a random selection of k cubes from dictionary\n",
    "\n",
    "* **NumberBuildable4SetTwelveCubes**(a_collection_of_ten_cubes, dictionary_possible_targets_to_build)  <br>\n",
    "a_collection_of_ten_cubes is the output of RandomKCubes  <br>\n",
    "output: the number of cubes in dictionary_possible_targets_to_build that are buildable with a_collection_of_nine_cubes\n",
    "\n",
    "* **DistributionBuildNum4SetsOfTwelve**(dictionary_sets, number_samples)"
   ]
  },
  {
   "cell_type": "code",
   "execution_count": 3,
   "id": "b960f0a6",
   "metadata": {},
   "outputs": [],
   "source": [
    "def NumberBuildable4SetTwelveCubes(one_collection_of_twelve, dictionary_for_targets): \n",
    "    keysList_targets = list(dictionary_for_targets.keys())\n",
    "    TwelveSet = one_collection_of_twelve\n",
    "  \n",
    "    Collections=list(it.combinations(TwelveSet, 8))\n",
    "      \n",
    "    current_solution_array=np.array([0, 0, 0, 0, 0, 0, 0, 0, 0, 0, 0, 0, 0, 0, 0, 0, 0, 0, 0, 0, 0, 0, 0, 0, 0, 0, 0, 0, 0, 0])     \n",
    "\n",
    "    #for each subset of 8 cubes, determine how many cubes are buildable\n",
    "    for coll in Collections:\n",
    "        a_solution_list=[]\n",
    "            \n",
    "        for j in keysList_targets:\n",
    "            a_solution_list.append(CountingSolutions(CornerCountVector(coll, dictionary_for_targets[j])))\n",
    "            \n",
    "        newarray = np.array([w for w in a_solution_list])\n",
    "        current_solution_array = current_solution_array + newarray\n",
    "  \n",
    "    Number_buildable_cubes = np.count_nonzero(current_solution_array)\n",
    "    \n",
    "    return Number_buildable_cubes"
   ]
  },
  {
   "cell_type": "code",
   "execution_count": 14,
   "id": "56d96a98",
   "metadata": {},
   "outputs": [
    {
     "data": {
      "text/plain": [
       "2"
      ]
     },
     "execution_count": 14,
     "metadata": {},
     "output_type": "execute_result"
    }
   ],
   "source": [
    "#Example (cont.) calculating the number of buildable cubes using a randomly selected set of 12\n",
    "NumberBuildable4SetTwelveCubes(RandomKCubes(C36, 9), C36)"
   ]
  },
  {
   "cell_type": "code",
   "execution_count": 47,
   "id": "34c344ed",
   "metadata": {},
   "outputs": [],
   "source": [
    "def DistributionBuildNum4SetsOfTwelve(dictionary_sets, number_samples):\n",
    "    list_numberBuildable=[]\n",
    "    for i in range(number_samples):\n",
    "        twelve_set = RandomKCubes(dictionary_sets, 12)\n",
    "        n = NumberBuildable4SetTwelveCubes(twelve_set, dictionary_sets)\n",
    "        list_numberBuildable.append(n)\n",
    "        if n>25:\n",
    "            print(n, twelve_set)\n",
    "         \n",
    "    return list_numberBuildable"
   ]
  },
  {
   "cell_type": "code",
   "execution_count": 48,
   "id": "5e8c9fde",
   "metadata": {
    "scrolled": true
   },
   "outputs": [
    {
     "name": "stdout",
     "output_type": "stream",
     "text": [
      "26 [[143, 234, 253, 135, 156, 265, 246, 164], [124, 152, 253, 234, 364, 356, 165, 146], [154, 142, 123, 135, 365, 263, 246, 456], [153, 134, 142, 125, 265, 246, 364, 356], [153, 354, 234, 132, 126, 246, 456, 165], [123, 243, 345, 135, 156, 465, 264, 162], [235, 153, 145, 254, 246, 164, 136, 263], [243, 123, 152, 254, 456, 165, 136, 346], [245, 125, 132, 234, 364, 163, 156, 465], [152, 135, 345, 254, 246, 364, 163, 126], [153, 132, 124, 145, 465, 264, 236, 356], [152, 124, 143, 135, 365, 346, 264, 256]]\n",
      "26 [[245, 154, 135, 253, 236, 163, 146, 264], [123, 243, 345, 135, 156, 465, 264, 162], [243, 123, 152, 254, 456, 165, 136, 346], [124, 152, 253, 234, 364, 356, 165, 146], [243, 142, 154, 345, 356, 165, 126, 236], [153, 134, 142, 125, 265, 246, 364, 356], [354, 245, 142, 134, 163, 126, 256, 365], [245, 125, 132, 234, 364, 163, 156, 465], [153, 132, 124, 145, 465, 264, 236, 356], [243, 235, 125, 142, 164, 156, 365, 346], [143, 234, 253, 135, 156, 265, 246, 164], [235, 153, 145, 254, 246, 164, 136, 263]]\n",
      "26 [[153, 235, 243, 134, 146, 264, 256, 165], [152, 145, 354, 253, 236, 346, 164, 126], [123, 253, 354, 134, 146, 456, 265, 162], [235, 153, 145, 254, 246, 164, 136, 263], [243, 254, 145, 134, 163, 156, 265, 236], [154, 143, 132, 125, 265, 236, 346, 456], [243, 142, 154, 345, 356, 165, 126, 236], [152, 124, 143, 135, 365, 346, 264, 256], [245, 154, 135, 253, 236, 163, 146, 264], [124, 152, 253, 234, 364, 356, 165, 146], [245, 125, 132, 234, 364, 163, 156, 465], [143, 124, 254, 345, 356, 265, 162, 136]]\n",
      "26 [[154, 143, 132, 125, 265, 236, 346, 456], [152, 135, 345, 254, 246, 364, 163, 126], [245, 354, 153, 125, 162, 136, 346, 264], [153, 134, 142, 125, 265, 246, 364, 356], [143, 345, 235, 132, 126, 256, 465, 164], [245, 125, 132, 234, 364, 163, 156, 465], [243, 235, 125, 142, 164, 156, 365, 346], [143, 124, 254, 345, 356, 265, 162, 136], [153, 354, 234, 132, 126, 246, 456, 165], [235, 345, 154, 125, 162, 146, 364, 263], [152, 123, 134, 145, 465, 364, 263, 256], [123, 253, 354, 134, 146, 456, 265, 162]]\n",
      "26 [[123, 243, 345, 135, 156, 465, 264, 162], [124, 132, 235, 254, 456, 365, 163, 146], [152, 135, 345, 254, 246, 364, 163, 126], [143, 154, 245, 234, 263, 256, 165, 136], [354, 245, 142, 134, 163, 126, 256, 365], [235, 153, 145, 254, 246, 164, 136, 263], [235, 345, 154, 125, 162, 146, 364, 263], [153, 134, 142, 125, 265, 246, 364, 356], [153, 235, 243, 134, 146, 264, 256, 165], [152, 145, 354, 253, 236, 346, 164, 126], [124, 152, 253, 234, 364, 356, 165, 146], [245, 125, 132, 234, 364, 163, 156, 465]]\n",
      "27 [[243, 142, 154, 345, 356, 165, 126, 236], [143, 345, 235, 132, 126, 256, 465, 164], [143, 154, 245, 234, 263, 256, 165, 136], [143, 234, 253, 135, 156, 265, 246, 164], [235, 345, 154, 125, 162, 146, 364, 263], [235, 153, 145, 254, 246, 164, 136, 263], [354, 145, 124, 234, 263, 162, 156, 365], [154, 143, 132, 125, 265, 236, 346, 456], [245, 154, 135, 253, 236, 163, 146, 264], [154, 142, 123, 135, 365, 263, 246, 456], [152, 123, 134, 145, 465, 364, 263, 256], [153, 235, 243, 134, 146, 264, 256, 165]]\n"
     ]
    },
    {
     "data": {
      "image/png": "[encoded data removed]",
      "text/plain": [
       "<Figure size 864x720 with 1 Axes>"
      ]
     },
     "metadata": {
      "needs_background": "light"
     },
     "output_type": "display_data"
    },
    {
     "name": "stdout",
     "output_type": "stream",
     "text": [
      " 27 :  1\n",
      " 26 :  5\n",
      " 25 :  72\n",
      " 24 :  265\n",
      " 23 :  698\n",
      " 22 :  1157\n",
      " 21 :  1823\n",
      " 20 :  2581\n",
      " 19 :  2719\n",
      " 18 :  2816\n",
      " 17 :  2609\n",
      " 16 :  2056\n",
      " 15 :  1406\n",
      " 14 :  888\n",
      " 13 :  523\n",
      " 12 :  266\n",
      " 11 :  86\n",
      " 10 :  21\n",
      " 9 :  8\n",
      "the average number of buildable cubes is 18.20335\n",
      "the standard deviation of the number of buildable cubes is 2.6889887152079175\n"
     ]
    }
   ],
   "source": [
    "#Example, distribution of the number of buildable cubes for n=20000 sets of 12 cubes\n",
    "a = DistributionBuildNum4SetsOfTwelve(C36, 20000)\n",
    "\n",
    "import statistics\n",
    "\n",
    "#histogram\n",
    "fig, ax=plt.subplots(figsize=(12,10))\n",
    "ax.hist(a, bins=[5,6,7,8,9,10,11,12,13,14,15,16,17,18,19,20,21, 22, 23, 24, 25, 26, 27, 28, 29, 30])\n",
    "plt.xlabel(\"Number of Buildable cubes\")\n",
    "plt.ylabel(\"n=20000 Random Samples of Twelve Cubes\")\n",
    "plt.show()\n",
    "\n",
    "CountFrequency(a)\n",
    "\n",
    "print(\"the average number of buildable cubes is\", statistics.mean(a))\n",
    "print(\"the standard deviation of the number of buildable cubes is\", statistics.stdev(a)) "
   ]
  },
  {
   "cell_type": "markdown",
   "id": "804d1757",
   "metadata": {},
   "source": [
    " 25 :  20<br>\n",
    " 24 :  71<br>\n",
    " 23 :  202<br>\n",
    " 22 :  355<br>\n",
    " 21 :  551<br>\n",
    " 20 :  759<br>\n",
    " 19 :  799<br>\n",
    " 18 :  813<br>\n",
    " 17 :  787<br>\n",
    " 16 :  664<br>\n",
    " 15 :  462<br>\n",
    " 14 :  272<br>\n",
    " 13 :  147<br>\n",
    " 12 :  78<br>\n",
    " 11 :  12<br>\n",
    " 10 :  5<br>\n",
    " 9 :  3<br>\n",
    "the average number of buildable cubes is 18.1705<br>\n",
    "the standard deviation of the number of buildable cubes is 2.6608162420290586<br>\n",
    "\n",
    "Sets of k=12, n=10000 random samples<br>\n",
    "27 :  1<br>\n",
    " 26 :  4<br>\n",
    " 25 :  27<br>\n",
    " 24 :  130<br>\n",
    " 23 :  316<br>\n",
    " 22 :  541<br>\n",
    " 21 :  883<br>\n",
    " 20 :  1294<br>\n",
    " 19 :  1412<br>\n",
    " 18 :  1339<br>\n",
    " 17 :  1343<br>\n",
    " 16 :  1099<br>\n",
    " 15 :  708<br>\n",
    " 14 :  482<br>\n",
    " 13 :  230<br>\n",
    " 12 :  136<br>\n",
    " 11 :  48<br>\n",
    " 10 :  5<br>\n",
    " 9 :  2<br>\n",
    "the average number of buildable cubes is 18.145<br>\n",
    "the standard deviation of the number of buildable cubes is 2.6557636016842316\n",
    "\n",
    "Sets of k=12, n=20000 random samples<br>\n",
    "28 :  1<br>\n",
    " 27 :  1<br>\n",
    " 26 :  6<br>\n",
    " 25 :  71<br>\n",
    " 24 :  274<br>\n",
    " 23 :  679<br>\n",
    " 22 :  1132<br>\n",
    " 21 :  1737<br>\n",
    " 20 :  2502<br>\n",
    " 19 :  2790<br>\n",
    " 18 :  2747<br>\n",
    " 17 :  2644<br>\n",
    " 16 :  2133<br>\n",
    " 15 :  1462<br>\n",
    " 14 :  967<br>\n",
    " 13 :  494<br>\n",
    " 12 :  243<br>\n",
    " 11 :  86<br>\n",
    " 10 :  25<br>\n",
    " 9 :  6<br>\n",
    "the average number of buildable cubes is 18.1594<br>\n",
    "the standard deviation of the number of buildable cubes is 2.6844835560304947"
   ]
  },
  {
   "cell_type": "code",
   "execution_count": 49,
   "id": "e24142f6",
   "metadata": {},
   "outputs": [],
   "source": [
    "Sets12Build26 = [[[143, 234, 253, 135, 156, 265, 246, 164], [124, 152, 253, 234, 364, 356, 165, 146], [154, 142, 123, 135, 365, 263, 246, 456], [153, 134, 142, 125, 265, 246, 364, 356], [153, 354, 234, 132, 126, 246, 456, 165], [123, 243, 345, 135, 156, 465, 264, 162], [235, 153, 145, 254, 246, 164, 136, 263], [243, 123, 152, 254, 456, 165, 136, 346], [245, 125, 132, 234, 364, 163, 156, 465], [152, 135, 345, 254, 246, 364, 163, 126], [153, 132, 124, 145, 465, 264, 236, 356], [152, 124, 143, 135, 365, 346, 264, 256]],\n",
    "[[245, 154, 135, 253, 236, 163, 146, 264], [123, 243, 345, 135, 156, 465, 264, 162], [243, 123, 152, 254, 456, 165, 136, 346], [124, 152, 253, 234, 364, 356, 165, 146], [243, 142, 154, 345, 356, 165, 126, 236], [153, 134, 142, 125, 265, 246, 364, 356], [354, 245, 142, 134, 163, 126, 256, 365], [245, 125, 132, 234, 364, 163, 156, 465], [153, 132, 124, 145, 465, 264, 236, 356], [243, 235, 125, 142, 164, 156, 365, 346], [143, 234, 253, 135, 156, 265, 246, 164], [235, 153, 145, 254, 246, 164, 136, 263]],\n",
    "[[153, 235, 243, 134, 146, 264, 256, 165], [152, 145, 354, 253, 236, 346, 164, 126], [123, 253, 354, 134, 146, 456, 265, 162], [235, 153, 145, 254, 246, 164, 136, 263], [243, 254, 145, 134, 163, 156, 265, 236], [154, 143, 132, 125, 265, 236, 346, 456], [243, 142, 154, 345, 356, 165, 126, 236], [152, 124, 143, 135, 365, 346, 264, 256], [245, 154, 135, 253, 236, 163, 146, 264], [124, 152, 253, 234, 364, 356, 165, 146], [245, 125, 132, 234, 364, 163, 156, 465], [143, 124, 254, 345, 356, 265, 162, 136]],\n",
    "[[154, 143, 132, 125, 265, 236, 346, 456], [152, 135, 345, 254, 246, 364, 163, 126], [245, 354, 153, 125, 162, 136, 346, 264], [153, 134, 142, 125, 265, 246, 364, 356], [143, 345, 235, 132, 126, 256, 465, 164], [245, 125, 132, 234, 364, 163, 156, 465], [243, 235, 125, 142, 164, 156, 365, 346], [143, 124, 254, 345, 356, 265, 162, 136], [153, 354, 234, 132, 126, 246, 456, 165], [235, 345, 154, 125, 162, 146, 364, 263], [152, 123, 134, 145, 465, 364, 263, 256], [123, 253, 354, 134, 146, 456, 265, 162]],\n",
    "[[123, 243, 345, 135, 156, 465, 264, 162], [124, 132, 235, 254, 456, 365, 163, 146], [152, 135, 345, 254, 246, 364, 163, 126], [143, 154, 245, 234, 263, 256, 165, 136], [354, 245, 142, 134, 163, 126, 256, 365], [235, 153, 145, 254, 246, 164, 136, 263], [235, 345, 154, 125, 162, 146, 364, 263], [153, 134, 142, 125, 265, 246, 364, 356], [153, 235, 243, 134, 146, 264, 256, 165], [152, 145, 354, 253, 236, 346, 164, 126], [124, 152, 253, 234, 364, 356, 165, 146], [245, 125, 132, 234, 364, 163, 156, 465]]]\n",
    "ASet12Build27 = [[243, 142, 154, 345, 356, 165, 126, 236], [143, 345, 235, 132, 126, 256, 465, 164], [143, 154, 245, 234, 263, 256, 165, 136], [143, 234, 253, 135, 156, 265, 246, 164], [235, 345, 154, 125, 162, 146, 364, 263], [235, 153, 145, 254, 246, 164, 136, 263], [354, 145, 124, 234, 263, 162, 156, 365], [154, 143, 132, 125, 265, 236, 346, 456], [245, 154, 135, 253, 236, 163, 146, 264], [154, 142, 123, 135, 365, 263, 246, 456], [152, 123, 134, 145, 465, 364, 263, 256], [153, 235, 243, 134, 146, 264, 256, 165]]\n"
   ]
  },
  {
   "cell_type": "code",
   "execution_count": 50,
   "id": "a60ef93c",
   "metadata": {
    "scrolled": false
   },
   "outputs": [
    {
     "name": "stdout",
     "output_type": "stream",
     "text": [
      "these 26 cubes are Buildable:\n",
      "['123.465', '123.546', '123.564', '123.645', '123.654', '124.356', '124.365', '124.536', '124.563', '124.635', '124.653', '125.346', '125.364', '125.463', '125.634', '125.643', '126.345', '126.435', '126.534', '126.543', '134.526', '134.625', '135.426', '135.624', '136.425', '136.524']\n",
      "the original set of cubes\n"
     ]
    },
    {
     "data": {
      "image/png": "[encoded data removed]",
      "text/plain": [
       "<Figure size 288x288 with 1 Axes>"
      ]
     },
     "metadata": {
      "needs_background": "light"
     },
     "output_type": "display_data"
    },
    {
     "name": "stdout",
     "output_type": "stream",
     "text": [
      "the set of buildable targets\n"
     ]
    },
    {
     "data": {
      "image/png": "[encoded data removed]",
      "text/plain": [
       "<Figure size 288x288 with 1 Axes>"
      ]
     },
     "metadata": {
      "needs_background": "light"
     },
     "output_type": "display_data"
    },
    {
     "name": "stdout",
     "output_type": "stream",
     "text": [
      "these 26 cubes are Buildable:\n",
      "['123.465', '123.546', '123.564', '123.654', '124.356', '124.365', '124.536', '124.563', '124.635', '124.653', '125.346', '125.364', '125.436', '125.463', '125.634', '125.643', '126.345', '126.435', '126.453', '126.534', '126.543', '134.526', '134.625', '135.426', '135.624', '136.524']\n",
      "the original set of cubes\n"
     ]
    },
    {
     "data": {
      "image/png": "[encoded data removed]",
      "text/plain": [
       "<Figure size 288x288 with 1 Axes>"
      ]
     },
     "metadata": {
      "needs_background": "light"
     },
     "output_type": "display_data"
    },
    {
     "name": "stdout",
     "output_type": "stream",
     "text": [
      "the set of buildable targets\n"
     ]
    },
    {
     "data": {
      "image/png": "[encoded data removed]",
      "text/plain": [
       "<Figure size 288x288 with 1 Axes>"
      ]
     },
     "metadata": {
      "needs_background": "light"
     },
     "output_type": "display_data"
    },
    {
     "name": "stdout",
     "output_type": "stream",
     "text": [
      "these 26 cubes are Buildable:\n",
      "['123.456', '123.465', '123.546', '123.645', '123.654', '124.356', '124.536', '124.563', '124.635', '124.653', '125.346', '125.364', '125.436', '125.463', '125.634', '126.345', '126.354', '126.435', '126.453', '126.534', '126.543', '134.526', '134.625', '135.426', '135.624', '136.524']\n",
      "the original set of cubes\n"
     ]
    },
    {
     "data": {
      "image/png": "[encoded data removed]",
      "text/plain": [
       "<Figure size 288x288 with 1 Axes>"
      ]
     },
     "metadata": {
      "needs_background": "light"
     },
     "output_type": "display_data"
    },
    {
     "name": "stdout",
     "output_type": "stream",
     "text": [
      "the set of buildable targets\n"
     ]
    },
    {
     "data": {
      "image/png": "[encoded data removed]",
      "text/plain": [
       "<Figure size 288x288 with 1 Axes>"
      ]
     },
     "metadata": {
      "needs_background": "light"
     },
     "output_type": "display_data"
    },
    {
     "name": "stdout",
     "output_type": "stream",
     "text": [
      "these 26 cubes are Buildable:\n",
      "['123.456', '123.546', '123.564', '123.645', '123.654', '124.356', '124.536', '124.563', '124.635', '124.653', '125.346', '125.364', '125.436', '125.463', '125.643', '126.345', '126.354', '126.435', '126.453', '126.534', '126.543', '134.526', '134.625', '135.624', '136.425', '136.524']\n",
      "the original set of cubes\n"
     ]
    },
    {
     "data": {
      "image/png": "[encoded data removed]",
      "text/plain": [
       "<Figure size 288x288 with 1 Axes>"
      ]
     },
     "metadata": {
      "needs_background": "light"
     },
     "output_type": "display_data"
    },
    {
     "name": "stdout",
     "output_type": "stream",
     "text": [
      "the set of buildable targets\n"
     ]
    },
    {
     "data": {
      "image/png": "[encoded data removed]",
      "text/plain": [
       "<Figure size 288x288 with 1 Axes>"
      ]
     },
     "metadata": {
      "needs_background": "light"
     },
     "output_type": "display_data"
    },
    {
     "name": "stdout",
     "output_type": "stream",
     "text": [
      "these 26 cubes are Buildable:\n",
      "['123.456', '123.465', '123.564', '123.645', '123.654', '124.356', '124.365', '124.536', '124.563', '124.635', '124.653', '125.346', '125.364', '125.436', '125.634', '125.643', '126.345', '126.354', '126.453', '126.534', '126.543', '134.526', '134.625', '135.426', '135.624', '136.425']\n",
      "the original set of cubes\n"
     ]
    },
    {
     "data": {
      "image/png": "[encoded data removed]",
      "text/plain": [
       "<Figure size 288x288 with 1 Axes>"
      ]
     },
     "metadata": {
      "needs_background": "light"
     },
     "output_type": "display_data"
    },
    {
     "name": "stdout",
     "output_type": "stream",
     "text": [
      "the set of buildable targets\n"
     ]
    },
    {
     "data": {
      "image/png": "[encoded data removed]",
      "text/plain": [
       "<Figure size 288x288 with 1 Axes>"
      ]
     },
     "metadata": {
      "needs_background": "light"
     },
     "output_type": "display_data"
    }
   ],
   "source": [
    "for twelveset in Sets12Build26:\n",
    "    DisplaySetCubesandBuildableTargets(CubeCornersToNames(twelveset, C36), C36)"
   ]
  },
  {
   "cell_type": "code",
   "execution_count": 51,
   "id": "6bf24c22",
   "metadata": {},
   "outputs": [
    {
     "name": "stdout",
     "output_type": "stream",
     "text": [
      "these 27 cubes are Buildable:\n",
      "['123.456', '123.465', '123.546', '123.564', '123.654', '124.356', '124.365', '124.563', '124.635', '124.653', '125.364', '125.436', '125.463', '125.634', '125.643', '126.345', '126.354', '126.435', '126.453', '126.534', '126.543', '134.526', '134.625', '135.426', '135.624', '136.425', '136.524']\n",
      "the original set of cubes\n"
     ]
    },
    {
     "data": {
      "image/png": "[encoded data removed]",
      "text/plain": [
       "<Figure size 288x288 with 1 Axes>"
      ]
     },
     "metadata": {
      "needs_background": "light"
     },
     "output_type": "display_data"
    },
    {
     "name": "stdout",
     "output_type": "stream",
     "text": [
      "the set of buildable targets\n"
     ]
    },
    {
     "data": {
      "image/png": "[encoded data removed]",
      "text/plain": [
       "<Figure size 288x288 with 1 Axes>"
      ]
     },
     "metadata": {
      "needs_background": "light"
     },
     "output_type": "display_data"
    }
   ],
   "source": [
    "DisplaySetCubesandBuildableTargets(CubeCornersToNames(ASet12Build27, C36), C36)"
   ]
  },
  {
   "cell_type": "code",
   "execution_count": 56,
   "id": "b9112fc8",
   "metadata": {
    "scrolled": false
   },
   "outputs": [
    {
     "name": "stdout",
     "output_type": "stream",
     "text": [
      "these 18 cubes are Buildable:\n",
      "['123.456', '123.465', '123.546', '123.645', '125.346', '125.436', '125.463', '125.643', '126.345', '126.435', '126.453', '126.543', '134.526', '134.625', '135.426', '135.624', '136.425', '136.524']\n",
      "the original set of cubes\n"
     ]
    },
    {
     "data": {
      "image/png": "[encoded data removed]",
      "text/plain": [
       "<Figure size 288x288 with 1 Axes>"
      ]
     },
     "metadata": {
      "needs_background": "light"
     },
     "output_type": "display_data"
    },
    {
     "name": "stdout",
     "output_type": "stream",
     "text": [
      "the set of buildable targets\n"
     ]
    },
    {
     "data": {
      "image/png": "[encoded data removed]",
      "text/plain": [
       "<Figure size 288x288 with 1 Axes>"
      ]
     },
     "metadata": {
      "needs_background": "light"
     },
     "output_type": "display_data"
    }
   ],
   "source": [
    "#possibly a min universal set??  \"124.563\", \"124.653\",\n",
    "#\"125.364\", \"126.354\",\n",
    "Names = [\"135.426\",\"136.425\", \"126.453\", \"123.456\", \"136.524\", \"134.526\", \"125.436\", \"126.435\", \"134.625\", \"135.624\", \"123.465\", \"125.463\"]\n",
    "DisplaySetCubesandBuildableTargets(Names, C36)"
   ]
  },
  {
   "cell_type": "code",
   "execution_count": 44,
   "id": "33238af5",
   "metadata": {},
   "outputs": [],
   "source": [
    "#Want to find\n",
    "#28 : 1\n",
    "#27 : 1\n",
    "#26 : 6\n",
    "#remove 25 : 71\n",
    "setsof12buildMoreThan24 =[ [[123, 243, 345, 135, 156, 465, 264, 162], [143, 345, 235, 132, 126, 256, 465, 164], [143, 124, 254, 345, 356, 265, 162, 136], [152, 123, 134, 145, 465, 364, 263, 256], [354, 145, 124, 234, 263, 162, 156, 365], [152, 135, 345, 254, 246, 364, 163, 126], [243, 142, 154, 345, 356, 165, 126, 236], [154, 143, 132, 125, 265, 236, 346, 456], [245, 354, 153, 125, 162, 136, 346, 264], [123, 253, 354, 134, 146, 456, 265, 162], [235, 345, 154, 125, 162, 146, 364, 263], [245, 125, 132, 234, 364, 163, 156, 465]],\n",
    "[[154, 143, 132, 125, 265, 236, 346, 456], [243, 123, 152, 254, 456, 165, 136, 346], [153, 134, 142, 125, 265, 246, 364, 356], [243, 142, 154, 345, 356, 165, 126, 236], [124, 152, 253, 234, 364, 356, 165, 146], [153, 235, 243, 134, 146, 264, 256, 165], [354, 145, 124, 234, 263, 162, 156, 365], [154, 142, 123, 135, 365, 263, 246, 456], [152, 135, 345, 254, 246, 364, 163, 126], [123, 243, 345, 135, 156, 465, 264, 162], [354, 245, 142, 134, 163, 126, 256, 365], [245, 253, 123, 142, 164, 136, 356, 465]],\n",
    "[[243, 254, 145, 134, 163, 156, 265, 236], [152, 124, 143, 135, 365, 346, 264, 256], [123, 253, 354, 134, 146, 456, 265, 162], [143, 124, 254, 345, 356, 265, 162, 136], [143, 154, 245, 234, 263, 256, 165, 136], [143, 345, 235, 132, 126, 256, 465, 164], [243, 142, 154, 345, 356, 165, 126, 236], [154, 143, 132, 125, 265, 236, 346, 456], [153, 134, 142, 125, 265, 246, 364, 356], [152, 135, 345, 254, 246, 364, 163, 126], [143, 234, 253, 135, 156, 265, 246, 164], [153, 132, 124, 145, 465, 264, 236, 356]],\n",
    "[[235, 345, 154, 125, 162, 146, 364, 263], [154, 142, 123, 135, 365, 263, 246, 456], [123, 253, 354, 134, 146, 456, 265, 162], [153, 132, 124, 145, 465, 264, 236, 356], [245, 354, 153, 125, 162, 136, 346, 264], [143, 234, 253, 135, 156, 265, 246, 164], [152, 135, 345, 254, 246, 364, 163, 126], [143, 124, 254, 345, 356, 265, 162, 136], [235, 153, 145, 254, 246, 164, 136, 263], [354, 245, 142, 134, 163, 126, 256, 365], [153, 354, 234, 132, 126, 246, 456, 165], [243, 235, 125, 142, 164, 156, 365, 346]],\n",
    "[[153, 132, 124, 145, 465, 264, 236, 356], [143, 345, 235, 132, 126, 256, 465, 164], [235, 345, 154, 125, 162, 146, 364, 263], [245, 125, 132, 234, 364, 163, 156, 465], [243, 123, 152, 254, 456, 165, 136, 346], [143, 154, 245, 234, 263, 256, 165, 136], [245, 253, 123, 142, 164, 136, 356, 465], [123, 253, 354, 134, 146, 456, 265, 162], [235, 153, 145, 254, 246, 164, 136, 263], [243, 254, 145, 134, 163, 156, 265, 236], [354, 245, 142, 134, 163, 126, 256, 365], [152, 135, 345, 254, 246, 364, 163, 126]],\n",
    "[[152, 145, 354, 253, 236, 346, 164, 126], [152, 135, 345, 254, 246, 364, 163, 126], [235, 153, 145, 254, 246, 164, 136, 263], [153, 134, 142, 125, 265, 246, 364, 356], [124, 152, 253, 234, 364, 356, 165, 146], [123, 253, 354, 134, 146, 456, 265, 162], [154, 143, 132, 125, 265, 236, 346, 456], [354, 245, 142, 134, 163, 126, 256, 365], [245, 125, 132, 234, 364, 163, 156, 465], [124, 132, 235, 254, 456, 365, 163, 146], [243, 235, 125, 142, 164, 156, 365, 346], [123, 243, 345, 135, 156, 465, 264, 162]],\n",
    "[[124, 152, 253, 234, 364, 356, 165, 146], [235, 153, 145, 254, 246, 164, 136, 263], [153, 354, 234, 132, 126, 246, 456, 165], [153, 132, 124, 145, 465, 264, 236, 356], [354, 245, 142, 134, 163, 126, 256, 365], [243, 142, 154, 345, 356, 165, 126, 236], [243, 123, 152, 254, 456, 165, 136, 346], [143, 154, 245, 234, 263, 256, 165, 136], [124, 132, 235, 254, 456, 365, 163, 146], [123, 243, 345, 135, 156, 465, 264, 162], [153, 134, 142, 125, 265, 246, 364, 356], [245, 354, 153, 125, 162, 136, 346, 264]],\n",
    "[[152, 135, 345, 254, 246, 364, 163, 126], [243, 123, 152, 254, 456, 165, 136, 346], [152, 123, 134, 145, 465, 364, 263, 256], [124, 132, 235, 254, 456, 365, 163, 146], [143, 154, 245, 234, 263, 256, 165, 136], [123, 253, 354, 134, 146, 456, 265, 162], [153, 134, 142, 125, 265, 246, 364, 356], [143, 124, 254, 345, 356, 265, 162, 136], [245, 253, 123, 142, 164, 136, 356, 465], [243, 254, 145, 134, 163, 156, 265, 236], [143, 345, 235, 132, 126, 256, 465, 164], [153, 132, 124, 145, 465, 264, 236, 356]],\n",
    "[[354, 145, 124, 234, 263, 162, 156, 365], [153, 354, 234, 132, 126, 246, 456, 165], [153, 235, 243, 134, 146, 264, 256, 165], [245, 125, 132, 234, 364, 163, 156, 465], [152, 135, 345, 254, 246, 364, 163, 126], [243, 142, 154, 345, 356, 165, 126, 236], [124, 152, 253, 234, 364, 356, 165, 146], [245, 253, 123, 142, 164, 136, 356, 465], [153, 132, 124, 145, 465, 264, 236, 356], [152, 124, 143, 135, 365, 346, 264, 256], [153, 134, 142, 125, 265, 246, 364, 356], [235, 153, 145, 254, 246, 164, 136, 263]],\n",
    "[[245, 125, 132, 234, 364, 163, 156, 465], [143, 234, 253, 135, 156, 265, 246, 164], [153, 235, 243, 134, 146, 264, 256, 165], [153, 354, 234, 132, 126, 246, 456, 165], [152, 135, 345, 254, 246, 364, 163, 126], [354, 145, 124, 234, 263, 162, 156, 365], [154, 143, 132, 125, 265, 236, 346, 456], [245, 354, 153, 125, 162, 136, 346, 264], [153, 132, 124, 145, 465, 264, 236, 356], [235, 153, 145, 254, 246, 164, 136, 263], [245, 253, 123, 142, 164, 136, 356, 465], [152, 123, 134, 145, 465, 364, 263, 256]],\n",
    "[[243, 235, 125, 142, 164, 156, 365, 346], [143, 345, 235, 132, 126, 256, 465, 164], [245, 354, 153, 125, 162, 136, 346, 264], [245, 154, 135, 253, 236, 163, 146, 264], [143, 124, 254, 345, 356, 265, 162, 136], [354, 145, 124, 234, 263, 162, 156, 365], [123, 253, 354, 134, 146, 456, 265, 162], [354, 245, 142, 134, 163, 126, 256, 365], [143, 234, 253, 135, 156, 265, 246, 164], [235, 345, 154, 125, 162, 146, 364, 263], [153, 354, 234, 132, 126, 246, 456, 165], [152, 135, 345, 254, 246, 364, 163, 126]],\n",
    "[[235, 345, 154, 125, 162, 146, 364, 263], [123, 253, 354, 134, 146, 456, 265, 162], [245, 354, 153, 125, 162, 136, 346, 264], [245, 253, 123, 142, 164, 136, 356, 465], [153, 132, 124, 145, 465, 264, 236, 356], [154, 142, 123, 135, 365, 263, 246, 456], [245, 125, 132, 234, 364, 163, 156, 465], [152, 135, 345, 254, 246, 364, 163, 126], [153, 354, 234, 132, 126, 246, 456, 165], [243, 142, 154, 345, 356, 165, 126, 236], [152, 123, 134, 145, 465, 364, 263, 256], [143, 124, 254, 345, 356, 265, 162, 136]],\n",
    "[[153, 134, 142, 125, 265, 246, 364, 356], [243, 142, 154, 345, 356, 165, 126, 236], [123, 243, 345, 135, 156, 465, 264, 162], [123, 253, 354, 134, 146, 456, 265, 162], [152, 123, 134, 145, 465, 364, 263, 256], [354, 145, 124, 234, 263, 162, 156, 365], [143, 345, 235, 132, 126, 256, 465, 164], [235, 345, 154, 125, 162, 146, 364, 263], [154, 143, 132, 125, 265, 236, 346, 456], [143, 124, 254, 345, 356, 265, 162, 136], [152, 135, 345, 254, 246, 364, 163, 126], [143, 154, 245, 234, 263, 256, 165, 136]],\n",
    "[[143, 234, 253, 135, 156, 265, 246, 164], [123, 253, 354, 134, 146, 456, 265, 162], [354, 145, 124, 234, 263, 162, 156, 365], [153, 235, 243, 134, 146, 264, 256, 165], [152, 145, 354, 253, 236, 346, 164, 126], [354, 245, 142, 134, 163, 126, 256, 365], [152, 135, 345, 254, 246, 364, 163, 126], [143, 154, 245, 234, 263, 256, 165, 136], [243, 235, 125, 142, 164, 156, 365, 346], [143, 124, 254, 345, 356, 265, 162, 136], [154, 143, 132, 125, 265, 236, 346, 456], [245, 253, 123, 142, 164, 136, 356, 465]],\n",
    "[[243, 235, 125, 142, 164, 156, 365, 346], [245, 154, 135, 253, 236, 163, 146, 264], [143, 345, 235, 132, 126, 256, 465, 164], [124, 132, 235, 254, 456, 365, 163, 146], [235, 153, 145, 254, 246, 164, 136, 263], [235, 345, 154, 125, 162, 146, 364, 263], [153, 132, 124, 145, 465, 264, 236, 356], [153, 235, 243, 134, 146, 264, 256, 165], [153, 354, 234, 132, 126, 246, 456, 165], [152, 145, 354, 253, 236, 346, 164, 126], [154, 142, 123, 135, 365, 263, 246, 456], [143, 234, 253, 135, 156, 265, 246, 164]],\n",
    "[[143, 124, 254, 345, 356, 265, 162, 136], [245, 354, 153, 125, 162, 136, 346, 264], [143, 345, 235, 132, 126, 256, 465, 164], [354, 145, 124, 234, 263, 162, 156, 365], [123, 243, 345, 135, 156, 465, 264, 162], [152, 145, 354, 253, 236, 346, 164, 126], [235, 345, 154, 125, 162, 146, 364, 263], [243, 142, 154, 345, 356, 165, 126, 236], [354, 245, 142, 134, 163, 126, 256, 365], [124, 132, 235, 254, 456, 365, 163, 146], [152, 135, 345, 254, 246, 364, 163, 126], [243, 123, 152, 254, 456, 165, 136, 346]],\n",
    "[[143, 234, 253, 135, 156, 265, 246, 164], [245, 125, 132, 234, 364, 163, 156, 465], [143, 154, 245, 234, 263, 256, 165, 136], [245, 253, 123, 142, 164, 136, 356, 465], [124, 132, 235, 254, 456, 365, 163, 146], [245, 354, 153, 125, 162, 136, 346, 264], [354, 245, 142, 134, 163, 126, 256, 365], [123, 243, 345, 135, 156, 465, 264, 162], [235, 153, 145, 254, 246, 164, 136, 263], [354, 145, 124, 234, 263, 162, 156, 365], [152, 123, 134, 145, 465, 364, 263, 256], [243, 142, 154, 345, 356, 165, 126, 236]],\n",
    "[[152, 145, 354, 253, 236, 346, 164, 126], [143, 345, 235, 132, 126, 256, 465, 164], [245, 354, 153, 125, 162, 136, 346, 264], [243, 123, 152, 254, 456, 165, 136, 346], [154, 142, 123, 135, 365, 263, 246, 456], [143, 234, 253, 135, 156, 265, 246, 164], [153, 132, 124, 145, 465, 264, 236, 356], [235, 345, 154, 125, 162, 146, 364, 263], [245, 125, 132, 234, 364, 163, 156, 465], [243, 254, 145, 134, 163, 156, 265, 236], [243, 142, 154, 345, 356, 165, 126, 236], [124, 132, 235, 254, 456, 365, 163, 146]],\n",
    "[[123, 243, 345, 135, 156, 465, 264, 162], [143, 154, 245, 234, 263, 256, 165, 136], [152, 145, 354, 253, 236, 346, 164, 126], [243, 254, 145, 134, 163, 156, 265, 236], [153, 354, 234, 132, 126, 246, 456, 165], [243, 235, 125, 142, 164, 156, 365, 346], [235, 153, 145, 254, 246, 164, 136, 263], [152, 135, 345, 254, 246, 364, 163, 126], [124, 132, 235, 254, 456, 365, 163, 146], [143, 234, 253, 135, 156, 265, 246, 164], [153, 132, 124, 145, 465, 264, 236, 356], [245, 125, 132, 234, 364, 163, 156, 465]],\n",
    "[[152, 124, 143, 135, 365, 346, 264, 256], [124, 132, 235, 254, 456, 365, 163, 146], [123, 243, 345, 135, 156, 465, 264, 162], [243, 235, 125, 142, 164, 156, 365, 346], [143, 124, 254, 345, 356, 265, 162, 136], [153, 134, 142, 125, 265, 246, 364, 356], [235, 345, 154, 125, 162, 146, 364, 263], [152, 135, 345, 254, 246, 364, 163, 126], [245, 125, 132, 234, 364, 163, 156, 465], [243, 142, 154, 345, 356, 165, 126, 236], [152, 145, 354, 253, 236, 346, 164, 126], [354, 245, 142, 134, 163, 126, 256, 365]],\n",
    "[[245, 154, 135, 253, 236, 163, 146, 264], [143, 345, 235, 132, 126, 256, 465, 164], [143, 124, 254, 345, 356, 265, 162, 136], [153, 134, 142, 125, 265, 246, 364, 356], [243, 235, 125, 142, 164, 156, 365, 346], [124, 152, 253, 234, 364, 356, 165, 146], [152, 123, 134, 145, 465, 364, 263, 256], [152, 145, 354, 253, 236, 346, 164, 126], [154, 142, 123, 135, 365, 263, 246, 456], [124, 132, 235, 254, 456, 365, 163, 146], [245, 125, 132, 234, 364, 163, 156, 465], [153, 235, 243, 134, 146, 264, 256, 165]],\n",
    "[[143, 234, 253, 135, 156, 265, 246, 164], [243, 235, 125, 142, 164, 156, 365, 346], [154, 143, 132, 125, 265, 236, 346, 456], [245, 354, 153, 125, 162, 136, 346, 264], [235, 345, 154, 125, 162, 146, 364, 263], [124, 132, 235, 254, 456, 365, 163, 146], [243, 142, 154, 345, 356, 165, 126, 236], [243, 123, 152, 254, 456, 165, 136, 346], [354, 245, 142, 134, 163, 126, 256, 365], [245, 253, 123, 142, 164, 136, 356, 465], [152, 123, 134, 145, 465, 364, 263, 256], [153, 134, 142, 125, 265, 246, 364, 356]],\n",
    "[[124, 152, 253, 234, 364, 356, 165, 146], [243, 254, 145, 134, 163, 156, 265, 236], [152, 145, 354, 253, 236, 346, 164, 126], [354, 145, 124, 234, 263, 162, 156, 365], [153, 134, 142, 125, 265, 246, 364, 356], [152, 135, 345, 254, 246, 364, 163, 126], [152, 123, 134, 145, 465, 364, 263, 256], [243, 235, 125, 142, 164, 156, 365, 346], [154, 143, 132, 125, 265, 236, 346, 456], [152, 124, 143, 135, 365, 346, 264, 256], [243, 123, 152, 254, 456, 165, 136, 346], [245, 354, 153, 125, 162, 136, 346, 264]],\n",
    "[[354, 145, 124, 234, 263, 162, 156, 365], [245, 154, 135, 253, 236, 163, 146, 264], [143, 154, 245, 234, 263, 256, 165, 136], [123, 243, 345, 135, 156, 465, 264, 162], [245, 354, 153, 125, 162, 136, 346, 264], [143, 124, 254, 345, 356, 265, 162, 136], [153, 235, 243, 134, 146, 264, 256, 165], [152, 123, 134, 145, 465, 364, 263, 256], [124, 132, 235, 254, 456, 365, 163, 146], [154, 142, 123, 135, 365, 263, 246, 456], [143, 345, 235, 132, 126, 256, 465, 164], [153, 134, 142, 125, 265, 246, 364, 356]],\n",
    "[[152, 135, 345, 254, 246, 364, 163, 126], [235, 153, 145, 254, 246, 164, 136, 263], [123, 253, 354, 134, 146, 456, 265, 162], [152, 124, 143, 135, 365, 346, 264, 256], [153, 354, 234, 132, 126, 246, 456, 165], [243, 235, 125, 142, 164, 156, 365, 346], [153, 134, 142, 125, 265, 246, 364, 356], [143, 154, 245, 234, 263, 256, 165, 136], [153, 132, 124, 145, 465, 264, 236, 356], [245, 154, 135, 253, 236, 163, 146, 264], [123, 243, 345, 135, 156, 465, 264, 162], [124, 132, 235, 254, 456, 365, 163, 146]],\n",
    "[[143, 345, 235, 132, 126, 256, 465, 164], [154, 142, 123, 135, 365, 263, 246, 456], [152, 145, 354, 253, 236, 346, 164, 126], [243, 254, 145, 134, 163, 156, 265, 236], [153, 235, 243, 134, 146, 264, 256, 165], [354, 145, 124, 234, 263, 162, 156, 365], [153, 132, 124, 145, 465, 264, 236, 356], [143, 124, 254, 345, 356, 265, 162, 136], [245, 253, 123, 142, 164, 136, 356, 465], [152, 135, 345, 254, 246, 364, 163, 126], [124, 152, 253, 234, 364, 356, 165, 146], [245, 125, 132, 234, 364, 163, 156, 465]],\n",
    "[[153, 132, 124, 145, 465, 264, 236, 356], [243, 254, 145, 134, 163, 156, 265, 236], [152, 145, 354, 253, 236, 346, 164, 126], [123, 253, 354, 134, 146, 456, 265, 162], [152, 124, 143, 135, 365, 346, 264, 256], [243, 123, 152, 254, 456, 165, 136, 346], [245, 253, 123, 142, 164, 136, 356, 465], [124, 152, 253, 234, 364, 356, 165, 146], [235, 345, 154, 125, 162, 146, 364, 263], [154, 142, 123, 135, 365, 263, 246, 456], [143, 345, 235, 132, 126, 256, 465, 164], [153, 235, 243, 134, 146, 264, 256, 165]],\n",
    "[[243, 142, 154, 345, 356, 165, 126, 236], [154, 143, 132, 125, 265, 236, 346, 456], [124, 152, 253, 234, 364, 356, 165, 146], [153, 134, 142, 125, 265, 246, 364, 356], [235, 153, 145, 254, 246, 164, 136, 263], [143, 154, 245, 234, 263, 256, 165, 136], [152, 123, 134, 145, 465, 364, 263, 256], [152, 145, 354, 253, 236, 346, 164, 126], [235, 345, 154, 125, 162, 146, 364, 263], [123, 243, 345, 135, 156, 465, 264, 162], [154, 142, 123, 135, 365, 263, 246, 456], [124, 132, 235, 254, 456, 365, 163, 146]],\n",
    "[[235, 153, 145, 254, 246, 164, 136, 263], [354, 145, 124, 234, 263, 162, 156, 365], [124, 132, 235, 254, 456, 365, 163, 146], [245, 253, 123, 142, 164, 136, 356, 465], [153, 134, 142, 125, 265, 246, 364, 356], [153, 132, 124, 145, 465, 264, 236, 356], [123, 243, 345, 135, 156, 465, 264, 162], [143, 154, 245, 234, 263, 256, 165, 136], [154, 142, 123, 135, 365, 263, 246, 456], [153, 235, 243, 134, 146, 264, 256, 165], [243, 235, 125, 142, 164, 156, 365, 346], [152, 135, 345, 254, 246, 364, 163, 126]],\n",
    "[[245, 253, 123, 142, 164, 136, 356, 465], [152, 135, 345, 254, 246, 364, 163, 126], [235, 345, 154, 125, 162, 146, 364, 263], [243, 123, 152, 254, 456, 165, 136, 346], [354, 145, 124, 234, 263, 162, 156, 365], [124, 152, 253, 234, 364, 356, 165, 146], [143, 154, 245, 234, 263, 256, 165, 136], [243, 142, 154, 345, 356, 165, 126, 236], [123, 243, 345, 135, 156, 465, 264, 162], [153, 132, 124, 145, 465, 264, 236, 356], [154, 143, 132, 125, 265, 236, 346, 456], [153, 134, 142, 125, 265, 246, 364, 356]],\n",
    "[[245, 154, 135, 253, 236, 163, 146, 264], [235, 153, 145, 254, 246, 164, 136, 263], [153, 134, 142, 125, 265, 246, 364, 356], [143, 124, 254, 345, 356, 265, 162, 136], [354, 245, 142, 134, 163, 126, 256, 365], [243, 123, 152, 254, 456, 165, 136, 346], [243, 235, 125, 142, 164, 156, 365, 346], [243, 254, 145, 134, 163, 156, 265, 236], [153, 235, 243, 134, 146, 264, 256, 165], [143, 345, 235, 132, 126, 256, 465, 164], [152, 135, 345, 254, 246, 364, 163, 126], [153, 354, 234, 132, 126, 246, 456, 165]],\n",
    "[[243, 254, 145, 134, 163, 156, 265, 236], [235, 153, 145, 254, 246, 164, 136, 263], [154, 142, 123, 135, 365, 263, 246, 456], [243, 142, 154, 345, 356, 165, 126, 236], [152, 124, 143, 135, 365, 346, 264, 256], [143, 234, 253, 135, 156, 265, 246, 164], [245, 354, 153, 125, 162, 136, 346, 264], [153, 354, 234, 132, 126, 246, 456, 165], [153, 132, 124, 145, 465, 264, 236, 356], [243, 123, 152, 254, 456, 165, 136, 346], [153, 134, 142, 125, 265, 246, 364, 356], [123, 253, 354, 134, 146, 456, 265, 162]],\n",
    "[[152, 124, 143, 135, 365, 346, 264, 256], [123, 253, 354, 134, 146, 456, 265, 162], [123, 243, 345, 135, 156, 465, 264, 162], [245, 125, 132, 234, 364, 163, 156, 465], [235, 345, 154, 125, 162, 146, 364, 263], [354, 245, 142, 134, 163, 126, 256, 365], [235, 153, 145, 254, 246, 164, 136, 263], [245, 253, 123, 142, 164, 136, 356, 465], [154, 143, 132, 125, 265, 236, 346, 456], [153, 134, 142, 125, 265, 246, 364, 356], [243, 123, 152, 254, 456, 165, 136, 346], [153, 354, 234, 132, 126, 246, 456, 165]],\n",
    "[[245, 354, 153, 125, 162, 136, 346, 264], [143, 234, 253, 135, 156, 265, 246, 164], [143, 124, 254, 345, 356, 265, 162, 136], [243, 235, 125, 142, 164, 156, 365, 346], [235, 345, 154, 125, 162, 146, 364, 263], [153, 354, 234, 132, 126, 246, 456, 165], [243, 254, 145, 134, 163, 156, 265, 236], [152, 123, 134, 145, 465, 364, 263, 256], [143, 154, 245, 234, 263, 256, 165, 136], [123, 243, 345, 135, 156, 465, 264, 162], [243, 142, 154, 345, 356, 165, 126, 236], [245, 125, 132, 234, 364, 163, 156, 465]],\n",
    "[[154, 143, 132, 125, 265, 236, 346, 456], [354, 145, 124, 234, 263, 162, 156, 365], [143, 124, 254, 345, 356, 265, 162, 136], [354, 245, 142, 134, 163, 126, 256, 365], [243, 235, 125, 142, 164, 156, 365, 346], [243, 123, 152, 254, 456, 165, 136, 346], [153, 134, 142, 125, 265, 246, 364, 356], [123, 253, 354, 134, 146, 456, 265, 162], [245, 125, 132, 234, 364, 163, 156, 465], [143, 154, 245, 234, 263, 256, 165, 136], [123, 243, 345, 135, 156, 465, 264, 162], [153, 235, 243, 134, 146, 264, 256, 165]],\n",
    "[[235, 153, 145, 254, 246, 164, 136, 263], [143, 124, 254, 345, 356, 265, 162, 136], [152, 124, 143, 135, 365, 346, 264, 256], [152, 145, 354, 253, 236, 346, 164, 126], [245, 354, 153, 125, 162, 136, 346, 264], [124, 152, 253, 234, 364, 356, 165, 146], [245, 125, 132, 234, 364, 163, 156, 465], [243, 142, 154, 345, 356, 165, 126, 236], [154, 142, 123, 135, 365, 263, 246, 456], [153, 235, 243, 134, 146, 264, 256, 165], [243, 254, 145, 134, 163, 156, 265, 236], [243, 123, 152, 254, 456, 165, 136, 346]],\n",
    "[[154, 142, 123, 135, 365, 263, 246, 456], [245, 253, 123, 142, 164, 136, 356, 465], [152, 135, 345, 254, 246, 364, 163, 126], [235, 345, 154, 125, 162, 146, 364, 263], [153, 132, 124, 145, 465, 264, 236, 356], [153, 354, 234, 132, 126, 246, 456, 165], [153, 235, 243, 134, 146, 264, 256, 165], [245, 354, 153, 125, 162, 136, 346, 264], [354, 145, 124, 234, 263, 162, 156, 365], [153, 134, 142, 125, 265, 246, 364, 356], [152, 124, 143, 135, 365, 346, 264, 256], [235, 153, 145, 254, 246, 164, 136, 263]],\n",
    "[[243, 123, 152, 254, 456, 165, 136, 346], [354, 145, 124, 234, 263, 162, 156, 365], [245, 154, 135, 253, 236, 163, 146, 264], [143, 124, 254, 345, 356, 265, 162, 136], [235, 345, 154, 125, 162, 146, 364, 263], [235, 153, 145, 254, 246, 164, 136, 263], [245, 125, 132, 234, 364, 163, 156, 465], [123, 243, 345, 135, 156, 465, 264, 162], [154, 143, 132, 125, 265, 236, 346, 456], [243, 142, 154, 345, 356, 165, 126, 236], [354, 245, 142, 134, 163, 126, 256, 365], [143, 234, 253, 135, 156, 265, 246, 164]],\n",
    "[[143, 345, 235, 132, 126, 256, 465, 164], [152, 145, 354, 253, 236, 346, 164, 126], [152, 135, 345, 254, 246, 364, 163, 126], [123, 243, 345, 135, 156, 465, 264, 162], [154, 142, 123, 135, 365, 263, 246, 456], [243, 123, 152, 254, 456, 165, 136, 346], [235, 345, 154, 125, 162, 146, 364, 263], [154, 143, 132, 125, 265, 236, 346, 456], [354, 145, 124, 234, 263, 162, 156, 365], [143, 124, 254, 345, 356, 265, 162, 136], [245, 354, 153, 125, 162, 136, 346, 264], [354, 245, 142, 134, 163, 126, 256, 365]],\n",
    "[[152, 123, 134, 145, 465, 364, 263, 256], [143, 154, 245, 234, 263, 256, 165, 136], [123, 253, 354, 134, 146, 456, 265, 162], [123, 243, 345, 135, 156, 465, 264, 162], [245, 253, 123, 142, 164, 136, 356, 465], [152, 124, 143, 135, 365, 346, 264, 256], [245, 354, 153, 125, 162, 136, 346, 264], [143, 345, 235, 132, 126, 256, 465, 164], [153, 134, 142, 125, 265, 246, 364, 356], [243, 142, 154, 345, 356, 165, 126, 236], [354, 145, 124, 234, 263, 162, 156, 365], [124, 132, 235, 254, 456, 365, 163, 146]],\n",
    "[[143, 124, 254, 345, 356, 265, 162, 136], [124, 132, 235, 254, 456, 365, 163, 146], [152, 124, 143, 135, 365, 346, 264, 256], [245, 354, 153, 125, 162, 136, 346, 264], [245, 154, 135, 253, 236, 163, 146, 264], [153, 354, 234, 132, 126, 246, 456, 165], [243, 254, 145, 134, 163, 156, 265, 236], [243, 235, 125, 142, 164, 156, 365, 346], [152, 135, 345, 254, 246, 364, 163, 126], [235, 153, 145, 254, 246, 164, 136, 263], [245, 253, 123, 142, 164, 136, 356, 465], [123, 243, 345, 135, 156, 465, 264, 162]],\n",
    "[[245, 354, 153, 125, 162, 136, 346, 264], [143, 234, 253, 135, 156, 265, 246, 164], [143, 154, 245, 234, 263, 256, 165, 136], [123, 243, 345, 135, 156, 465, 264, 162], [243, 235, 125, 142, 164, 156, 365, 346], [153, 354, 234, 132, 126, 246, 456, 165], [243, 254, 145, 134, 163, 156, 265, 236], [152, 124, 143, 135, 365, 346, 264, 256], [154, 142, 123, 135, 365, 263, 246, 456], [154, 143, 132, 125, 265, 236, 346, 456], [124, 152, 253, 234, 364, 356, 165, 146], [245, 125, 132, 234, 364, 163, 156, 465]],\n",
    "[[245, 354, 153, 125, 162, 136, 346, 264], [243, 254, 145, 134, 163, 156, 265, 236], [154, 143, 132, 125, 265, 236, 346, 456], [123, 253, 354, 134, 146, 456, 265, 162], [143, 154, 245, 234, 263, 256, 165, 136], [153, 134, 142, 125, 265, 246, 364, 356], [235, 345, 154, 125, 162, 146, 364, 263], [124, 152, 253, 234, 364, 356, 165, 146], [152, 135, 345, 254, 246, 364, 163, 126], [152, 124, 143, 135, 365, 346, 264, 256], [354, 145, 124, 234, 263, 162, 156, 365], [245, 253, 123, 142, 164, 136, 356, 465]],\n",
    "[[245, 253, 123, 142, 164, 136, 356, 465], [243, 235, 125, 142, 164, 156, 365, 346], [152, 124, 143, 135, 365, 346, 264, 256], [235, 345, 154, 125, 162, 146, 364, 263], [152, 145, 354, 253, 236, 346, 164, 126], [124, 132, 235, 254, 456, 365, 163, 146], [143, 234, 253, 135, 156, 265, 246, 164], [354, 245, 142, 134, 163, 126, 256, 365], [124, 152, 253, 234, 364, 356, 165, 146], [243, 254, 145, 134, 163, 156, 265, 236], [143, 124, 254, 345, 356, 265, 162, 136], [153, 132, 124, 145, 465, 264, 236, 356]],\n",
    "[[243, 254, 145, 134, 163, 156, 265, 236], [153, 354, 234, 132, 126, 246, 456, 165], [354, 245, 142, 134, 163, 126, 256, 365], [152, 135, 345, 254, 246, 364, 163, 126], [143, 154, 245, 234, 263, 256, 165, 136], [243, 123, 152, 254, 456, 165, 136, 346], [243, 235, 125, 142, 164, 156, 365, 346], [123, 253, 354, 134, 146, 456, 265, 162], [143, 124, 254, 345, 356, 265, 162, 136], [245, 253, 123, 142, 164, 136, 356, 465], [154, 142, 123, 135, 365, 263, 246, 456], [153, 132, 124, 145, 465, 264, 236, 356]],\n",
    "[[153, 134, 142, 125, 265, 246, 364, 356], [143, 154, 245, 234, 263, 256, 165, 136], [153, 132, 124, 145, 465, 264, 236, 356], [354, 245, 142, 134, 163, 126, 256, 365], [235, 345, 154, 125, 162, 146, 364, 263], [243, 254, 145, 134, 163, 156, 265, 236], [143, 345, 235, 132, 126, 256, 465, 164], [124, 152, 253, 234, 364, 356, 165, 146], [143, 234, 253, 135, 156, 265, 246, 164], [243, 123, 152, 254, 456, 165, 136, 346], [152, 124, 143, 135, 365, 346, 264, 256], [245, 253, 123, 142, 164, 136, 356, 465]],\n",
    "[[124, 132, 235, 254, 456, 365, 163, 146], [152, 123, 134, 145, 465, 364, 263, 256], [245, 154, 135, 253, 236, 163, 146, 264], [243, 254, 145, 134, 163, 156, 265, 236], [154, 142, 123, 135, 365, 263, 246, 456], [143, 345, 235, 132, 126, 256, 465, 164], [354, 245, 142, 134, 163, 126, 256, 365], [143, 234, 253, 135, 156, 265, 246, 164], [243, 123, 152, 254, 456, 165, 136, 346], [154, 143, 132, 125, 265, 236, 346, 456], [245, 354, 153, 125, 162, 136, 346, 264], [143, 124, 254, 345, 356, 265, 162, 136]],\n",
    "[[124, 132, 235, 254, 456, 365, 163, 146], [123, 253, 354, 134, 146, 456, 265, 162], [245, 253, 123, 142, 164, 136, 356, 465], [152, 135, 345, 254, 246, 364, 163, 126], [152, 145, 354, 253, 236, 346, 164, 126], [152, 124, 143, 135, 365, 346, 264, 256], [354, 245, 142, 134, 163, 126, 256, 365], [243, 142, 154, 345, 356, 165, 126, 236], [235, 345, 154, 125, 162, 146, 364, 263], [153, 132, 124, 145, 465, 264, 236, 356], [354, 145, 124, 234, 263, 162, 156, 365], [153, 354, 234, 132, 126, 246, 456, 165]],\n",
    "[[243, 254, 145, 134, 163, 156, 265, 236], [153, 235, 243, 134, 146, 264, 256, 165], [143, 124, 254, 345, 356, 265, 162, 136], [245, 253, 123, 142, 164, 136, 356, 465], [143, 154, 245, 234, 263, 256, 165, 136], [243, 235, 125, 142, 164, 156, 365, 346], [124, 152, 253, 234, 364, 356, 165, 146], [143, 345, 235, 132, 126, 256, 465, 164], [154, 143, 132, 125, 265, 236, 346, 456], [152, 124, 143, 135, 365, 346, 264, 256], [153, 354, 234, 132, 126, 246, 456, 165], [235, 345, 154, 125, 162, 146, 364, 263]],\n",
    "[[152, 135, 345, 254, 246, 364, 163, 126], [153, 235, 243, 134, 146, 264, 256, 165], [152, 124, 143, 135, 365, 346, 264, 256], [243, 235, 125, 142, 164, 156, 365, 346], [124, 152, 253, 234, 364, 356, 165, 146], [152, 123, 134, 145, 465, 364, 263, 256], [245, 125, 132, 234, 364, 163, 156, 465], [235, 345, 154, 125, 162, 146, 364, 263], [123, 253, 354, 134, 146, 456, 265, 162], [124, 132, 235, 254, 456, 365, 163, 146], [154, 143, 132, 125, 265, 236, 346, 456], [235, 153, 145, 254, 246, 164, 136, 263]],\n",
    "[[235, 345, 154, 125, 162, 146, 364, 263], [124, 152, 253, 234, 364, 356, 165, 146], [152, 123, 134, 145, 465, 364, 263, 256], [354, 145, 124, 234, 263, 162, 156, 365], [152, 145, 354, 253, 236, 346, 164, 126], [243, 254, 145, 134, 163, 156, 265, 236], [243, 123, 152, 254, 456, 165, 136, 346], [152, 124, 143, 135, 365, 346, 264, 256], [154, 142, 123, 135, 365, 263, 246, 456], [245, 354, 153, 125, 162, 136, 346, 264], [152, 135, 345, 254, 246, 364, 163, 126], [154, 143, 132, 125, 265, 236, 346, 456]],\n",
    "[[243, 254, 145, 134, 163, 156, 265, 236], [235, 345, 154, 125, 162, 146, 364, 263], [354, 145, 124, 234, 263, 162, 156, 365], [243, 123, 152, 254, 456, 165, 136, 346], [143, 345, 235, 132, 126, 256, 465, 164], [152, 123, 134, 145, 465, 364, 263, 256], [143, 234, 253, 135, 156, 265, 246, 164], [245, 154, 135, 253, 236, 163, 146, 264], [243, 235, 125, 142, 164, 156, 365, 346], [245, 354, 153, 125, 162, 136, 346, 264], [153, 134, 142, 125, 265, 246, 364, 356], [143, 124, 254, 345, 356, 265, 162, 136]],\n",
    "[[154, 142, 123, 135, 365, 263, 246, 456], [245, 154, 135, 253, 236, 163, 146, 264], [153, 354, 234, 132, 126, 246, 456, 165], [152, 135, 345, 254, 246, 364, 163, 126], [143, 234, 253, 135, 156, 265, 246, 164], [243, 254, 145, 134, 163, 156, 265, 236], [124, 132, 235, 254, 456, 365, 163, 146], [235, 153, 145, 254, 246, 164, 136, 263], [153, 134, 142, 125, 265, 246, 364, 356], [152, 124, 143, 135, 365, 346, 264, 256], [245, 354, 153, 125, 162, 136, 346, 264], [152, 123, 134, 145, 465, 364, 263, 256]],\n",
    "[[143, 124, 254, 345, 356, 265, 162, 136], [153, 354, 234, 132, 126, 246, 456, 165], [243, 254, 145, 134, 163, 156, 265, 236], [143, 154, 245, 234, 263, 256, 165, 136], [152, 124, 143, 135, 365, 346, 264, 256], [245, 125, 132, 234, 364, 163, 156, 465], [124, 132, 235, 254, 456, 365, 163, 146], [235, 153, 145, 254, 246, 164, 136, 263], [123, 243, 345, 135, 156, 465, 264, 162], [124, 152, 253, 234, 364, 356, 165, 146], [354, 245, 142, 134, 163, 126, 256, 365], [153, 134, 142, 125, 265, 246, 364, 356]],\n",
    "[[235, 345, 154, 125, 162, 146, 364, 263], [153, 354, 234, 132, 126, 246, 456, 165], [245, 154, 135, 253, 236, 163, 146, 264], [143, 345, 235, 132, 126, 256, 465, 164], [123, 243, 345, 135, 156, 465, 264, 162], [152, 145, 354, 253, 236, 346, 164, 126], [243, 254, 145, 134, 163, 156, 265, 236], [154, 142, 123, 135, 365, 263, 246, 456], [143, 124, 254, 345, 356, 265, 162, 136], [354, 145, 124, 234, 263, 162, 156, 365], [243, 123, 152, 254, 456, 165, 136, 346], [152, 123, 134, 145, 465, 364, 263, 256]],\n",
    "[[245, 154, 135, 253, 236, 163, 146, 264], [123, 253, 354, 134, 146, 456, 265, 162], [245, 253, 123, 142, 164, 136, 356, 465], [124, 132, 235, 254, 456, 365, 163, 146], [243, 235, 125, 142, 164, 156, 365, 346], [153, 354, 234, 132, 126, 246, 456, 165], [354, 145, 124, 234, 263, 162, 156, 365], [153, 235, 243, 134, 146, 264, 256, 165], [152, 135, 345, 254, 246, 364, 163, 126], [235, 345, 154, 125, 162, 146, 364, 263], [245, 354, 153, 125, 162, 136, 346, 264], [143, 234, 253, 135, 156, 265, 246, 164]],\n",
    "[[153, 235, 243, 134, 146, 264, 256, 165], [154, 142, 123, 135, 365, 263, 246, 456], [152, 145, 354, 253, 236, 346, 164, 126], [123, 243, 345, 135, 156, 465, 264, 162], [354, 245, 142, 134, 163, 126, 256, 365], [124, 132, 235, 254, 456, 365, 163, 146], [153, 134, 142, 125, 265, 246, 364, 356], [235, 153, 145, 254, 246, 164, 136, 263], [143, 345, 235, 132, 126, 256, 465, 164], [354, 145, 124, 234, 263, 162, 156, 365], [154, 143, 132, 125, 265, 236, 346, 456], [143, 154, 245, 234, 263, 256, 165, 136]],\n",
    "[[243, 235, 125, 142, 164, 156, 365, 346], [245, 253, 123, 142, 164, 136, 356, 465], [354, 145, 124, 234, 263, 162, 156, 365], [154, 142, 123, 135, 365, 263, 246, 456], [153, 354, 234, 132, 126, 246, 456, 165], [154, 143, 132, 125, 265, 236, 346, 456], [152, 124, 143, 135, 365, 346, 264, 256], [245, 154, 135, 253, 236, 163, 146, 264], [235, 153, 145, 254, 246, 164, 136, 263], [152, 135, 345, 254, 246, 364, 163, 126], [153, 134, 142, 125, 265, 246, 364, 356], [243, 123, 152, 254, 456, 165, 136, 346]],\n",
    "[[154, 143, 132, 125, 265, 236, 346, 456], [153, 354, 234, 132, 126, 246, 456, 165], [245, 253, 123, 142, 164, 136, 356, 465], [152, 123, 134, 145, 465, 364, 263, 256], [243, 123, 152, 254, 456, 165, 136, 346], [243, 235, 125, 142, 164, 156, 365, 346], [245, 154, 135, 253, 236, 163, 146, 264], [245, 125, 132, 234, 364, 163, 156, 465], [153, 235, 243, 134, 146, 264, 256, 165], [143, 345, 235, 132, 126, 256, 465, 164], [154, 142, 123, 135, 365, 263, 246, 456], [354, 145, 124, 234, 263, 162, 156, 365]],\n",
    "[[152, 145, 354, 253, 236, 346, 164, 126], [123, 243, 345, 135, 156, 465, 264, 162], [152, 124, 143, 135, 365, 346, 264, 256], [123, 253, 354, 134, 146, 456, 265, 162], [143, 154, 245, 234, 263, 256, 165, 136], [245, 125, 132, 234, 364, 163, 156, 465], [152, 135, 345, 254, 246, 364, 163, 126], [153, 235, 243, 134, 146, 264, 256, 165], [235, 153, 145, 254, 246, 164, 136, 263], [243, 123, 152, 254, 456, 165, 136, 346], [153, 132, 124, 145, 465, 264, 236, 356], [243, 142, 154, 345, 356, 165, 126, 236]],\n",
    "[[243, 123, 152, 254, 456, 165, 136, 346], [154, 142, 123, 135, 365, 263, 246, 456], [143, 345, 235, 132, 126, 256, 465, 164], [235, 153, 145, 254, 246, 164, 136, 263], [143, 154, 245, 234, 263, 256, 165, 136], [245, 253, 123, 142, 164, 136, 356, 465], [143, 124, 254, 345, 356, 265, 162, 136], [152, 123, 134, 145, 465, 364, 263, 256], [153, 354, 234, 132, 126, 246, 456, 165], [245, 125, 132, 234, 364, 163, 156, 465], [245, 154, 135, 253, 236, 163, 146, 264], [245, 354, 153, 125, 162, 136, 346, 264]],\n",
    "[[153, 354, 234, 132, 126, 246, 456, 165], [243, 123, 152, 254, 456, 165, 136, 346], [123, 253, 354, 134, 146, 456, 265, 162], [152, 135, 345, 254, 246, 364, 163, 126], [245, 253, 123, 142, 164, 136, 356, 465], [124, 132, 235, 254, 456, 365, 163, 146], [152, 145, 354, 253, 236, 346, 164, 126], [154, 143, 132, 125, 265, 236, 346, 456], [152, 123, 134, 145, 465, 364, 263, 256], [243, 254, 145, 134, 163, 156, 265, 236], [243, 235, 125, 142, 164, 156, 365, 346], [152, 124, 143, 135, 365, 346, 264, 256]],\n",
    "[[123, 243, 345, 135, 156, 465, 264, 162], [243, 123, 152, 254, 456, 165, 136, 346], [152, 124, 143, 135, 365, 346, 264, 256], [124, 152, 253, 234, 364, 356, 165, 146], [243, 235, 125, 142, 164, 156, 365, 346], [153, 132, 124, 145, 465, 264, 236, 356], [143, 234, 253, 135, 156, 265, 246, 164], [245, 125, 132, 234, 364, 163, 156, 465], [243, 254, 145, 134, 163, 156, 265, 236], [354, 145, 124, 234, 263, 162, 156, 365], [235, 345, 154, 125, 162, 146, 364, 263], [153, 354, 234, 132, 126, 246, 456, 165]],\n",
    "[[245, 354, 153, 125, 162, 136, 346, 264], [245, 154, 135, 253, 236, 163, 146, 264], [152, 123, 134, 145, 465, 364, 263, 256], [354, 145, 124, 234, 263, 162, 156, 365], [143, 154, 245, 234, 263, 256, 165, 136], [154, 142, 123, 135, 365, 263, 246, 456], [143, 345, 235, 132, 126, 256, 465, 164], [123, 243, 345, 135, 156, 465, 264, 162], [153, 134, 142, 125, 265, 246, 364, 356], [243, 123, 152, 254, 456, 165, 136, 346], [243, 254, 145, 134, 163, 156, 265, 236], [152, 145, 354, 253, 236, 346, 164, 126]],\n",
    "[[154, 142, 123, 135, 365, 263, 246, 456], [354, 145, 124, 234, 263, 162, 156, 365], [354, 245, 142, 134, 163, 126, 256, 365], [152, 135, 345, 254, 246, 364, 163, 126], [152, 145, 354, 253, 236, 346, 164, 126], [143, 124, 254, 345, 356, 265, 162, 136], [243, 254, 145, 134, 163, 156, 265, 236], [124, 132, 235, 254, 456, 365, 163, 146], [245, 125, 132, 234, 364, 163, 156, 465], [124, 152, 253, 234, 364, 356, 165, 146], [243, 123, 152, 254, 456, 165, 136, 346], [245, 354, 153, 125, 162, 136, 346, 264]],\n",
    "[[143, 124, 254, 345, 356, 265, 162, 136], [152, 124, 143, 135, 365, 346, 264, 256], [354, 145, 124, 234, 263, 162, 156, 365], [153, 132, 124, 145, 465, 264, 236, 356], [152, 135, 345, 254, 246, 364, 163, 126], [354, 245, 142, 134, 163, 126, 256, 365], [243, 235, 125, 142, 164, 156, 365, 346], [154, 142, 123, 135, 365, 263, 246, 456], [143, 154, 245, 234, 263, 256, 165, 136], [245, 154, 135, 253, 236, 163, 146, 264], [124, 132, 235, 254, 456, 365, 163, 146], [124, 152, 253, 234, 364, 356, 165, 146]],\n",
    "[[245, 154, 135, 253, 236, 163, 146, 264], [153, 235, 243, 134, 146, 264, 256, 165], [243, 254, 145, 134, 163, 156, 265, 236], [243, 142, 154, 345, 356, 165, 126, 236], [152, 145, 354, 253, 236, 346, 164, 126], [354, 145, 124, 234, 263, 162, 156, 365], [143, 234, 253, 135, 156, 265, 246, 164], [243, 235, 125, 142, 164, 156, 365, 346], [152, 123, 134, 145, 465, 364, 263, 256], [245, 125, 132, 234, 364, 163, 156, 465], [243, 123, 152, 254, 456, 165, 136, 346], [123, 253, 354, 134, 146, 456, 265, 162]],\n",
    "[[243, 142, 154, 345, 356, 165, 126, 236], [354, 145, 124, 234, 263, 162, 156, 365], [245, 253, 123, 142, 164, 136, 356, 465], [243, 123, 152, 254, 456, 165, 136, 346], [152, 123, 134, 145, 465, 364, 263, 256], [124, 132, 235, 254, 456, 365, 163, 146], [245, 354, 153, 125, 162, 136, 346, 264], [152, 145, 354, 253, 236, 346, 164, 126], [153, 134, 142, 125, 265, 246, 364, 356], [143, 345, 235, 132, 126, 256, 465, 164], [235, 345, 154, 125, 162, 146, 364, 263], [123, 243, 345, 135, 156, 465, 264, 162]],\n",
    "[[143, 345, 235, 132, 126, 256, 465, 164], [123, 253, 354, 134, 146, 456, 265, 162], [143, 154, 245, 234, 263, 256, 165, 136], [354, 145, 124, 234, 263, 162, 156, 365], [143, 124, 254, 345, 356, 265, 162, 136], [152, 145, 354, 253, 236, 346, 164, 126], [123, 243, 345, 135, 156, 465, 264, 162], [153, 134, 142, 125, 265, 246, 364, 356], [154, 143, 132, 125, 265, 236, 346, 456], [154, 142, 123, 135, 365, 263, 246, 456], [235, 345, 154, 125, 162, 146, 364, 263], [245, 154, 135, 253, 236, 163, 146, 264]],\n",
    "[[245, 154, 135, 253, 236, 163, 146, 264], [143, 234, 253, 135, 156, 265, 246, 164], [153, 132, 124, 145, 465, 264, 236, 356], [235, 345, 154, 125, 162, 146, 364, 263], [143, 124, 254, 345, 356, 265, 162, 136], [154, 142, 123, 135, 365, 263, 246, 456], [235, 153, 145, 254, 246, 164, 136, 263], [123, 253, 354, 134, 146, 456, 265, 162], [152, 135, 345, 254, 246, 364, 163, 126], [153, 235, 243, 134, 146, 264, 256, 165], [243, 123, 152, 254, 456, 165, 136, 346], [153, 354, 234, 132, 126, 246, 456, 165]],\n",
    "[[143, 345, 235, 132, 126, 256, 465, 164], [124, 152, 253, 234, 364, 356, 165, 146], [154, 142, 123, 135, 365, 263, 246, 456], [154, 143, 132, 125, 265, 236, 346, 456], [243, 123, 152, 254, 456, 165, 136, 346], [123, 243, 345, 135, 156, 465, 264, 162], [245, 354, 153, 125, 162, 136, 346, 264], [143, 124, 254, 345, 356, 265, 162, 136], [235, 345, 154, 125, 162, 146, 364, 263], [243, 235, 125, 142, 164, 156, 365, 346], [152, 145, 354, 253, 236, 346, 164, 126], [354, 245, 142, 134, 163, 126, 256, 365]],\n",
    "[[154, 142, 123, 135, 365, 263, 246, 456], [152, 135, 345, 254, 246, 364, 163, 126], [153, 354, 234, 132, 126, 246, 456, 165], [243, 235, 125, 142, 164, 156, 365, 346], [123, 243, 345, 135, 156, 465, 264, 162], [354, 145, 124, 234, 263, 162, 156, 365], [143, 124, 254, 345, 356, 265, 162, 136], [153, 235, 243, 134, 146, 264, 256, 165], [354, 245, 142, 134, 163, 126, 256, 365], [153, 132, 124, 145, 465, 264, 236, 356], [152, 124, 143, 135, 365, 346, 264, 256], [124, 152, 253, 234, 364, 356, 165, 146]],\n",
    "[[123, 243, 345, 135, 156, 465, 264, 162], [354, 145, 124, 234, 263, 162, 156, 365], [235, 153, 145, 254, 246, 164, 136, 263], [143, 154, 245, 234, 263, 256, 165, 136], [245, 253, 123, 142, 164, 136, 356, 465], [143, 234, 253, 135, 156, 265, 246, 164], [152, 124, 143, 135, 365, 346, 264, 256], [243, 142, 154, 345, 356, 165, 126, 236], [152, 123, 134, 145, 465, 364, 263, 256], [124, 132, 235, 254, 456, 365, 163, 146], [245, 154, 135, 253, 236, 163, 146, 264], [235, 345, 154, 125, 162, 146, 364, 263]],\n",
    "[[154, 143, 132, 125, 265, 236, 346, 456], [152, 145, 354, 253, 236, 346, 164, 126], [354, 145, 124, 234, 263, 162, 156, 365], [124, 152, 253, 234, 364, 356, 165, 146], [152, 135, 345, 254, 246, 364, 163, 126], [354, 245, 142, 134, 163, 126, 256, 365], [124, 132, 235, 254, 456, 365, 163, 146], [235, 153, 145, 254, 246, 164, 136, 263], [152, 123, 134, 145, 465, 364, 263, 256], [152, 124, 143, 135, 365, 346, 264, 256], [245, 253, 123, 142, 164, 136, 356, 465], [243, 235, 125, 142, 164, 156, 365, 346]],\n",
    "[[245, 125, 132, 234, 364, 163, 156, 465], [243, 235, 125, 142, 164, 156, 365, 346], [354, 245, 142, 134, 163, 126, 256, 365], [152, 135, 345, 254, 246, 364, 163, 126], [152, 124, 143, 135, 365, 346, 264, 256], [124, 152, 253, 234, 364, 356, 165, 146], [123, 243, 345, 135, 156, 465, 264, 162], [153, 132, 124, 145, 465, 264, 236, 356], [235, 345, 154, 125, 162, 146, 364, 263], [143, 154, 245, 234, 263, 256, 165, 136], [154, 143, 132, 125, 265, 236, 346, 456], [143, 234, 253, 135, 156, 265, 246, 164]],\n",
    "[[143, 234, 253, 135, 156, 265, 246, 164], [152, 135, 345, 254, 246, 364, 163, 126], [243, 142, 154, 345, 356, 165, 126, 236], [235, 153, 145, 254, 246, 164, 136, 263], [153, 235, 243, 134, 146, 264, 256, 165], [124, 152, 253, 234, 364, 356, 165, 146], [245, 253, 123, 142, 164, 136, 356, 465], [245, 354, 153, 125, 162, 136, 346, 264], [123, 253, 354, 134, 146, 456, 265, 162], [154, 142, 123, 135, 365, 263, 246, 456], [152, 124, 143, 135, 365, 346, 264, 256], [124, 132, 235, 254, 456, 365, 163, 146]],\n",
    "[[243, 142, 154, 345, 356, 165, 126, 236], [235, 153, 145, 254, 246, 164, 136, 263], [123, 243, 345, 135, 156, 465, 264, 162], [154, 142, 123, 135, 365, 263, 246, 456], [143, 234, 253, 135, 156, 265, 246, 164], [245, 354, 153, 125, 162, 136, 346, 264], [243, 235, 125, 142, 164, 156, 365, 346], [143, 345, 235, 132, 126, 256, 465, 164], [124, 152, 253, 234, 364, 356, 165, 146], [354, 245, 142, 134, 163, 126, 256, 365], [124, 132, 235, 254, 456, 365, 163, 146], [243, 254, 145, 134, 163, 156, 265, 236]],\n",
    "[[153, 354, 234, 132, 126, 246, 456, 165], [143, 234, 253, 135, 156, 265, 246, 164], [153, 235, 243, 134, 146, 264, 256, 165], [143, 345, 235, 132, 126, 256, 465, 164], [354, 145, 124, 234, 263, 162, 156, 365], [245, 125, 132, 234, 364, 163, 156, 465], [245, 253, 123, 142, 164, 136, 356, 465], [235, 153, 145, 254, 246, 164, 136, 263], [245, 154, 135, 253, 236, 163, 146, 264], [243, 123, 152, 254, 456, 165, 136, 346], [154, 142, 123, 135, 365, 263, 246, 456], [154, 143, 132, 125, 265, 236, 346, 456]],\n",
    "[[152, 135, 345, 254, 246, 364, 163, 126], [235, 345, 154, 125, 162, 146, 364, 263], [245, 253, 123, 142, 164, 136, 356, 465], [153, 134, 142, 125, 265, 246, 364, 356], [124, 152, 253, 234, 364, 356, 165, 146], [243, 235, 125, 142, 164, 156, 365, 346], [152, 145, 354, 253, 236, 346, 164, 126], [143, 124, 254, 345, 356, 265, 162, 136], [354, 145, 124, 234, 263, 162, 156, 365], [154, 142, 123, 135, 365, 263, 246, 456], [143, 345, 235, 132, 126, 256, 465, 164], [245, 354, 153, 125, 162, 136, 346, 264]]]"
   ]
  },
  {
   "cell_type": "code",
   "execution_count": 45,
   "id": "8c8babb5",
   "metadata": {
    "scrolled": false
   },
   "outputs": [
    {
     "name": "stdout",
     "output_type": "stream",
     "text": [
      "these 27 cubes are Buildable:\n",
      "['123.456', '123.465', '123.546', '123.564', '123.645', '123.654', '124.356', '124.365', '124.536', '124.563', '124.635', '124.653', '125.346', '125.364', '125.436', '125.463', '125.634', '125.643', '126.345', '126.354', '126.435', '126.453', '126.543', '134.526', '135.426', '135.624', '136.524']\n",
      "the original set of cubes\n"
     ]
    },
    {
     "data": {
      "image/png": "[encoded data removed]",
      "text/plain": [
       "<Figure size 288x288 with 1 Axes>"
      ]
     },
     "metadata": {
      "needs_background": "light"
     },
     "output_type": "display_data"
    },
    {
     "name": "stdout",
     "output_type": "stream",
     "text": [
      "the set of buildable targets\n"
     ]
    },
    {
     "data": {
      "image/png": "[encoded data removed]",
      "text/plain": [
       "<Figure size 288x288 with 1 Axes>"
      ]
     },
     "metadata": {
      "needs_background": "light"
     },
     "output_type": "display_data"
    },
    {
     "name": "stdout",
     "output_type": "stream",
     "text": [
      "these 26 cubes are Buildable:\n",
      "['123.456', '123.465', '123.564', '123.645', '123.654', '124.356', '124.365', '124.536', '124.563', '124.635', '125.346', '125.364', '125.436', '125.463', '125.634', '125.643', '126.345', '126.435', '126.453', '126.534', '126.543', '134.526', '134.625', '135.426', '136.425', '136.524']\n",
      "the original set of cubes\n"
     ]
    },
    {
     "data": {
      "image/png": "[encoded data removed]",
      "text/plain": [
       "<Figure size 288x288 with 1 Axes>"
      ]
     },
     "metadata": {
      "needs_background": "light"
     },
     "output_type": "display_data"
    },
    {
     "name": "stdout",
     "output_type": "stream",
     "text": [
      "the set of buildable targets\n"
     ]
    },
    {
     "data": {
      "image/png": "[encoded data removed]",
      "text/plain": [
       "<Figure size 288x288 with 1 Axes>"
      ]
     },
     "metadata": {
      "needs_background": "light"
     },
     "output_type": "display_data"
    },
    {
     "name": "stdout",
     "output_type": "stream",
     "text": [
      "these 28 cubes are Buildable:\n",
      "['123.456', '123.465', '123.546', '123.564', '123.645', '123.654', '124.356', '124.365', '124.536', '124.563', '124.635', '124.653', '125.346', '125.436', '125.463', '125.634', '125.643', '126.345', '126.354', '126.435', '126.453', '126.534', '126.543', '134.526', '134.625', '135.426', '136.425', '136.524']\n",
      "the original set of cubes\n"
     ]
    },
    {
     "data": {
      "image/png": "[encoded data removed]",
      "text/plain": [
       "<Figure size 288x288 with 1 Axes>"
      ]
     },
     "metadata": {
      "needs_background": "light"
     },
     "output_type": "display_data"
    },
    {
     "name": "stdout",
     "output_type": "stream",
     "text": [
      "the set of buildable targets\n"
     ]
    },
    {
     "data": {
      "image/png": "[encoded data removed]",
      "text/plain": [
       "<Figure size 288x288 with 1 Axes>"
      ]
     },
     "metadata": {
      "needs_background": "light"
     },
     "output_type": "display_data"
    },
    {
     "name": "stdout",
     "output_type": "stream",
     "text": [
      "these 26 cubes are Buildable:\n",
      "['123.456', '123.465', '123.546', '123.645', '123.654', '124.356', '124.365', '124.536', '124.563', '124.635', '124.653', '125.364', '125.436', '125.634', '125.643', '126.345', '126.354', '126.435', '126.453', '126.534', '126.543', '134.526', '135.426', '135.624', '136.425', '136.524']\n",
      "the original set of cubes\n"
     ]
    },
    {
     "data": {
      "image/png": "[encoded data removed]",
      "text/plain": [
       "<Figure size 288x288 with 1 Axes>"
      ]
     },
     "metadata": {
      "needs_background": "light"
     },
     "output_type": "display_data"
    },
    {
     "name": "stdout",
     "output_type": "stream",
     "text": [
      "the set of buildable targets\n"
     ]
    },
    {
     "data": {
      "image/png": "[encoded data removed]",
      "text/plain": [
       "<Figure size 288x288 with 1 Axes>"
      ]
     },
     "metadata": {
      "needs_background": "light"
     },
     "output_type": "display_data"
    },
    {
     "name": "stdout",
     "output_type": "stream",
     "text": [
      "these 26 cubes are Buildable:\n",
      "['123.456', '123.465', '123.546', '123.645', '123.654', '124.356', '124.365', '124.536', '124.635', '124.653', '125.346', '125.364', '125.436', '125.463', '125.634', '126.345', '126.354', '126.435', '126.534', '126.543', '134.526', '134.625', '135.426', '135.624', '136.425', '136.524']\n",
      "the original set of cubes\n"
     ]
    },
    {
     "data": {
      "image/png": "[encoded data removed]",
      "text/plain": [
       "<Figure size 288x288 with 1 Axes>"
      ]
     },
     "metadata": {
      "needs_background": "light"
     },
     "output_type": "display_data"
    },
    {
     "name": "stdout",
     "output_type": "stream",
     "text": [
      "the set of buildable targets\n"
     ]
    },
    {
     "data": {
      "image/png": "[encoded data removed]",
      "text/plain": [
       "<Figure size 288x288 with 1 Axes>"
      ]
     },
     "metadata": {
      "needs_background": "light"
     },
     "output_type": "display_data"
    },
    {
     "name": "stdout",
     "output_type": "stream",
     "text": [
      "these 26 cubes are Buildable:\n",
      "['123.456', '123.465', '123.564', '123.645', '123.654', '124.356', '124.536', '124.563', '124.635', '124.653', '125.346', '125.364', '125.436', '125.463', '125.634', '125.643', '126.345', '126.354', '126.453', '126.534', '126.543', '134.526', '134.625', '135.426', '135.624', '136.524']\n",
      "the original set of cubes\n"
     ]
    },
    {
     "data": {
      "image/png": "[encoded data removed]",
      "text/plain": [
       "<Figure size 288x288 with 1 Axes>"
      ]
     },
     "metadata": {
      "needs_background": "light"
     },
     "output_type": "display_data"
    },
    {
     "name": "stdout",
     "output_type": "stream",
     "text": [
      "the set of buildable targets\n"
     ]
    },
    {
     "data": {
      "image/png": "[encoded data removed]",
      "text/plain": [
       "<Figure size 288x288 with 1 Axes>"
      ]
     },
     "metadata": {
      "needs_background": "light"
     },
     "output_type": "display_data"
    },
    {
     "name": "stdout",
     "output_type": "stream",
     "text": [
      "these 26 cubes are Buildable:\n",
      "['123.456', '123.465', '123.546', '123.564', '123.645', '124.365', '124.536', '124.563', '124.635', '124.653', '125.346', '125.364', '125.436', '125.643', '126.345', '126.354', '126.435', '126.453', '126.534', '126.543', '134.526', '134.625', '135.426', '135.624', '136.425', '136.524']\n",
      "the original set of cubes\n"
     ]
    },
    {
     "data": {
      "image/png": "[encoded data removed]",
      "text/plain": [
       "<Figure size 288x288 with 1 Axes>"
      ]
     },
     "metadata": {
      "needs_background": "light"
     },
     "output_type": "display_data"
    },
    {
     "name": "stdout",
     "output_type": "stream",
     "text": [
      "the set of buildable targets\n"
     ]
    },
    {
     "data": {
      "image/png": "[encoded data removed]",
      "text/plain": [
       "<Figure size 288x288 with 1 Axes>"
      ]
     },
     "metadata": {
      "needs_background": "light"
     },
     "output_type": "display_data"
    },
    {
     "name": "stdout",
     "output_type": "stream",
     "text": [
      "these 26 cubes are Buildable:\n",
      "['123.456', '123.546', '123.564', '123.645', '123.654', '124.356', '124.365', '124.536', '124.563', '124.653', '125.364', '125.436', '125.463', '125.634', '125.643', '126.354', '126.435', '126.453', '126.534', '126.543', '134.526', '134.625', '135.426', '135.624', '136.425', '136.524']\n",
      "the original set of cubes\n"
     ]
    },
    {
     "data": {
      "image/png": "[encoded data removed]",
      "text/plain": [
       "<Figure size 288x288 with 1 Axes>"
      ]
     },
     "metadata": {
      "needs_background": "light"
     },
     "output_type": "display_data"
    },
    {
     "name": "stdout",
     "output_type": "stream",
     "text": [
      "the set of buildable targets\n"
     ]
    },
    {
     "data": {
      "image/png": "[encoded data removed]",
      "text/plain": [
       "<Figure size 288x288 with 1 Axes>"
      ]
     },
     "metadata": {
      "needs_background": "light"
     },
     "output_type": "display_data"
    }
   ],
   "source": [
    "for twelveset in setsof12buildMoreThan24:\n",
    "    n = NumberBuildable4SetTwelveCubes(twelveset, C36)\n",
    "    if n>25:\n",
    "        DisplaySetCubesandBuildableTargets(CubeCornersToNames(twelveset, C36), C36)"
   ]
  },
  {
   "cell_type": "code",
   "execution_count": null,
   "id": "cf59e907",
   "metadata": {},
   "outputs": [],
   "source": []
  },
  {
   "cell_type": "code",
   "execution_count": 40,
   "id": "1548fd4c",
   "metadata": {},
   "outputs": [],
   "source": [
    "#All of these sets of 12 build more than 24 cubes.  I will sort them by #buildable 25, 26, or 27 \n",
    "#still no examples of 12 found that build 28,29,or 30 targets (except 3 known min universals)\n",
    "\n",
    "#build 25 targets\n",
    "Set12_01 = [[235, 345, 154, 125, 162, 146, 364, 263], [152, 145, 354, 253, 236, 346, 164, 126], [124, 152, 253, 234, 364, 356, 165, 146], [245, 354, 153, 125, 162, 136, 346, 264], [153, 132, 124, 145, 465, 264, 236, 356], [154, 143, 132, 125, 265, 236, 346, 456], [152, 123, 134, 145, 465, 364, 263, 256], [123, 253, 354, 134, 146, 456, 265, 162], [152, 135, 345, 254, 246, 364, 163, 126], [243, 235, 125, 142, 164, 156, 365, 346], [245, 125, 132, 234, 364, 163, 156, 465], [153, 134, 142, 125, 265, 246, 364, 356]]\n",
    "Set12_02 = [[235, 153, 145, 254, 246, 164, 136, 263], [245, 154, 135, 253, 236, 163, 146, 264], [243, 123, 152, 254, 456, 165, 136, 346], [243, 235, 125, 142, 164, 156, 365, 346], [152, 135, 345, 254, 246, 364, 163, 126], [143, 234, 253, 135, 156, 265, 246, 164], [153, 354, 234, 132, 126, 246, 456, 165], [143, 124, 254, 345, 356, 265, 162, 136], [245, 125, 132, 234, 364, 163, 156, 465], [243, 254, 145, 134, 163, 156, 265, 236], [124, 132, 235, 254, 456, 365, 163, 146], [354, 245, 142, 134, 163, 126, 256, 365]]\n",
    "Set12_03 = [[143, 124, 254, 345, 356, 265, 162, 136], [152, 123, 134, 145, 465, 364, 263, 256], [154, 142, 123, 135, 365, 263, 246, 456], [154, 143, 132, 125, 265, 236, 346, 456], [354, 145, 124, 234, 263, 162, 156, 365], [245, 253, 123, 142, 164, 136, 356, 465], [354, 245, 142, 134, 163, 126, 256, 365], [153, 235, 243, 134, 146, 264, 256, 165], [245, 154, 135, 253, 236, 163, 146, 264], [243, 254, 145, 134, 163, 156, 265, 236], [245, 125, 132, 234, 364, 163, 156, 465], [235, 153, 145, 254, 246, 164, 136, 263]]\n",
    "Set12_04 = [[243, 254, 145, 134, 163, 156, 265, 236], [153, 134, 142, 125, 265, 246, 364, 356], [354, 245, 142, 134, 163, 126, 256, 365], [154, 142, 123, 135, 365, 263, 246, 456], [123, 243, 345, 135, 156, 465, 264, 162], [154, 143, 132, 125, 265, 236, 346, 456], [143, 345, 235, 132, 126, 256, 465, 164], [153, 235, 243, 134, 146, 264, 256, 165], [143, 124, 254, 345, 356, 265, 162, 136], [152, 145, 354, 253, 236, 346, 164, 126], [235, 153, 145, 254, 246, 164, 136, 263], [143, 154, 245, 234, 263, 256, 165, 136]]\n",
    "Set12_05 = [[143, 124, 254, 345, 356, 265, 162, 136], [235, 153, 145, 254, 246, 164, 136, 263], [245, 354, 153, 125, 162, 136, 346, 264], [143, 154, 245, 234, 263, 256, 165, 136], [152, 145, 354, 253, 236, 346, 164, 126], [153, 235, 243, 134, 146, 264, 256, 165], [243, 123, 152, 254, 456, 165, 136, 346], [154, 142, 123, 135, 365, 263, 246, 456], [245, 154, 135, 253, 236, 163, 146, 264], [143, 345, 235, 132, 126, 256, 465, 164], [245, 125, 132, 234, 364, 163, 156, 465], [124, 132, 235, 254, 456, 365, 163, 146]]\n",
    "Set12_06 = [[245, 154, 135, 253, 236, 163, 146, 264], [143, 234, 253, 135, 156, 265, 246, 164], [235, 153, 145, 254, 246, 164, 136, 263], [245, 253, 123, 142, 164, 136, 356, 465], [153, 354, 234, 132, 126, 246, 456, 165], [143, 345, 235, 132, 126, 256, 465, 164], [123, 253, 354, 134, 146, 456, 265, 162], [243, 235, 125, 142, 164, 156, 365, 346], [245, 354, 153, 125, 162, 136, 346, 264], [152, 145, 354, 253, 236, 346, 164, 126], [124, 152, 253, 234, 364, 356, 165, 146], [154, 142, 123, 135, 365, 263, 246, 456]]\n",
    "Set12_07 = [[153, 134, 142, 125, 265, 246, 364, 356], [143, 345, 235, 132, 126, 256, 465, 164], [245, 125, 132, 234, 364, 163, 156, 465], [354, 145, 124, 234, 263, 162, 156, 365], [123, 253, 354, 134, 146, 456, 265, 162], [153, 235, 243, 134, 146, 264, 256, 165], [154, 142, 123, 135, 365, 263, 246, 456], [243, 123, 152, 254, 456, 165, 136, 346], [124, 132, 235, 254, 456, 365, 163, 146], [243, 235, 125, 142, 164, 156, 365, 346], [243, 142, 154, 345, 356, 165, 126, 236], [143, 124, 254, 345, 356, 265, 162, 136]]\n",
    "Set12_08 = [[152, 124, 143, 135, 365, 346, 264, 256], [235, 153, 145, 254, 246, 164, 136, 263], [245, 125, 132, 234, 364, 163, 156, 465], [354, 145, 124, 234, 263, 162, 156, 365], [243, 235, 125, 142, 164, 156, 365, 346], [235, 345, 154, 125, 162, 146, 364, 263], [152, 135, 345, 254, 246, 364, 163, 126], [124, 152, 253, 234, 364, 356, 165, 146], [243, 142, 154, 345, 356, 165, 126, 236], [123, 243, 345, 135, 156, 465, 264, 162], [154, 143, 132, 125, 265, 236, 346, 456], [153, 235, 243, 134, 146, 264, 256, 165]]\n",
    "Set12_11 = [[123, 243, 345, 135, 156, 465, 264, 162], [152, 123, 134, 145, 465, 364, 263, 256], [153, 354, 234, 132, 126, 246, 456, 165], [245, 154, 135, 253, 236, 163, 146, 264], [354, 145, 124, 234, 263, 162, 156, 365], [243, 123, 152, 254, 456, 165, 136, 346], [245, 354, 153, 125, 162, 136, 346, 264], [235, 345, 154, 125, 162, 146, 364, 263], [153, 134, 142, 125, 265, 246, 364, 356], [235, 153, 145, 254, 246, 164, 136, 263], [124, 152, 253, 234, 364, 356, 165, 146], [154, 143, 132, 125, 265, 236, 346, 456]]\n",
    "Set12_12 = [[154, 143, 132, 125, 265, 236, 346, 456], [354, 145, 124, 234, 263, 162, 156, 365], [153, 235, 243, 134, 146, 264, 256, 165], [152, 135, 345, 254, 246, 364, 163, 126], [143, 154, 245, 234, 263, 256, 165, 136], [152, 123, 134, 145, 465, 364, 263, 256], [235, 153, 145, 254, 246, 164, 136, 263], [354, 245, 142, 134, 163, 126, 256, 365], [123, 243, 345, 135, 156, 465, 264, 162], [123, 253, 354, 134, 146, 456, 265, 162], [235, 345, 154, 125, 162, 146, 364, 263], [245, 253, 123, 142, 164, 136, 356, 465]]\n",
    "Set12_13 = [[153, 134, 142, 125, 265, 246, 364, 356], [152, 145, 354, 253, 236, 346, 164, 126], [243, 254, 145, 134, 163, 156, 265, 236], [154, 143, 132, 125, 265, 236, 346, 456], [152, 124, 143, 135, 365, 346, 264, 256], [235, 345, 154, 125, 162, 146, 364, 263], [143, 154, 245, 234, 263, 256, 165, 136], [143, 234, 253, 135, 156, 265, 246, 164], [123, 253, 354, 134, 146, 456, 265, 162], [235, 153, 145, 254, 246, 164, 136, 263], [245, 253, 123, 142, 164, 136, 356, 465], [354, 245, 142, 134, 163, 126, 256, 365]]\n",
    "Set12_14 = [[123, 243, 345, 135, 156, 465, 264, 162], [245, 125, 132, 234, 364, 163, 156, 465], [124, 152, 253, 234, 364, 356, 165, 146], [124, 132, 235, 254, 456, 365, 163, 146], [235, 153, 145, 254, 246, 164, 136, 263], [143, 124, 254, 345, 356, 265, 162, 136], [245, 154, 135, 253, 236, 163, 146, 264], [354, 245, 142, 134, 163, 126, 256, 365], [243, 142, 154, 345, 356, 165, 126, 236], [245, 354, 153, 125, 162, 136, 346, 264], [152, 145, 354, 253, 236, 346, 164, 126], [243, 254, 145, 134, 163, 156, 265, 236]]\n",
    "Set12_15 = [[243, 142, 154, 345, 356, 165, 126, 236], [354, 145, 124, 234, 263, 162, 156, 365], [152, 135, 345, 254, 246, 364, 163, 126], [243, 235, 125, 142, 164, 156, 365, 346], [245, 125, 132, 234, 364, 163, 156, 465], [243, 123, 152, 254, 456, 165, 136, 346], [245, 154, 135, 253, 236, 163, 146, 264], [235, 153, 145, 254, 246, 164, 136, 263], [123, 243, 345, 135, 156, 465, 264, 162], [143, 154, 245, 234, 263, 256, 165, 136], [354, 245, 142, 134, 163, 126, 256, 365], [123, 253, 354, 134, 146, 456, 265, 162]]\n",
    "Set12_16 = [[245, 125, 132, 234, 364, 163, 156, 465], [124, 152, 253, 234, 364, 356, 165, 146], [153, 134, 142, 125, 265, 246, 364, 356], [243, 235, 125, 142, 164, 156, 365, 346], [153, 132, 124, 145, 465, 264, 236, 356], [235, 345, 154, 125, 162, 146, 364, 263], [152, 124, 143, 135, 365, 346, 264, 256], [123, 253, 354, 134, 146, 456, 265, 162], [152, 135, 345, 254, 246, 364, 163, 126], [124, 132, 235, 254, 456, 365, 163, 146], [235, 153, 145, 254, 246, 164, 136, 263], [245, 354, 153, 125, 162, 136, 346, 264]]\n",
    "Set12_18 = [[153, 235, 243, 134, 146, 264, 256, 165], [243, 254, 145, 134, 163, 156, 265, 236], [152, 123, 134, 145, 465, 364, 263, 256], [243, 142, 154, 345, 356, 165, 126, 236], [143, 345, 235, 132, 126, 256, 465, 164], [354, 145, 124, 234, 263, 162, 156, 365], [245, 154, 135, 253, 236, 163, 146, 264], [153, 134, 142, 125, 265, 246, 364, 356], [245, 253, 123, 142, 164, 136, 356, 465], [153, 354, 234, 132, 126, 246, 456, 165], [143, 124, 254, 345, 356, 265, 162, 136], [152, 124, 143, 135, 365, 346, 264, 256]]\n",
    "Set12_20 = [[245, 354, 153, 125, 162, 136, 346, 264], [143, 154, 245, 234, 263, 256, 165, 136], [153, 134, 142, 125, 265, 246, 364, 356], [124, 132, 235, 254, 456, 365, 163, 146], [354, 245, 142, 134, 163, 126, 256, 365], [245, 125, 132, 234, 364, 163, 156, 465], [243, 123, 152, 254, 456, 165, 136, 346], [152, 135, 345, 254, 246, 364, 163, 126], [245, 253, 123, 142, 164, 136, 356, 465], [235, 345, 154, 125, 162, 146, 364, 263], [245, 154, 135, 253, 236, 163, 146, 264], [153, 132, 124, 145, 465, 264, 236, 356]]\n",
    "Set12_21 = [[245, 354, 153, 125, 162, 136, 346, 264], [235, 345, 154, 125, 162, 146, 364, 263], [245, 125, 132, 234, 364, 163, 156, 465], [143, 234, 253, 135, 156, 265, 246, 164], [235, 153, 145, 254, 246, 164, 136, 263], [124, 152, 253, 234, 364, 356, 165, 146], [152, 124, 143, 135, 365, 346, 264, 256], [152, 123, 134, 145, 465, 364, 263, 256], [153, 134, 142, 125, 265, 246, 364, 356], [153, 354, 234, 132, 126, 246, 456, 165], [154, 142, 123, 135, 365, 263, 246, 456], [243, 142, 154, 345, 356, 165, 126, 236]]\n",
    "Set12_22 = [[143, 234, 253, 135, 156, 265, 246, 164], [152, 124, 143, 135, 365, 346, 264, 256], [154, 142, 123, 135, 365, 263, 246, 456], [153, 354, 234, 132, 126, 246, 456, 165], [243, 254, 145, 134, 163, 156, 265, 236], [143, 154, 245, 234, 263, 256, 165, 136], [123, 243, 345, 135, 156, 465, 264, 162], [243, 142, 154, 345, 356, 165, 126, 236], [354, 245, 142, 134, 163, 126, 256, 365], [243, 235, 125, 142, 164, 156, 365, 346], [235, 345, 154, 125, 162, 146, 364, 263], [243, 123, 152, 254, 456, 165, 136, 346]]\n",
    "Set12_23 = [[153, 132, 124, 145, 465, 264, 236, 356], [143, 345, 235, 132, 126, 256, 465, 164], [123, 253, 354, 134, 146, 456, 265, 162], [152, 123, 134, 145, 465, 364, 263, 256], [143, 154, 245, 234, 263, 256, 165, 136], [243, 235, 125, 142, 164, 156, 365, 346], [354, 245, 142, 134, 163, 126, 256, 365], [124, 152, 253, 234, 364, 356, 165, 146], [152, 124, 143, 135, 365, 346, 264, 256], [153, 134, 142, 125, 265, 246, 364, 356], [243, 123, 152, 254, 456, 165, 136, 346], [152, 135, 345, 254, 246, 364, 163, 126]]\n",
    "Set12_24 = [[123, 243, 345, 135, 156, 465, 264, 162], [235, 345, 154, 125, 162, 146, 364, 263], [154, 142, 123, 135, 365, 263, 246, 456], [154, 143, 132, 125, 265, 236, 346, 456], [235, 153, 145, 254, 246, 164, 136, 263], [152, 124, 143, 135, 365, 346, 264, 256], [124, 152, 253, 234, 364, 356, 165, 146], [123, 253, 354, 134, 146, 456, 265, 162], [354, 245, 142, 134, 163, 126, 256, 365], [153, 132, 124, 145, 465, 264, 236, 356], [243, 123, 152, 254, 456, 165, 136, 346], [245, 125, 132, 234, 364, 163, 156, 465]]\n",
    "Set12_25 = [[154, 143, 132, 125, 265, 236, 346, 456], [245, 125, 132, 234, 364, 163, 156, 465], [152, 145, 354, 253, 236, 346, 164, 126], [154, 142, 123, 135, 365, 263, 246, 456], [243, 123, 152, 254, 456, 165, 136, 346], [153, 132, 124, 145, 465, 264, 236, 356], [123, 253, 354, 134, 146, 456, 265, 162], [152, 135, 345, 254, 246, 364, 163, 126], [124, 132, 235, 254, 456, 365, 163, 146], [123, 243, 345, 135, 156, 465, 264, 162], [153, 134, 142, 125, 265, 246, 364, 356], [153, 235, 243, 134, 146, 264, 256, 165]]\n",
    "Set12_26 = [[143, 124, 254, 345, 356, 265, 162, 136], [123, 243, 345, 135, 156, 465, 264, 162], [245, 154, 135, 253, 236, 163, 146, 264], [152, 145, 354, 253, 236, 346, 164, 126], [243, 142, 154, 345, 356, 165, 126, 236], [235, 345, 154, 125, 162, 146, 364, 263], [153, 235, 243, 134, 146, 264, 256, 165], [124, 132, 235, 254, 456, 365, 163, 146], [143, 345, 235, 132, 126, 256, 465, 164], [243, 235, 125, 142, 164, 156, 365, 346], [143, 154, 245, 234, 263, 256, 165, 136], [153, 354, 234, 132, 126, 246, 456, 165]]\n",
    "Set12_27 = [[124, 152, 253, 234, 364, 356, 165, 146], [354, 245, 142, 134, 163, 126, 256, 365], [124, 132, 235, 254, 456, 365, 163, 146], [235, 153, 145, 254, 246, 164, 136, 263], [152, 124, 143, 135, 365, 346, 264, 256], [245, 253, 123, 142, 164, 136, 356, 465], [154, 142, 123, 135, 365, 263, 246, 456], [245, 354, 153, 125, 162, 136, 346, 264], [243, 254, 145, 134, 163, 156, 265, 236], [143, 345, 235, 132, 126, 256, 465, 164], [143, 234, 253, 135, 156, 265, 246, 164], [243, 235, 125, 142, 164, 156, 365, 346]]\n",
    "Set12_28 = [[152, 124, 143, 135, 365, 346, 264, 256], [152, 145, 354, 253, 236, 346, 164, 126], [245, 253, 123, 142, 164, 136, 356, 465], [245, 125, 132, 234, 364, 163, 156, 465], [123, 253, 354, 134, 146, 456, 265, 162], [245, 354, 153, 125, 162, 136, 346, 264], [154, 142, 123, 135, 365, 263, 246, 456], [235, 153, 145, 254, 246, 164, 136, 263], [152, 135, 345, 254, 246, 364, 163, 126], [153, 235, 243, 134, 146, 264, 256, 165], [143, 124, 254, 345, 356, 265, 162, 136], [143, 234, 253, 135, 156, 265, 246, 164]]\n",
    "Set12_29 = [[124, 152, 253, 234, 364, 356, 165, 146], [143, 124, 254, 345, 356, 265, 162, 136], [243, 123, 152, 254, 456, 165, 136, 346], [354, 145, 124, 234, 263, 162, 156, 365], [153, 132, 124, 145, 465, 264, 236, 356], [153, 235, 243, 134, 146, 264, 256, 165], [243, 254, 145, 134, 163, 156, 265, 236], [243, 235, 125, 142, 164, 156, 365, 346], [152, 135, 345, 254, 246, 364, 163, 126], [245, 125, 132, 234, 364, 163, 156, 465], [154, 142, 123, 135, 365, 263, 246, 456], [245, 253, 123, 142, 164, 136, 356, 465]]\n",
    "Set12_30 = [[354, 245, 142, 134, 163, 126, 256, 365], [245, 125, 132, 234, 364, 163, 156, 465], [123, 253, 354, 134, 146, 456, 265, 162], [243, 235, 125, 142, 164, 156, 365, 346], [245, 154, 135, 253, 236, 163, 146, 264], [143, 234, 253, 135, 156, 265, 246, 164], [245, 253, 123, 142, 164, 136, 356, 465], [153, 132, 124, 145, 465, 264, 236, 356], [235, 345, 154, 125, 162, 146, 364, 263], [152, 135, 345, 254, 246, 364, 163, 126], [243, 123, 152, 254, 456, 165, 136, 346], [354, 145, 124, 234, 263, 162, 156, 365]]\n",
    "Set12_31 = [[143, 345, 235, 132, 126, 256, 465, 164], [124, 152, 253, 234, 364, 356, 165, 146], [153, 134, 142, 125, 265, 246, 364, 356], [123, 243, 345, 135, 156, 465, 264, 162], [143, 124, 254, 345, 356, 265, 162, 136], [354, 145, 124, 234, 263, 162, 156, 365], [245, 354, 153, 125, 162, 136, 346, 264], [243, 254, 145, 134, 163, 156, 265, 236], [124, 132, 235, 254, 456, 365, 163, 146], [153, 354, 234, 132, 126, 246, 456, 165], [243, 123, 152, 254, 456, 165, 136, 346], [245, 154, 135, 253, 236, 163, 146, 264]]\n",
    "\n",
    "#build 26 targets\n",
    "Set12_09 = [[235, 345, 154, 125, 162, 146, 364, 263], [152, 123, 134, 145, 465, 364, 263, 256], [154, 142, 123, 135, 365, 263, 246, 456], [245, 154, 135, 253, 236, 163, 146, 264], [143, 234, 253, 135, 156, 265, 246, 164], [354, 245, 142, 134, 163, 126, 256, 365], [153, 132, 124, 145, 465, 264, 236, 356], [354, 145, 124, 234, 263, 162, 156, 365], [154, 143, 132, 125, 265, 236, 346, 456], [243, 123, 152, 254, 456, 165, 136, 346], [243, 142, 154, 345, 356, 165, 126, 236], [235, 153, 145, 254, 246, 164, 136, 263]]\n",
    "Set12_10 = [[153, 235, 243, 134, 146, 264, 256, 165], [153, 132, 124, 145, 465, 264, 236, 356], [143, 154, 245, 234, 263, 256, 165, 136], [245, 253, 123, 142, 164, 136, 356, 465], [245, 125, 132, 234, 364, 163, 156, 465], [123, 243, 345, 135, 156, 465, 264, 162], [243, 123, 152, 254, 456, 165, 136, 346], [153, 354, 234, 132, 126, 246, 456, 165], [245, 154, 135, 253, 236, 163, 146, 264], [243, 235, 125, 142, 164, 156, 365, 346], [123, 253, 354, 134, 146, 456, 265, 162], [152, 123, 134, 145, 465, 364, 263, 256]]\n",
    "Set12_17 = [[143, 234, 253, 135, 156, 265, 246, 164], [153, 235, 243, 134, 146, 264, 256, 165], [243, 254, 145, 134, 163, 156, 265, 236], [124, 152, 253, 234, 364, 356, 165, 146], [143, 154, 245, 234, 263, 256, 165, 136], [152, 124, 143, 135, 365, 346, 264, 256], [354, 245, 142, 134, 163, 126, 256, 365], [143, 345, 235, 132, 126, 256, 465, 164], [154, 143, 132, 125, 265, 236, 346, 456], [143, 124, 254, 345, 356, 265, 162, 136], [123, 253, 354, 134, 146, 456, 265, 162], [152, 123, 134, 145, 465, 364, 263, 256]]\n",
    "Set12_32 = [[124, 152, 253, 234, 364, 356, 165, 146], [154, 142, 123, 135, 365, 263, 246, 456], [153, 132, 124, 145, 465, 264, 236, 356], [243, 123, 152, 254, 456, 165, 136, 346], [143, 154, 245, 234, 263, 256, 165, 136], [152, 124, 143, 135, 365, 346, 264, 256], [243, 142, 154, 345, 356, 165, 126, 236], [243, 254, 145, 134, 163, 156, 265, 236], [354, 145, 124, 234, 263, 162, 156, 365], [153, 134, 142, 125, 265, 246, 364, 356], [235, 345, 154, 125, 162, 146, 364, 263], [245, 253, 123, 142, 164, 136, 356, 465]]\n",
    "\n",
    "#build 27 targets\n",
    "Set12_19 = [[152, 145, 354, 253, 236, 346, 164, 126], [235, 153, 145, 254, 246, 164, 136, 263], [354, 145, 124, 234, 263, 162, 156, 365], [235, 345, 154, 125, 162, 146, 364, 263], [243, 254, 145, 134, 163, 156, 265, 236], [153, 132, 124, 145, 465, 264, 236, 356], [154, 142, 123, 135, 365, 263, 246, 456], [152, 124, 143, 135, 365, 346, 264, 256], [143, 154, 245, 234, 263, 256, 165, 136], [354, 245, 142, 134, 163, 126, 256, 365], [152, 123, 134, 145, 465, 364, 263, 256], [143, 124, 254, 345, 356, 265, 162, 136]]\n",
    "\n",
    "#27 :  1\n",
    "#26 :  4\n",
    "#25 :  27"
   ]
  },
  {
   "cell_type": "code",
   "execution_count": 43,
   "id": "99902ae0",
   "metadata": {},
   "outputs": [
    {
     "name": "stdout",
     "output_type": "stream",
     "text": [
      "The list has been written to main.txt.\n",
      "['item1', 'item2', 'item3', 'item4']\n"
     ]
    }
   ],
   "source": [
    "# Sample list of data\n",
    "my_list = [\"item1\", \"item2\", \"item3\", \"item4\"]\n",
    " \n",
    "# Specify the file path\n",
    "file_path = \"main.txt\"\n",
    " \n",
    "# Using \"with open\" syntax to automatically close the file\n",
    "with open(file_path, 'w') as file:\n",
    "    # Join the list elements into a single string with a newline character\n",
    "    data_to_write = '\\n'.join(my_list)\n",
    "     \n",
    "    # Write the data to the file\n",
    "    file.write(data_to_write)\n",
    " \n",
    "print(f\"The list has been written to {file_path}.\")\n",
    "print(my_list)"
   ]
  },
  {
   "cell_type": "code",
   "execution_count": 39,
   "id": "16640d43",
   "metadata": {},
   "outputs": [
    {
     "name": "stdout",
     "output_type": "stream",
     "text": [
      "these 26 cubes are Buildable:\n",
      "['123.456', '123.465', '123.546', '123.564', '123.645', '123.654', '124.356', '124.536', '124.563', '124.635', '124.653', '125.346', '125.364', '125.463', '125.634', '125.643', '126.345', '126.354', '126.435', '126.534', '126.543', '134.625', '135.426', '135.624', '136.425', '136.524']\n",
      "the original set of cubes\n"
     ]
    },
    {
     "data": {
      "image/png": "[encoded data removed]",
      "text/plain": [
       "<Figure size 288x288 with 1 Axes>"
      ]
     },
     "metadata": {
      "needs_background": "light"
     },
     "output_type": "display_data"
    },
    {
     "name": "stdout",
     "output_type": "stream",
     "text": [
      "the set of buildable targets\n"
     ]
    },
    {
     "data": {
      "image/png": "[encoded data removed]",
      "text/plain": [
       "<Figure size 288x288 with 1 Axes>"
      ]
     },
     "metadata": {
      "needs_background": "light"
     },
     "output_type": "display_data"
    }
   ],
   "source": [
    "DisplaySetCubesandBuildableTargets(CubeCornersToNames(Set12_32, C36), C36)"
   ]
  },
  {
   "cell_type": "code",
   "execution_count": null,
   "id": "abbe9638",
   "metadata": {},
   "outputs": [],
   "source": []
  },
  {
   "cell_type": "markdown",
   "id": "60f0396d",
   "metadata": {},
   "source": [
    "## How many sets of 12 can build all 30 targets?  What do they look like?"
   ]
  },
  {
   "cell_type": "markdown",
   "id": "05d0e5b6",
   "metadata": {},
   "source": [
    "Idea: Are the sets of 12 that build all 30"
   ]
  },
  {
   "cell_type": "code",
   "execution_count": null,
   "id": "d467617d",
   "metadata": {},
   "outputs": [],
   "source": []
  },
  {
   "cell_type": "code",
   "execution_count": null,
   "id": "5dab582f",
   "metadata": {},
   "outputs": [],
   "source": []
  }
 ],
 "metadata": {
  "kernelspec": {
   "display_name": "Python 3 (ipykernel)",
   "language": "python",
   "name": "python3"
  },
  "language_info": {
   "codemirror_mode": {
    "name": "ipython",
    "version": 3
   },
   "file_extension": ".py",
   "mimetype": "text/x-python",
   "name": "python",
   "nbconvert_exporter": "python",
   "pygments_lexer": "ipython3",
   "version": "3.9.12"
  }
 },
 "nbformat": 4,
 "nbformat_minor": 5
}
